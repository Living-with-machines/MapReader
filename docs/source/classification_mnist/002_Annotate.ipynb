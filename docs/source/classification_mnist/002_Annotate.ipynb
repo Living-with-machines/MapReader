{
 "cells": [
  {
   "cell_type": "markdown",
   "metadata": {},
   "source": [
    "# Annotate\n",
    "https://mapreader.readthedocs.io/en/latest/User-guide/Annotate.html"
   ]
  },
  {
   "cell_type": "code",
   "execution_count": 2,
   "metadata": {},
   "outputs": [],
   "source": [
    "%matplotlib inline\n",
    "%reload_ext autoreload\n",
    "%autoreload 2"
   ]
  },
  {
   "cell_type": "code",
   "execution_count": 3,
   "metadata": {},
   "outputs": [],
   "source": [
    "from mapreader.annotate.utils import prepare_annotation, save_annotation"
   ]
  },
  {
   "cell_type": "markdown",
   "metadata": {},
   "source": [
    "## Set up inputs"
   ]
  },
  {
   "cell_type": "code",
   "execution_count": 4,
   "metadata": {
    "scrolled": false
   },
   "outputs": [
    {
     "name": "stdout",
     "output_type": "stream",
     "text": [
      "Number of already annotated images: 108\n",
      "Number of images to be annotated (total): 92\n",
      "[WARNING] could not find mean_pixel_RGB in columns.\n",
      "Number of images to annotate (current batch): 92\n"
     ]
    }
   ],
   "source": [
    "userID = \"kasra\"\n",
    "annotation_tasks_file = \"./annotation_tasks_mnist.yaml\"\n",
    "task = \"mnist\"\n",
    "annotation_set = \"task_mnist\"\n",
    "\n",
    "annotate = prepare_annotation(userID, \n",
    "                                task, \n",
    "                                tree_level=\"parent\",\n",
    "                                annotation_tasks_file=annotation_tasks_file,\n",
    "                                annotation_set=annotation_set,\n",
    "                                sortby=\"mean\",\n",
    "                                min_alpha_channel=0.01,\n",
    "                                xoffset=50,\n",
    "                                yoffset=50,\n",
    "                                context_image=True,\n",
    "                                list_shortcuts=[\"1\", \"3\"]\n",
    "                               )"
   ]
  },
  {
   "cell_type": "markdown",
   "metadata": {},
   "source": [
    "## Annotate images and save annotations"
   ]
  },
  {
   "cell_type": "code",
   "execution_count": 5,
   "metadata": {},
   "outputs": [
    {
     "data": {
      "application/vnd.jupyter.widget-view+json": {
       "model_id": "a393c841a44d49649a90d73d0ee4190e",
       "version_major": 2,
       "version_minor": 0
      },
      "text/plain": [
       "Annotation(canvas=OutputCanvas(outputs=({'output_type': 'display_data', 'data': {'text/plain': '<Figure size 6…"
      ]
     },
     "metadata": {},
     "output_type": "display_data"
    }
   ],
   "source": [
    "annotate"
   ]
  },
  {
   "cell_type": "code",
   "execution_count": 7,
   "metadata": {},
   "outputs": [
    {
     "name": "stdout",
     "output_type": "stream",
     "text": [
      "[INFO] Save 46 new annotations to ./annotations_mnist/mnist_#kasra#.csv\n",
      "[INFO] 46 labels were not already stored\n",
      "[INFO] Total number of annotations: 154\n"
     ]
    }
   ],
   "source": [
    "save_annotation(annotate, \n",
    "                userID, \n",
    "                task, \n",
    "                annotation_tasks_file=annotation_tasks_file,\n",
    "                annotation_set=annotation_set)"
   ]
  }
 ],
 "metadata": {
  "kernelspec": {
   "display_name": "Python 3 (ipykernel)",
   "language": "python",
   "name": "python3"
  },
  "language_info": {
   "codemirror_mode": {
    "name": "ipython",
    "version": 3
   },
   "file_extension": ".py",
   "mimetype": "text/x-python",
   "name": "python",
   "nbconvert_exporter": "python",
   "pygments_lexer": "ipython3",
   "version": "3.8.16"
  }
 },
 "nbformat": 4,
 "nbformat_minor": 2
}
