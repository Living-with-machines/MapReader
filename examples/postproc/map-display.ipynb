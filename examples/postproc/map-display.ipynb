{
 "cells": [
  {
   "cell_type": "code",
   "execution_count": null,
   "metadata": {},
   "outputs": [],
   "source": [
    "# Setup stuff\n",
    "# !pip install leafmap"
   ]
  },
  {
   "cell_type": "code",
   "execution_count": null,
   "metadata": {},
   "outputs": [],
   "source": [
    "\n",
    "\"\"\"\n",
    "https://alan-turing-institute.slack.com/archives/C0218JE4B98/p1643642317502559\n",
    "\n",
    "https://thealanturininstitute.sharepoint.com/sites/lwm-team/Shared%20Documents/Forms/AllItems.a[…]MapReader%2F202111%5Ffiles%2Fresults%5Fv003&p=true\n",
    "* “all_patches_latlongpred” = as you expect, all patches\n",
    "* “pred_0103” = railspace with different thresholds\n",
    "* “pred_02” = building patches\n",
    "\n",
    "These are just screenshots, but you can get an idea of kepler here: https://github.com/alan-turing-institute/Living-with-Machines/issues/2789\n",
    "\"\"\"\n",
    "\n",
    "\n",
    "# All \"rail-space\" patches\n",
    "all_patches_csv_url = \"https://thealanturininstitute.sharepoint.com/:x:/s/lwm-team/EXiRPaBD6AJLhpugs5jfxNUBbqd0-tCogUR26o0i5v0DnA?e=2X1iyN\"\n",
    "\n"
   ]
  },
  {
   "cell_type": "code",
   "execution_count": null,
   "metadata": {},
   "outputs": [],
   "source": [
    "import leafmap.leafmap as leafmap\n"
   ]
  },
  {
   "cell_type": "code",
   "execution_count": null,
   "metadata": {},
   "outputs": [],
   "source": [
    "# Get NLS background maps\n",
    "# layer_name, min_zoom, max_zoom, tms_url\n",
    "nls_map_list = [\n",
    "    (\"OS 1945-1965, 1:25,000 (Outline), Ordnance Survey\"\t            , False, 1, 16, \"https://mapseries-tilesets.s3.amazonaws.com/os/25000_outline/{z}/{x}/{y}.png\"),\n",
    "    (\"OS 1920s-1940s, 1:1m to 1:63k, Ordnance Survey\"\t                , False, 1, 14, \"https://mapseries-tilesets.s3.amazonaws.com/api/nls/{z}/{x}/{y}.jpg\"),\n",
    "    (\"Bartholomew 1897-1907 - Half Inch, 1:126,720\"\t                    , True , 1, 15, \"https://mapseries-tilesets.s3.amazonaws.com/bartholomew_great_britain/{z}/{x}/{y}.png\"),\n",
    "    (\"Bartholomew 1940-1947 - Half Inch, 1:126,720\"\t                    , False, 1, 14, \"https://mapseries-tilesets.s3.amazonaws.com/bartholomew/great_britain_1940s/{z}/{x}/{y}.png\"),\n",
    "    (\"Admin Areas, 1956 - 1:633,600, 10 Mile, Ordnance Survey\"\t        , False, 1, 12, \"https://mapseries-tilesets.s3.amazonaws.com/ten_mile/admin/{z}/{x}/{y}.png\"),\n",
    "    (\"Coal & Iron, 1945 - 1:633, 10 Mile, Ordnance Survey,600\"\t        , False, 1, 12, \"https://mapseries-tilesets.s3.amazonaws.com/ten_mile/coal_iron/{z}/{x}/{y}.png\"),\n",
    "    (\"Farming, 1944 - 1:633,600, 10 Mile, Ordnance Survey\"\t            , False, 1, 12, \"https://mapseries-tilesets.s3.amazonaws.com/ten_mile/farming/{z}/{x}/{y}.png\"),\n",
    "    (\"General, 1955 - 1:633,600, 10 Mile, Ordnance Survey\"\t            , False, 1, 12, \"https://mapseries-tilesets.s3.amazonaws.com/ten_mile/general/{z}/{x}/{y}.png\"),\n",
    "    (\"Geological, 1955 - 1:633,600, 10 Mile, Ordnance Survey\"\t        , False, 1, 12, \"https://mapseries-tilesets.s3.amazonaws.com/ten_mile/geological/{z}/{x}/{y}.png\"),\n",
    "    (\"Iron and Steel, 1945 - 1:633, 10 Mile, Ordnance Survey,600\"\t    , False, 1, 12, \"https://mapseries-tilesets.s3.amazonaws.com/ten_mile/iron_steel/{z}/{x}/{y}.png\"),\n",
    "    (\"Land Classification, 1945 - 1:633,600, 10 Mile, Ordnance Survey\"\t, False, 1, 12, \"https://mapseries-tilesets.s3.amazonaws.com/ten_mile/land_classification/{z}/{x}/{y}.png\"),\n",
    "    (\"Land Utilisation, 1944 - 1:633,600, 10 Mile, Ordnance Survey\" \t, False, 1, 12, \"https://mapseries-tilesets.s3.amazonaws.com/ten_mile/land_utilisation/{z}/{x}/{y}.png\"),\n",
    "    (\"Limestone, 1955 - 1:633,600, 10 Mile, Ordnance Survey\"\t        , False, 1, 12, \"https://mapseries-tilesets.s3.amazonaws.com/ten_mile/limestone/{z}/{x}/{y}.png\"),\n",
    "    (\"Physical, 1957 - 1:633,600, 10 Mile, Ordnance Survey\"\t            , False, 1, 12, \"https://mapseries-tilesets.s3.amazonaws.com/ten_mile/physical/{z}/{x}/{y}.png\"),\n",
    "    (\"Railways, 1946 - 1:633,600, 10 Mile, Ordnance Survey\"\t            , False, 1, 12, \"https://mapseries-tilesets.s3.amazonaws.com/ten_mile/railway/{z}/{x}/{y}.png\"),\n",
    "    (\"Rainfall, 1881-1915 - 1:633,600, 10 Mile, Ordnance Survey\"\t    , False, 1, 12, \"https://mapseries-tilesets.s3.amazonaws.com/ten_mile/rainfall/{z}/{x}/{y}.png\"),\n",
    "    (\"Roads 1946, 1946 - 1:633,600, 10 Mile, Ordnance Survey\"\t        , False, 1, 12, \"https://mapseries-tilesets.s3.amazonaws.com/ten_mile/roads_46/{z}/{x}/{y}.png\"),\n",
    "    (\"Roads 1956, 1956 - 1:633,600, 10 Mile, Ordnance Survey\"\t        , False, 1, 12, \"https://mapseries-tilesets.s3.amazonaws.com/ten_mile/roads_56/{z}/{x}/{y}.png\")\n",
    "\n",
    "\n",
    "# OS secound Edition\n",
    "# https://nls-2.tileserver.com/fpsUZbULUtp1/{z}/{x}/{y}.jpg\n",
    "# OpenRailwayMap\n",
    "# https://a.tiles.openrailwaymap.org/standard/{z}/{x}/{y}.png\n",
    "]"
   ]
  },
  {
   "cell_type": "code",
   "execution_count": null,
   "metadata": {},
   "outputs": [],
   "source": [
    "m = leafmap.Map(center=[53, -0.5], zoom=5)\n",
    "\n",
    "for layer_name, visable, min_zoom, max_zoom, tms_url in nls_map_list:\n",
    "    # TODO: Update attribution with details from here https://maps.nls.uk/copyright.html\n",
    "    m.add_tile_layer(url=tms_url, name=layer_name, attribution=\"Reproduced with the permission of the National Library of Scotland\", shown=visable)\n",
    "\n",
    "# OpenRailwayMap\n",
    "# https://a.tiles.openrailwaymap.org/standard/{z}/{x}/{y}.png\n",
    "\n",
    "# Add locally hosted vector tiles\n",
    "# m.add_vector_tile_layer(\"http://localhost:8080/data/test-vector-tiles/{z}/{x}/{y}.pbf\")\n",
    "\n",
    "m"
   ]
  }
 ],
 "metadata": {
  "interpreter": {
   "hash": "31f2aee4e71d21fbe5cf8b01ff0e069b9275f58929596ceb00d14d90e3e16cd6"
  },
  "kernelspec": {
   "display_name": "Python 3.8.9 64-bit",
   "language": "python",
   "name": "python3"
  },
  "language_info": {
   "codemirror_mode": {
    "name": "ipython",
    "version": 3
   },
   "file_extension": ".py",
   "mimetype": "text/x-python",
   "name": "python",
   "nbconvert_exporter": "python",
   "pygments_lexer": "ipython3",
   "version": "3.10.2"
  },
  "orig_nbformat": 4
 },
 "nbformat": 4,
 "nbformat_minor": 2
}
