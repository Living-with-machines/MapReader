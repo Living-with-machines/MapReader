{
 "cells": [
  {
   "cell_type": "markdown",
   "metadata": {},
   "source": [
    "# Retrieve, patchify and plot map(s)"
   ]
  },
  {
   "cell_type": "markdown",
   "metadata": {},
   "source": [
    "Refer to [the installation section in README](https://github.com/Living-with-machines/MapReader#installation) to install `mapreader`."
   ]
  },
  {
   "cell_type": "code",
   "execution_count": null,
   "metadata": {},
   "outputs": [],
   "source": [
    "# solve issue with autocomplete\n",
    "%config Completer.use_jedi = False\n",
    "\n",
    "%load_ext autoreload\n",
    "%autoreload 2\n",
    "%matplotlib inline"
   ]
  },
  {
   "cell_type": "markdown",
   "metadata": {},
   "source": [
    "## Download maps via tileserver\n",
    "\n",
    "`tileserver` provides an easy way to download maps from, e.g.,\n",
    "\n",
    "* OS one-inch 2nd edition layer: https://mapseries-tilesets.s3.amazonaws.com/1inch_2nd_ed/index.html\n",
    "* OS six-inch 1st edition layer for Scotland at: https://mapseries-tilesets.s3.amazonaws.com/os/6inchfirst/index.html\n",
    "* ...\n",
    "\n",
    "By default, we use the `download_url` of OS one-inch 2nd edition layer:\n",
    "\"https://mapseries-tilesets.s3.amazonaws.com/1inch_2nd_ed/{z}/{x}/{y}.png\"\n",
    "\n",
    "This can be changed to OS six-inch 1st edition layer (Scotland) by specifying `download_url`.\n",
    "\n",
    "**To access other map series, please contact NLS.**"
   ]
  },
  {
   "cell_type": "code",
   "execution_count": null,
   "metadata": {},
   "outputs": [],
   "source": [
    "from mapreader import TileServer\n",
    "\n",
    "tileserver = TileServer(metadata_path=\"../../mapreader/persistent_data/metadata_OS_One_Inch_GB_WFS_light.json\",\n",
    "                        download_url=\"https://mapseries-tilesets.s3.amazonaws.com/1inch_2nd_ed/{z}/{x}/{y}.png\")\n",
    "\n",
    "# the default value of download_url:\n",
    "# \"https://mapseries-tilesets.s3.amazonaws.com/1inch_2nd_ed/{z}/{x}/{y}.png\""
   ]
  },
  {
   "cell_type": "code",
   "execution_count": null,
   "metadata": {},
   "outputs": [],
   "source": [
    "tileserver.plot_metadata_on_map(map_extent=\"uk\", add_text=True)"
   ]
  },
  {
   "cell_type": "code",
   "execution_count": null,
   "metadata": {},
   "outputs": [],
   "source": [
    "# It is possible to modify the read metadata:\n",
    "# tileserver.modify_metadata(remove_image_ids=[\"101168618\"])\n",
    "\n",
    "# # in the case of 1\" maps, list2remove=['167', '396', '428'] would remove all duplicated maps\n",
    "# tileserver.plot_metadata_on_map(list2remove=['167', '396', '428'],\n",
    "#                                 map_extent=\"uk\")"
   ]
  },
  {
   "cell_type": "code",
   "execution_count": null,
   "metadata": {},
   "outputs": [],
   "source": [
    "# To get the min/max of lats/lons (all maps read from metadata_path)\n",
    "tileserver.minmax_latlon()"
   ]
  },
  {
   "cell_type": "code",
   "execution_count": null,
   "metadata": {},
   "outputs": [],
   "source": [
    "tileserver.hist_published_dates()"
   ]
  },
  {
   "cell_type": "markdown",
   "metadata": {},
   "source": [
    "\n",
    "## Query maps using a list of lats/lons"
   ]
  },
  {
   "cell_type": "code",
   "execution_count": null,
   "metadata": {},
   "outputs": [],
   "source": [
    "tileserver.query_point([51.53, -0.12])\n",
    "# # if append = False, only the last query will be stored\n",
    "tileserver.query_point([51.4, 0.08], append=True)\n",
    "tileserver.query_point([51.4, -0.13], append=True)\n",
    "tileserver.query_point([51.52, 0.03], append=True)"
   ]
  },
  {
   "cell_type": "code",
   "execution_count": null,
   "metadata": {},
   "outputs": [],
   "source": [
    "# To print all found queries\n",
    "tileserver.print_found_queries()"
   ]
  },
  {
   "cell_type": "markdown",
   "metadata": {},
   "source": [
    "## Retrieve/download maps\n",
    "\n",
    "You can download either all the maps read from the `metadata_path` file (see above) or only those queried in the previous section. If the former, `mode` should be set to `all` in the following cell. Here, we download the queried maps (`mode=\"query\"`).\n",
    "\n",
    "In the following function, `pixel_closest`:\n",
    "\n",
    "```python\n",
    "pixel_closest (int): adjust the number of pixels in both directions (width and height)\n",
    "                     for example, if pixel_closest = 100, \n",
    "                     number of pixels in both directions will be multiples of 100\n",
    "                     this helps to create only square patches in processing step (see below)\n",
    "```"
   ]
  },
  {
   "cell_type": "code",
   "execution_count": null,
   "metadata": {
    "scrolled": false
   },
   "outputs": [],
   "source": [
    "tileserver.download_tileserver(mode=\"query\", \n",
    "                               zoom_level=14,\n",
    "                               pixel_closest=50,\n",
    "                               output_maps_dirname=\"./maps_tutorial\")"
   ]
  },
  {
   "cell_type": "markdown",
   "metadata": {},
   "source": [
    "---\n",
    "\n",
    "The results are stored in a directory structure as follow:\n",
    "\n",
    "```bash\n",
    "maps_tutorial\n",
    "├── map_101168609.png\n",
    "├── map_101168618.png\n",
    "├── map_101168702.png\n",
    "├── map_101168708.png\n",
    "└── metadata.csv\n",
    "geojson\n",
    "├── 101168609_0.geojson\n",
    "├── 101168618_3.geojson\n",
    "├── 101168702_2.geojson\n",
    "└── 101168708_1.geojson\n",
    "```"
   ]
  },
  {
   "cell_type": "markdown",
   "metadata": {},
   "source": [
    "## Load maps"
   ]
  },
  {
   "cell_type": "code",
   "execution_count": null,
   "metadata": {},
   "outputs": [],
   "source": [
    "from mapreader import loader\n",
    "path2images = \"./maps_tutorial/*png\"\n",
    "mymaps = loader(path2images)"
   ]
  },
  {
   "cell_type": "code",
   "execution_count": null,
   "metadata": {},
   "outputs": [],
   "source": [
    "# len() shows the total number of images currently read (or sliced, see below)\n",
    "print(f\"Number of images: {len(mymaps)}\")"
   ]
  },
  {
   "cell_type": "code",
   "execution_count": null,
   "metadata": {},
   "outputs": [],
   "source": [
    "# To get more information\n",
    "print(mymaps)"
   ]
  },
  {
   "cell_type": "markdown",
   "metadata": {},
   "source": [
    "### Add additional information (e.g., coordinates and URL) to the maps"
   ]
  },
  {
   "cell_type": "code",
   "execution_count": null,
   "metadata": {},
   "outputs": [],
   "source": [
    "path2metadata = \"./maps_tutorial/metadata.csv\"\n",
    "mymaps.add_metadata(metadata=path2metadata)"
   ]
  },
  {
   "cell_type": "code",
   "execution_count": null,
   "metadata": {
    "scrolled": true
   },
   "outputs": [],
   "source": [
    "mymaps.images"
   ]
  },
  {
   "cell_type": "markdown",
   "metadata": {},
   "source": [
    "## Plot sample maps"
   ]
  },
  {
   "cell_type": "code",
   "execution_count": null,
   "metadata": {},
   "outputs": [],
   "source": [
    "mymaps.show_sample(num_samples=2, tree_level=\"parent\")"
   ]
  },
  {
   "cell_type": "markdown",
   "metadata": {},
   "source": [
    "## Show one map"
   ]
  },
  {
   "cell_type": "code",
   "execution_count": null,
   "metadata": {},
   "outputs": [],
   "source": [
    "# list of all maps (and not patches)\n",
    "all_maps = mymaps.list_parents()\n",
    "\n",
    "# list of all patches (i.e., patches)\n",
    "# all_patches = mymaps.list_children()\n",
    "\n",
    "mymaps.show(all_maps[1], \n",
    "            tree_level=\"parent\", \n",
    "            # to change the resolution of the image for plotting\n",
    "            image_width_resolution=800)"
   ]
  },
  {
   "cell_type": "code",
   "execution_count": null,
   "metadata": {},
   "outputs": [],
   "source": [
    "# Create a KML file\n",
    "mymaps.show(all_maps[1], \n",
    "            tree_level=\"parent\",\n",
    "            save_kml_dir=\"./kml_tutorial\",\n",
    "            figsize=(20, 20),\n",
    "            image_width_resolution=600)"
   ]
  },
  {
   "cell_type": "markdown",
   "metadata": {},
   "source": [
    "## Slice maps"
   ]
  },
  {
   "cell_type": "code",
   "execution_count": null,
   "metadata": {},
   "outputs": [],
   "source": [
    "# list of all maps\n",
    "all_maps = mymaps.list_parents()\n",
    "\n",
    "xmin, xmax, ymin, ymax, myimg_shape, size_in_m = \\\n",
    "        mymaps.calc_pixel_width_height(all_maps[0])"
   ]
  },
  {
   "cell_type": "code",
   "execution_count": null,
   "metadata": {
    "scrolled": false
   },
   "outputs": [],
   "source": [
    "# `method` can also be set to meters\n",
    "mymaps.sliceAll(path_save=\"./maps_tutorial/slice_50_50\", \n",
    "                slice_size=50, # in pixels\n",
    "                square_cuts=False, \n",
    "                verbose=False,\n",
    "                method=\"pixel\")"
   ]
  },
  {
   "cell_type": "code",
   "execution_count": null,
   "metadata": {},
   "outputs": [],
   "source": [
    "mymaps.show_sample(4, tree_level=\"child\")"
   ]
  },
  {
   "cell_type": "markdown",
   "metadata": {},
   "source": [
    "## Show one map and its patches"
   ]
  },
  {
   "cell_type": "code",
   "execution_count": null,
   "metadata": {},
   "outputs": [],
   "source": [
    "# List of all maps\n",
    "all_maps = list(mymaps.images[\"parent\"].keys())\n",
    "\n",
    "mymaps.show_par(all_maps[1], \n",
    "                border=True, \n",
    "                plot_parent=True,\n",
    "                figsize=(15, 15))"
   ]
  },
  {
   "cell_type": "markdown",
   "metadata": {},
   "source": [
    "## Calculate mean and standard-deviation of pixel intensities\n",
    "\n",
    "`calc_pixel_stats` method can be used to calculate mean and standard-deviation of pixel intensities of each `child` (i.e., `patch`) in a `parent` image (i.e., original maps retrived via TileServer)."
   ]
  },
  {
   "cell_type": "code",
   "execution_count": null,
   "metadata": {},
   "outputs": [],
   "source": [
    "# if parent_id=\"XXX\", only compute pixel stats for that parent\n",
    "mymaps.calc_pixel_stats()"
   ]
  },
  {
   "cell_type": "code",
   "execution_count": null,
   "metadata": {},
   "outputs": [],
   "source": [
    "maps_pd, patches_pd = mymaps.convertImages(fmt=\"dataframe\")"
   ]
  },
  {
   "cell_type": "code",
   "execution_count": null,
   "metadata": {},
   "outputs": [],
   "source": [
    "maps_pd.head()"
   ]
  },
  {
   "cell_type": "code",
   "execution_count": null,
   "metadata": {},
   "outputs": [],
   "source": [
    "patches_pd.head()"
   ]
  },
  {
   "cell_type": "code",
   "execution_count": null,
   "metadata": {},
   "outputs": [],
   "source": [
    "patches_pd[\"mean_pixel_RGB\"].mean()"
   ]
  },
  {
   "cell_type": "markdown",
   "metadata": {},
   "source": [
    "Now that we have calculated the mean and standard-deviation of pixel intensities, we can plot them using `showAll` method. Note that in the following cell, we only plot one image (`all_maps[1]`):"
   ]
  },
  {
   "cell_type": "code",
   "execution_count": null,
   "metadata": {},
   "outputs": [],
   "source": [
    "# List of all maps\n",
    "all_maps = list(mymaps.images[\"parent\"].keys())\n",
    "\n",
    "# To plot the calculated means, use \n",
    "# value=\"mean_pixel\"\n",
    "mymaps.show_par(all_maps[1], \n",
    "                value=\"mean_pixel_RGB\",\n",
    "                border=False,\n",
    "                plot_parent=True,\n",
    "                vmin=0.75, vmax=0.9, \n",
    "                figsize=(20, 20),\n",
    "                alpha=0.5, \n",
    "                colorbar=\"RdBu\")"
   ]
  },
  {
   "cell_type": "markdown",
   "metadata": {},
   "source": [
    "## Create KML files, mean pixel intensities\n",
    "\n",
    "In this example, we plot the mean pixel intensities (computed in the previous section) and create KML files (the results are saved in `save_kml_dir`)."
   ]
  },
  {
   "cell_type": "code",
   "execution_count": null,
   "metadata": {
    "scrolled": true
   },
   "outputs": [],
   "source": [
    "# List of all maps\n",
    "all_maps = list(mymaps.images[\"parent\"].keys())\n",
    "\n",
    "# Plot the calculated means, use \n",
    "# value=\"mean_pixel\"\n",
    "# Note that save_kml_dir=\"./kml\"\n",
    "for image_id in all_maps:\n",
    "    mymaps.show_par(image_id, \n",
    "                    value=\"mean_pixel_RGB\", \n",
    "                    border=False, \n",
    "                    plot_parent=True,\n",
    "                    vmin=0.75, vmax=0.9, \n",
    "                    figsize=(20, 20),\n",
    "                    alpha=0.5, \n",
    "                    colorbar=\"RdBu\",\n",
    "                    save_kml_dir=\"./kml_mean_tutorial\")"
   ]
  }
 ],
 "metadata": {
  "kernelspec": {
   "display_name": "Python 3 (ipykernel)",
   "language": "python",
   "name": "python3"
  },
  "language_info": {
   "codemirror_mode": {
    "name": "ipython",
    "version": 3
   },
   "file_extension": ".py",
   "mimetype": "text/x-python",
   "name": "python",
   "nbconvert_exporter": "python",
   "pygments_lexer": "ipython3",
   "version": "3.8.12"
  }
 },
 "nbformat": 4,
 "nbformat_minor": 2
}
