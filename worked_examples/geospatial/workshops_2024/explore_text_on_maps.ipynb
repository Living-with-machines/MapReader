{
 "cells": [
  {
   "cell_type": "markdown",
   "metadata": {},
   "source": [
    "# Exploring Text on Maps"
   ]
  },
  {
   "cell_type": "code",
   "execution_count": 1,
   "metadata": {},
   "outputs": [],
   "source": [
    "# uncomment the following line to run if you have not yet installed geopandas\n",
    "#!pip install -q geopandas==1.0.0a1"
   ]
  },
  {
   "cell_type": "code",
   "execution_count": 25,
   "metadata": {},
   "outputs": [],
   "source": [
    "import pandas as pd\n",
    "import geopandas as geopd\n",
    "import matplotlib.pyplot as plt\n",
    "import plotly.express as px\n",
    "from ast import literal_eval\n",
    "from collections import Counter\n",
    "from tqdm import tqdm"
   ]
  },
  {
   "cell_type": "code",
   "execution_count": 2,
   "metadata": {},
   "outputs": [],
   "source": [
    "def load_dataframe(file_path: str):\n",
    "    # read file\n",
    "    df = pd.read_csv(file_path, index_col=0)\n",
    "\n",
    "    # eval columns\n",
    "    for col in df.columns:\n",
    "        try:\n",
    "            df[col] = df[col].apply(literal_eval)\n",
    "        except:\n",
    "            pass\n",
    "\n",
    "    # read polygon\n",
    "    if \"polygon\" in df.columns:\n",
    "        df[\"polygon\"] = df[\"polygon\"].apply(\n",
    "            lambda x: x if isinstance(x, Polygon) else wkt.loads(x)\n",
    "        )\n",
    "    else:\n",
    "        df[\"polygon\"] = df[\"coordinates\"].apply(\n",
    "            lambda x: Polygon.from_bounds(*x)\n",
    "        )\n",
    "\n",
    "    # convert to geo dataframe\n",
    "    df = geopd.GeoDataFrame(df, geometry=\"polygon\", crs=\"EPSG:4326\")\n",
    "\n",
    "    return df"
   ]
  },
  {
   "cell_type": "markdown",
   "metadata": {},
   "source": [
    "## 'Urban' vs 'Rural' text\n",
    "\n",
    "In this notebook we will investigate the textual description of urban and rural landscape. We compare labels that often appear in the built environment versus the rest of the map. \n",
    "\n",
    "This notebooks has the following structure:\n",
    "- for simplicity we convert all polygons to centroids\n",
    "- we iterate over the dataframe with patch predictions\n",
    "- we look which labels fall within a certain distance of the patch centoid\n",
    "- depending on the patch prediction (building or not building) we save the labels in different lists (`adjacent_text` and `other_text`)\n",
    "- we compute the probability of labels for each of these classes (`adjacent_text` and `other_text`) and compute the difference in proportions to foreground words that are associated with building patches ('urban' labels) and or not ('rural' labels)."
   ]
  },
  {
   "cell_type": "code",
   "execution_count": 16,
   "metadata": {},
   "outputs": [],
   "source": [
    "# load patch predictions and spotted text\n",
    "predictions = geopd.read_file(\"/path/to/building_patches.geojson\")\n",
    "spotted_text = geopd.read_file(\"/path/to/deepsolo_outputs.geojson\")"
   ]
  },
  {
   "cell_type": "code",
   "execution_count": 22,
   "metadata": {},
   "outputs": [
    {
     "name": "stdout",
     "output_type": "stream",
     "text": [
      "(10470, 11) (649, 6)\n"
     ]
    }
   ],
   "source": [
    "# print the shapeof the dataframes\n",
    "print(predictions.shape, spotted_text.shape)"
   ]
  },
  {
   "cell_type": "code",
   "execution_count": 23,
   "metadata": {},
   "outputs": [],
   "source": [
    "# convert polygons to centroids\n",
    "predictions['centroid'] = predictions['geometry'].to_crs(epsg=27700).centroid \n",
    "spotted_text['centroid'] = spotted_text['geometry'].to_crs(epsg=27700).centroid"
   ]
  },
  {
   "cell_type": "code",
   "execution_count": 39,
   "metadata": {},
   "outputs": [
    {
     "name": "stderr",
     "output_type": "stream",
     "text": [
      "  0%|          | 0/10470 [00:00<?, ?it/s]"
     ]
    },
    {
     "name": "stderr",
     "output_type": "stream",
     "text": [
      "100%|██████████| 10470/10470 [02:38<00:00, 65.91it/s]"
     ]
    },
    {
     "name": "stdout",
     "output_type": "stream",
     "text": [
      "1226 2360\n"
     ]
    },
    {
     "name": "stderr",
     "output_type": "stream",
     "text": [
      "\n"
     ]
    }
   ],
   "source": [
    "tqdm.pandas()\n",
    "adjacent_text = [] # here we store labels close to the target category, i.e. building clasified as 1\n",
    "other_text = [] # here we store the other labels\n",
    "target_label = 1\n",
    "distance = 100 # maximum distance in meters between patch and text centroid\n",
    "\n",
    "for i,row in tqdm(predictions.iterrows(), total=predictions.shape[0]):\n",
    "    # get text within a certain distance from the patch centroid\n",
    "    labels = spotted_text[spotted_text.to_crs(epsg=27700).distance(row.centroid) <= distance].text.tolist()\n",
    "    # if patch is classified as the target label, add text to adjacent_text, otherwise add to other_text\n",
    "    if row['pred'] == target_label:\n",
    "        adjacent_text.extend(labels)\n",
    "    else:   \n",
    "        other_text.extend(labels)\n",
    "\n",
    "print('Building labels',len(adjacent_text), 'Other labels',len(other_text))"
   ]
  },
  {
   "cell_type": "code",
   "execution_count": 40,
   "metadata": {},
   "outputs": [],
   "source": [
    "# get counts and probabilities of the text labels for the building category\n",
    "building_text_freq =  Counter([i.lower() for i in adjacent_text])\n",
    "building_text_prob = {k: v/ sum(building_text_freq.values()) for k,v in building_text_freq.items()}"
   ]
  },
  {
   "cell_type": "code",
   "execution_count": 41,
   "metadata": {},
   "outputs": [],
   "source": [
    "# get counts and probabilities of the text labels for the other category\n",
    "other_text_freq =  Counter([i.lower() for i in other_text])\n",
    "other_text_prob = {k: v/ sum(other_text_freq.values()) for k,v in other_text_freq.items()}"
   ]
  },
  {
   "cell_type": "code",
   "execution_count": 46,
   "metadata": {},
   "outputs": [
    {
     "name": "stdout",
     "output_type": "stream",
     "text": [
      "18 9\n",
      "0.01468189233278956 0.0038135593220338985\n"
     ]
    }
   ],
   "source": [
    "# compare both absoluate counts and probabilities of a give word\n",
    "word = 'street'\n",
    "print(building_text_freq[word], other_text_freq[word])\n",
    "print(building_text_prob[word], other_text_prob[word])"
   ]
  },
  {
   "cell_type": "code",
   "execution_count": 52,
   "metadata": {},
   "outputs": [],
   "source": [
    "# compute the proportional difference\n",
    "proportional_difference = sorted({w: building_text_prob.get(w,0) - other_text_prob.get(w,0) for w in other_text_prob.keys()}.items(), key=lambda x: x[1], reverse=True)\n"
   ]
  },
  {
   "cell_type": "code",
   "execution_count": 55,
   "metadata": {},
   "outputs": [
    {
     "name": "stdout",
     "output_type": "stream",
     "text": [
      "Building labels\n",
      "[('ph', 0.021111786988138356), ('church', 0.010868333010755661), ('street', 0.010868333010755661), ('lb', 0.01017986009345536), ('school', 0.010084469267564355)]\n",
      "Other labels\n",
      "[('old', -0.007976885005668151), ('colliery', -0.012510714186966018), ('bm', -0.013242043852130396), ('pit', -0.015021290126358281), ('sp', -0.01879268393839688)]\n"
     ]
    }
   ],
   "source": [
    "print('Building labels')\n",
    "print(proportional_difference[:5])\n",
    "print('Other labels')\n",
    "print(proportional_difference[-5:])"
   ]
  },
  {
   "cell_type": "code",
   "execution_count": 65,
   "metadata": {},
   "outputs": [
    {
     "data": {
      "text/plain": [
       "<Axes: title={'center': 'Top 10 terms in Building labels'}, xlabel='Term', ylabel='Difference in probability'>"
      ]
     },
     "execution_count": 65,
     "metadata": {},
     "output_type": "execute_result"
    },
    {
     "data": {
      "image/png": "[encoded data removed]",
      "text/plain": [
       "<Figure size 432x288 with 1 Axes>"
      ]
     },
     "metadata": {
      "needs_background": "light"
     },
     "output_type": "display_data"
    }
   ],
   "source": [
    "pd.DataFrame(proportional_difference[:10]).plot(kind='bar', x=0, y=1, legend=False, \n",
    "                            title='Top 10 terms in Building labels', \n",
    "                            xlabel='Term', ylabel='Difference in probability')"
   ]
  },
  {
   "cell_type": "code",
   "execution_count": 66,
   "metadata": {},
   "outputs": [
    {
     "data": {
      "text/plain": [
       "<Axes: title={'center': 'Top 10 terms in Other labels'}, xlabel='Term', ylabel='Difference in probability'>"
      ]
     },
     "execution_count": 66,
     "metadata": {},
     "output_type": "execute_result"
    },
    {
     "data": {
      "image/png": "[encoded data removed]",
      "text/plain": [
       "<Figure size 432x288 with 1 Axes>"
      ]
     },
     "metadata": {
      "needs_background": "light"
     },
     "output_type": "display_data"
    }
   ],
   "source": [
    "pd.DataFrame(proportional_difference[-10:]).plot(kind='bar', x=0, y=1, legend=False, \n",
    "                            title='Top 10 terms in Other labels', \n",
    "                            xlabel='Term', ylabel='Difference in probability')"
   ]
  },
  {
   "cell_type": "markdown",
   "metadata": {},
   "source": [
    "To get a sense of what some of the abbreviations mean, please go to the NLS website: https://maps.nls.uk/os/abbrev/"
   ]
  },
  {
   "cell_type": "markdown",
   "metadata": {},
   "source": [
    "# Visalizing the semantic of text on maps\n",
    "\n",
    "In the visualization below we encode each label to a vector using BERT-type language model. This generates a vector for each labels that approximates the 'meaning' of this label. Then we visualize these embeddigns in two dimensional space where you can explore the different semantic regions of the text data."
   ]
  },
  {
   "cell_type": "code",
   "execution_count": 67,
   "metadata": {},
   "outputs": [],
   "source": [
    "# uncomment the following line to run if you have not yet installed sentence-transformers, scikit-learn and plotly\n",
    "#!pip install -U -q sentence-transformers scikit-learn plotly"
   ]
  },
  {
   "cell_type": "code",
   "execution_count": 69,
   "metadata": {},
   "outputs": [],
   "source": [
    "import numpy as np\n",
    "import matplotlib.pyplot as plt\n",
    "from sklearn.manifold import TSNE\n",
    "from sentence_transformers import SentenceTransformer\n",
    "import plotly.express as px"
   ]
  },
  {
   "cell_type": "code",
   "execution_count": 70,
   "metadata": {},
   "outputs": [],
   "source": [
    "# get all text labels\n",
    "text_labels = spotted_text.text.str.lower().tolist()"
   ]
  },
  {
   "cell_type": "code",
   "execution_count": 71,
   "metadata": {},
   "outputs": [
    {
     "data": {
      "application/vnd.jupyter.widget-view+json": {
       "model_id": "b128cca21f584700a790d00c88097434",
       "version_major": 2,
       "version_minor": 0
      },
      "text/plain": [
       "modules.json:   0%|          | 0.00/229 [00:00<?, ?B/s]"
      ]
     },
     "metadata": {},
     "output_type": "display_data"
    },
    {
     "data": {
      "application/vnd.jupyter.widget-view+json": {
       "model_id": "df6bb44587514e80b9922f6b0970ca3c",
       "version_major": 2,
       "version_minor": 0
      },
      "text/plain": [
       "config_sentence_transformers.json:   0%|          | 0.00/122 [00:00<?, ?B/s]"
      ]
     },
     "metadata": {},
     "output_type": "display_data"
    },
    {
     "data": {
      "application/vnd.jupyter.widget-view+json": {
       "model_id": "786e274c73e340c6b6bcb4978427ceda",
       "version_major": 2,
       "version_minor": 0
      },
      "text/plain": [
       "README.md:   0%|          | 0.00/4.02k [00:00<?, ?B/s]"
      ]
     },
     "metadata": {},
     "output_type": "display_data"
    },
    {
     "data": {
      "application/vnd.jupyter.widget-view+json": {
       "model_id": "36dcdb103784413ab7aa8c48980bfd4f",
       "version_major": 2,
       "version_minor": 0
      },
      "text/plain": [
       "sentence_bert_config.json:   0%|          | 0.00/53.0 [00:00<?, ?B/s]"
      ]
     },
     "metadata": {},
     "output_type": "display_data"
    },
    {
     "data": {
      "application/vnd.jupyter.widget-view+json": {
       "model_id": "7960529468d94cdc9ea75e0257e52599",
       "version_major": 2,
       "version_minor": 0
      },
      "text/plain": [
       "config.json:   0%|          | 0.00/550 [00:00<?, ?B/s]"
      ]
     },
     "metadata": {},
     "output_type": "display_data"
    },
    {
     "data": {
      "application/vnd.jupyter.widget-view+json": {
       "model_id": "7a4b017b7f204136a3544bc86993ae91",
       "version_major": 2,
       "version_minor": 0
      },
      "text/plain": [
       "model.safetensors:   0%|          | 0.00/265M [00:00<?, ?B/s]"
      ]
     },
     "metadata": {},
     "output_type": "display_data"
    },
    {
     "data": {
      "application/vnd.jupyter.widget-view+json": {
       "model_id": "cc2441dbae194825a2edc8a52a9f0db0",
       "version_major": 2,
       "version_minor": 0
      },
      "text/plain": [
       "tokenizer_config.json:   0%|          | 0.00/450 [00:00<?, ?B/s]"
      ]
     },
     "metadata": {},
     "output_type": "display_data"
    },
    {
     "data": {
      "application/vnd.jupyter.widget-view+json": {
       "model_id": "2626ac9bbce248a6bbaa9708e1d2b1e9",
       "version_major": 2,
       "version_minor": 0
      },
      "text/plain": [
       "vocab.txt:   0%|          | 0.00/232k [00:00<?, ?B/s]"
      ]
     },
     "metadata": {},
     "output_type": "display_data"
    },
    {
     "data": {
      "application/vnd.jupyter.widget-view+json": {
       "model_id": "26b44e629d1749a0b9c66f37d6fd3691",
       "version_major": 2,
       "version_minor": 0
      },
      "text/plain": [
       "tokenizer.json:   0%|          | 0.00/466k [00:00<?, ?B/s]"
      ]
     },
     "metadata": {},
     "output_type": "display_data"
    },
    {
     "data": {
      "application/vnd.jupyter.widget-view+json": {
       "model_id": "f056f4a51be14767ade882fdd46f8551",
       "version_major": 2,
       "version_minor": 0
      },
      "text/plain": [
       "special_tokens_map.json:   0%|          | 0.00/112 [00:00<?, ?B/s]"
      ]
     },
     "metadata": {},
     "output_type": "display_data"
    },
    {
     "data": {
      "application/vnd.jupyter.widget-view+json": {
       "model_id": "314100a4038d4029b23d697c3a128b46",
       "version_major": 2,
       "version_minor": 0
      },
      "text/plain": [
       "1_Pooling/config.json:   0%|          | 0.00/190 [00:00<?, ?B/s]"
      ]
     },
     "metadata": {},
     "output_type": "display_data"
    }
   ],
   "source": [
    "# load pre-trained sentence transformer model\n",
    "model = SentenceTransformer('distilbert-base-nli-mean-tokens')\n",
    "\n",
    "# encode the sentences\n",
    "sentence_embeddings = model.encode(text_labels)\n",
    "\n"
   ]
  },
  {
   "cell_type": "code",
   "execution_count": 72,
   "metadata": {},
   "outputs": [
    {
     "name": "stderr",
     "output_type": "stream",
     "text": [
      "huggingface/tokenizers: The current process just got forked, after parallelism has already been used. Disabling parallelism to avoid deadlocks...\n",
      "To disable this warning, you can either:\n",
      "\t- Avoid using `tokenizers` before the fork if possible\n",
      "\t- Explicitly set the environment variable TOKENIZERS_PARALLELISM=(true | false)\n"
     ]
    }
   ],
   "source": [
    "# perform dimensionality reduction using TSNE\n",
    "tsne = TSNE(n_components=2, random_state=42)\n",
    "embeddings_tsne = tsne.fit_transform(sentence_embeddings)"
   ]
  },
  {
   "cell_type": "code",
   "execution_count": 75,
   "metadata": {},
   "outputs": [
    {
     "data": {
      "application/vnd.plotly.v1+json": {
       "config": {
        "plotlyServerURL": "https://plot.ly"
       },
       "data": [
        {
         "hovertemplate": "x=%{x}<br>y=%{y}<br>text=%{text}<extra></extra>",
         "legendgroup": "",
         "marker": {
          "color": "#636efa",
          "symbol": "circle"
         },
         "mode": "markers+text",
         "name": "",
         "orientation": "v",
         "showlegend": false,
         "text": [
          "mineral",
          "35",
          "rail",
          "pit",
          "135",
          "no",
          "cothery",
          "nerwtoncothery",
          "steel",
          "haltside",
          "works",
          "hall",
          "daldorie",
          "plantati",
          "hill",
          "147",
          "wood",
          "kenmuir",
          "kenmuir",
          "clydesrde",
          "ms",
          "junct",
          "ton",
          "sp",
          "irn",
          "ion",
          "hamilton",
          "kenmuir",
          "sp",
          "sand",
          "pit",
          "newton",
          "new",
          "tank",
          "266",
          "2122",
          "bm",
          "holm",
          "halls",
          "200",
          "grain",
          "mill",
          "mills",
          "mills",
          "lade",
          "mill",
          "weir",
          "clydes",
          "ughhead",
          "ford",
          "30",
          "colliery",
          "sand",
          "hallside",
          "227",
          "2016",
          "pit",
          "bm",
          "miner",
          "300",
          "chuckie",
          "hill",
          "broom",
          "villa",
          "lsshat",
          "100",
          "omhouse",
          "las",
          "sand",
          "pit",
          "140",
          "hone",
          "quarry",
          "old",
          "cairns",
          "house",
          "broom",
          "knowe",
          "hs",
          "bromknowe",
          "spring",
          "bm",
          "mains",
          "railw",
          "mine",
          "church",
          "lb",
          "ph",
          "184",
          "200",
          "ph",
          "haughhead",
          "colliery",
          "raylway",
          "al",
          "haughhead",
          "clyde",
          "mp",
          "asgow",
          "work",
          "ch",
          "bur",
          "railway",
          "up",
          "light",
          "bail",
          "way",
          "greenh",
          "clydeside",
          "coal",
          "rail",
          "ral",
          "pit",
          "100",
          "way",
          "sp",
          "mp",
          "railway",
          "94",
          "97",
          "threeneuk",
          "mineral",
          "railway",
          "bleach",
          "house",
          "mansion",
          "carmyle",
          "works",
          "carmyle",
          "sp",
          "junction",
          "sp",
          "old",
          "quarry",
          "rot",
          "142",
          "1302",
          "bm",
          "sand",
          "pit",
          "od",
          "railway",
          "cadzow",
          "road",
          "literary",
          "bm",
          "deive",
          "drive",
          "driye",
          "chap",
          "road",
          "coats",
          "bushyhill",
          "hill",
          "ground",
          "798",
          "football",
          "ph",
          "982",
          "bm",
          "bm798",
          "works",
          "ry",
          "250",
          "redlees",
          "bm747",
          "86",
          "bm",
          "24",
          "fire",
          "42",
          "works",
          "274",
          "2773",
          "bm",
          "hallside",
          "east",
          "castle",
          "site",
          "of",
          "west",
          "amsargad",
          "knowehend",
          "hallside",
          "coats",
          "avenit",
          "ve",
          "north",
          "road",
          "1039",
          "newton",
          "colliery",
          "pit",
          "50",
          "no",
          "93",
          "kenmuirhill",
          "docecot",
          "pond",
          "curling",
          "815",
          "bm",
          "bm815",
          "ouse",
          "deside",
          "pond",
          "roundknorve",
          "curling",
          "bm",
          "860",
          "mine",
          "codiv",
          "arly",
          "maryrille",
          "923",
          "old",
          "cambuslan",
          "cemetery",
          "162",
          "westburn",
          "lodge",
          "nburgh",
          "167",
          "sch",
          "minera",
          "ery",
          "farm",
          "vercton",
          "mns",
          "well",
          "eentees",
          "police",
          "gas",
          "sauehie",
          "statio",
          "treet",
          "sctroo",
          "road",
          "kilns",
          "uh",
          "clydef",
          "kilnsza",
          "clydeford",
          "86",
          "stree",
          "street",
          "colebrooke",
          "smithres",
          "coleb",
          "lity",
          "bla",
          "house",
          "referme",
          "1375",
          "bm",
          "ferme",
          "bm1375",
          "branch",
          "192",
          "ton",
          "gateside",
          "mineral",
          "rail",
          "rou",
          "onieshill",
          "lodge",
          "117",
          "hodge",
          "colliery",
          "sp",
          "ay",
          "westburn",
          "tion",
          "furm",
          "hallside",
          "old",
          "drive",
          "house",
          "morriston",
          "astle",
          "bure",
          "za",
          "kirk",
          "street",
          "road",
          "roman",
          "roman",
          "road",
          "watling",
          "stree",
          "watling",
          "site",
          "site",
          "200",
          "200",
          "colliery",
          "railway",
          "mineral",
          "bm",
          "687",
          "bm687",
          "blantyreferme",
          "div",
          "parly",
          "by",
          "co",
          "iron",
          "carmyle",
          "colliery",
          "clyde",
          "works",
          "uthe",
          "glasgow",
          "hamilton",
          "bm",
          "old",
          "overto",
          "vester",
          "aldorwie",
          "school",
          "wes",
          "west",
          "burn",
          "calloch",
          "douglas",
          "pbive",
          "coat",
          "late",
          "74",
          "590",
          "bm",
          "48",
          "bm590",
          "burnbrae",
          "lighthurn",
          "sprangiretl",
          "200",
          "halfiray",
          "ph",
          "westb",
          "sp",
          "ph",
          "sp",
          "rou",
          "lb",
          "stat",
          "new",
          "ail",
          "100",
          "100",
          "mineral",
          "villa",
          "bbourne",
          "wellside",
          "119",
          "170",
          "bm",
          "east",
          "ha",
          "miner",
          "463",
          "shaft",
          "old",
          "oidshaft",
          "bm",
          "ank",
          "550",
          "west",
          "railway",
          "st",
          "jose",
          "presbytery",
          "brid",
          "709",
          "neral",
          "on",
          "redlarood",
          "minister",
          "well",
          "disused",
          "quarry",
          "preaching",
          "chur",
          "kirkburn",
          "351",
          "sp",
          "33",
          "bogleshole",
          "m",
          "ouse",
          "lb",
          "avenue",
          "carmyle",
          "bm",
          "84",
          "church",
          "ph",
          "ion",
          "presbytery",
          "old",
          "50",
          "50",
          "36",
          "pit",
          "no",
          "55",
          "446",
          "bm",
          "windmil",
          "windmill",
          "calder",
          "cle",
          "north",
          "050",
          "flemington",
          "car",
          "car",
          "859",
          "97",
          "sp",
          "mineral",
          "round",
          "bothwell",
          "sp",
          "knoice",
          "nbr",
          "secti",
          "aa",
          "137",
          "school",
          "st",
          "charles",
          "bm",
          "139",
          "charless",
          "mine",
          "mine",
          "shaft",
          "old",
          "rail",
          "colliery",
          "shaft",
          "sp",
          "sp",
          "no",
          "pit",
          "disused",
          "bm",
          "enmuirhill",
          "manse",
          "200",
          "200",
          "fp",
          "cho",
          "chuch",
          "sp",
          "school",
          "mp",
          "parly",
          "div",
          "by",
          "iron",
          "colliery",
          "carmyle",
          "clyde",
          "pit",
          "works",
          "coatbridg",
          "jun",
          "pumping",
          "frams",
          "folly",
          "bm757",
          "bm",
          "railw",
          "urn",
          "colliery",
          "gateside",
          "way",
          "fb",
          "east",
          "quarry",
          "old",
          "bric",
          "quarry",
          "coats",
          "kirkhi",
          "kacarland",
          "kirk",
          "kirkh",
          "lodge",
          "145",
          "blanty",
          "152",
          "166",
          "1369",
          "31",
          "mineral",
          "rail",
          "161",
          "1595",
          "139",
          "200",
          "bm",
          "ab",
          "203",
          "bm",
          "bm1595",
          "priory",
          "remains",
          "blantyre",
          "blantyre",
          "of",
          "lodge",
          "ham",
          "lockha",
          "mount",
          "1297",
          "viaduct",
          "hamlt",
          "station",
          "branch",
          "sps",
          "sp",
          "ction",
          "fp",
          "sp",
          "mine",
          "rorc",
          "old",
          "mud",
          "atchison",
          "shaft",
          "fullarton",
          "todge",
          "bm",
          "house",
          "fuillarton",
          "128",
          "109",
          "bm",
          "bm",
          "bm917",
          "917",
          "948",
          "sp",
          "sps",
          "deans",
          "mp",
          "mineral",
          "colktery",
          "coltery",
          "brick",
          "coll",
          "gilbertfield",
          "works",
          "99",
          "roset",
          "34",
          "lodge",
          "93",
          "bm",
          "hous",
          "nercto",
          "757",
          "colliery",
          "pit",
          "shaft",
          "kenmuirhill",
          "church",
          "st",
          "181",
          "columbas",
          "calder",
          "calderglen",
          "100",
          "farm",
          "hallside",
          "nochouse",
          "ha",
          "bogend",
          "134",
          "collery",
          "1254",
          "hitefreld",
          "ground",
          "sp",
          "shite",
          "fotball",
          "school",
          "field",
          "works",
          "whitefeld",
          "bushy",
          "albert",
          "park",
          "street",
          "bank",
          "church",
          "148",
          "hill",
          "morriston",
          "143",
          "clan",
          "main",
          "hool",
          "geton",
          "cambuslang",
          "dye",
          "div",
          "parly",
          "ch",
          "works",
          "west",
          "sp",
          "lodge",
          "sp",
          "dovecot",
          "corogang",
          "marrage",
          "well",
          "cottages",
          "east",
          "carns",
          "ground",
          "newton",
          "nearton",
          "street",
          "pit",
          "football",
          "bridge",
          "sp",
          "street",
          "dunlop",
          "chool",
          "clyde",
          "clyde",
          "st",
          "107",
          "165",
          "bro",
          "100",
          "100",
          "monk",
          "ge",
          "44",
          "by",
          "old",
          "qua"
         ],
         "type": "scatter",
         "x": [
          -46.05947,
          -104.805664,
          -0.99963117,
          -51.7122,
          -76.79994,
          23.074467,
          43.05919,
          46.714344,
          -20.040516,
          20.35905,
          -41.907566,
          -22.786219,
          66.124565,
          59.370686,
          -0.115176216,
          -78.20837,
          10.592227,
          -22.668802,
          -20.112844,
          41.05676,
          72.14256,
          23.505558,
          -49.703804,
          1.1564709,
          9.717271,
          -31.135998,
          13.425742,
          -23.789352,
          -8.61314,
          106.20786,
          -51.7122,
          45.80689,
          25.77904,
          -31.030838,
          -99.83936,
          -134.15253,
          20.119673,
          -28.392138,
          -21.749979,
          -129.0177,
          -16.091831,
          -22.594105,
          -26.173405,
          -26.173405,
          20.194527,
          -22.594105,
          26.13458,
          34.686523,
          21.120636,
          103.27588,
          -115.25728,
          -65.6953,
          110.52982,
          -15.350727,
          -117.54243,
          -88.57134,
          -45.313572,
          25.842999,
          -58.502533,
          -122.154785,
          -14.886916,
          -2.97782,
          -36.157036,
          -67.90723,
          29.819304,
          113.4838,
          22.31913,
          50.385017,
          106.20786,
          -46.29929,
          -69.945404,
          -25.480318,
          -64.4329,
          56.599953,
          -62.175354,
          -80.01712,
          -36.157036,
          11.572323,
          34.609325,
          60.756317,
          -19.73569,
          10.93925,
          -36.658577,
          2.8567858,
          -40.411198,
          80.52846,
          52.016678,
          -39.179737,
          -117.68113,
          -129.0177,
          -39.179737,
          25.894384,
          -65.6953,
          37.758377,
          -0.16326155,
          26.061756,
          38.199364,
          70.24693,
          20.620184,
          -45.51895,
          -23.299156,
          12.907734,
          -12.9728775,
          -3.768871,
          1.2104745,
          48.293346,
          -5.904339,
          0.43059844,
          44.70359,
          -69.72084,
          -3.8512654,
          10.309576,
          -45.313572,
          113.4838,
          -4.127592,
          1.1564709,
          67.77861,
          -12.9728775,
          -20.04701,
          97.503296,
          31.889227,
          -46.05947,
          -8.158272,
          -36.90469,
          -80.01712,
          -79.48386,
          51.454617,
          -41.907566,
          50.31448,
          -3.7704954,
          -13.424213,
          -7.694971,
          56.599953,
          -64.4329,
          10.152802,
          -72.41088,
          -84.597404,
          15.90021,
          106.20786,
          -51.7122,
          26.43429,
          -12.961166,
          52.40023,
          99.67927,
          9.73777,
          12.106338,
          41.89151,
          113.69141,
          57.46559,
          -4.7806954,
          99.67927,
          74.974335,
          -9.168812,
          -2.97782,
          2.2489054,
          -55.840137,
          121.86257,
          -39.179737,
          103.31655,
          15.666951,
          -72.581116,
          -46.139893,
          -13.494508,
          -120.98419,
          -36.548027,
          -72.176155,
          -47.950306,
          16.065193,
          -113.47809,
          -59.846924,
          -97.49969,
          -46.139893,
          -105.878975,
          -108.8814,
          20.403456,
          -16.349852,
          -53.311474,
          -55.00429,
          -69.7419,
          0.30604228,
          99.418846,
          30.325644,
          15.027264,
          -15.350727,
          74.974335,
          53.214466,
          -6.8919883,
          50.5721,
          96.594025,
          109.68,
          49.42589,
          -65.6953,
          -46.29929,
          -93.81478,
          23.074467,
          -14.244474,
          -16.313068,
          48.8852,
          29.771168,
          -45.700615,
          -52.155148,
          24.46098,
          -80.74874,
          37.199326,
          27.671448,
          29.771168,
          65.445595,
          -45.353897,
          14.659212,
          -52.20163,
          -42.698074,
          64.981255,
          5.774188,
          60.098644,
          -14.042045,
          56.599953,
          84.892685,
          -74.79302,
          -92.37268,
          51.572063,
          -59.532864,
          16.008753,
          -95.152176,
          9.403925,
          -54.911854,
          16.061424,
          -60.314075,
          41.706337,
          14.924897,
          -8.139292,
          25.123281,
          96.488655,
          -64.42075,
          46.055305,
          67.80174,
          7.9138026,
          22.88054,
          99.67927,
          -79.51536,
          3.3549829,
          31.761412,
          -82.831795,
          36.73463,
          -47.950306,
          28.374178,
          88.07862,
          84.52281,
          -30.22789,
          11.256995,
          7.271809,
          23.553474,
          -80.01712,
          31.22106,
          -69.05993,
          11.161617,
          56.305603,
          -70.79733,
          10.943653,
          -122.38743,
          -49.703804,
          65.18282,
          -46.05947,
          -3.8512654,
          47.936005,
          -12.994792,
          -59.532864,
          83.21338,
          -19.851944,
          -65.6953,
          9.36342,
          12.713248,
          51.572063,
          4.336687,
          12.31164,
          -16.349852,
          56.599953,
          113.69141,
          -80.01712,
          29.311687,
          -7.8960323,
          15.585857,
          6.0069437,
          -39.65341,
          88.07862,
          99.67927,
          81.239914,
          81.239914,
          99.67927,
          14.468941,
          26.001226,
          14.468941,
          -69.06497,
          -72.56453,
          -129.0177,
          -129.0177,
          -65.6953,
          -12.961166,
          -41.441303,
          25.330927,
          -63.85187,
          -69.466965,
          43.129486,
          71.775856,
          -11.268246,
          -3.8015912,
          -18.306536,
          -20.393362,
          56.576523,
          -65.6953,
          38.199364,
          -41.193672,
          32.791508,
          44.886795,
          13.425742,
          25.464909,
          56.599953,
          -5.956844,
          25.24117,
          27.781126,
          -85.15469,
          -36.150276,
          99.418846,
          -56.289333,
          46.89064,
          -44.26114,
          34.564247,
          76.58276,
          33.03671,
          -61.633305,
          -85.126686,
          33.985657,
          -98.122696,
          -76.85108,
          -52.915154,
          1.3788884,
          7.668243,
          -129.0177,
          41.53463,
          -39.179737,
          96.22758,
          6.2711678,
          -39.179737,
          -3.2399666,
          46.836857,
          52.016678,
          65.88703,
          25.77904,
          8.664087,
          113.4838,
          113.4838,
          -46.05947,
          -67.90723,
          51.83415,
          35.7711,
          85.425606,
          -97.5391,
          22.926126,
          -53.311474,
          1.9444371,
          -58.502533,
          -98.00747,
          -36.65203,
          56.599953,
          28.982624,
          20.053358,
          10.379274,
          -83.26571,
          99.418846,
          -12.961166,
          44.496887,
          17.34951,
          84.53193,
          63.144947,
          -59.93983,
          28.206068,
          0.9161912,
          -35.97987,
          76.77752,
          -11.542959,
          26.313385,
          -64.4329,
          76.58747,
          -27.218506,
          -36.620094,
          -100.7078,
          7.4439325,
          -110.17672,
          -3.2593725,
          -7.5707145,
          38.899612,
          52.016678,
          81.065445,
          54.24027,
          20.475668,
          -43.422855,
          80.52846,
          -39.179737,
          -31.135998,
          84.53193,
          56.599953,
          -93.81478,
          -93.81478,
          -107.52339,
          -45.313572,
          21.675652,
          -86.93069,
          -96.57666,
          30.33197,
          -30.172234,
          -33.50829,
          -12.243478,
          31.733091,
          50.5721,
          19.332493,
          -12.118148,
          108.4956,
          108.4956,
          -50.09494,
          96.23325,
          -3.5962696,
          -41.441303,
          -1.0496811,
          -16.98013,
          4.828876,
          -21.494987,
          19.105742,
          -20.568813,
          0.7079955,
          -70.66717,
          -85.15469,
          45.57545,
          36.34602,
          17.722809,
          -65.636185,
          35.639538,
          -35.454037,
          -36.56202,
          -36.65203,
          56.599953,
          -3.8512654,
          -65.6953,
          -32.635025,
          1.9318676,
          12.012948,
          23.074467,
          -45.313572,
          26.313385,
          25.117233,
          -17.68519,
          -2.2663436,
          -129.0177,
          -129.0177,
          49.69774,
          -12.286287,
          -25.100296,
          13.558278,
          -85.15469,
          70.24693,
          -11.773467,
          70.83865,
          0.29611877,
          -23.064116,
          -65.6953,
          54.18597,
          38.199364,
          -46.29929,
          -47.8155,
          71.28116,
          25.582016,
          30.69021,
          21.646965,
          4.877185,
          -67.67628,
          27.841835,
          4.2904196,
          -49.418484,
          -65.6953,
          65.18282,
          -8.459163,
          46.813408,
          -53.311474,
          -68.87549,
          56.599953,
          59.66817,
          -68.87549,
          74.974335,
          -33.048653,
          37.842518,
          -38.495678,
          -34.722736,
          -56.57871,
          -76.840614,
          43.431805,
          -109.994,
          -96.606155,
          -72.56351,
          -115.73187,
          -46.05947,
          -3.8512654,
          -89.37216,
          -4.146817,
          -65.636185,
          -129.0177,
          30.791851,
          1.2117385,
          -137.26575,
          33.380676,
          -77.46647,
          -50.0157,
          5.3839602,
          40.154568,
          40.154568,
          -2.1291869,
          -56.57871,
          10.474458,
          -25.875948,
          -1.2669195,
          -87.03574,
          -4.139148,
          13.712278,
          -10.36265,
          12.404316,
          0.1509864,
          8.15572,
          0.56040794,
          49.69774,
          11.288794,
          -39.317875,
          43.009495,
          56.599953,
          4.965597,
          -32.182278,
          -32.635025,
          -24.429121,
          21.375425,
          29.986685,
          -80.01712,
          47.770905,
          -84.61314,
          101.330574,
          35.35191,
          20.888233,
          -79.15953,
          -14.795911,
          -22.757534,
          5.94222,
          0.1509864,
          78.79777,
          70.24693,
          -46.05947,
          41.537827,
          19.597303,
          107.393845,
          -14.237886,
          23.732512,
          -47.8155,
          105.62828,
          -3.0891113,
          -108.67724,
          -56.57871,
          -14.244474,
          28.964502,
          14.170212,
          31.695498,
          -62.245632,
          -65.6953,
          -52.54785,
          -36.923965,
          -16.313068,
          80.52846,
          41.82905,
          -115.274734,
          39.30072,
          -15.001862,
          -15.021334,
          113.4838,
          -62.915646,
          -16.349852,
          27.807695,
          4.0792007,
          -1.6916617,
          -79.05839,
          42.22071,
          -89.55414,
          5.322036,
          2.2489054,
          -6.169482,
          13.234792,
          61.418602,
          -85.15469,
          5.0893583,
          -47.8155,
          68.83684,
          -11.146893,
          23.873,
          1.9625946,
          88.07862,
          5.2405505,
          80.52846,
          -81.149254,
          1.2158629,
          27.69104,
          -73.07893,
          53.750797,
          -36.66493,
          17.706438,
          6.125433,
          82.736206,
          4.0757885,
          68.24559,
          -8.267215,
          -25.279724,
          -47.8155,
          99.418846,
          3.6577873,
          -56.57871,
          -0.56177974,
          -7.6210847,
          36.97454,
          55.305702,
          -11.525344,
          -65.3522,
          -53.311474,
          53.64225,
          2.2489054,
          45.80689,
          37.75818,
          88.07862,
          -46.29929,
          121.86257,
          -3.7597268,
          0.49908054,
          88.07862,
          -6.902805,
          -11.578237,
          38.199364,
          38.199364,
          40.689228,
          98.75924,
          -94.86981,
          -16.254768,
          113.4838,
          113.4838,
          83.01955,
          -22.362984,
          -98.45889,
          -2.2609875,
          56.599953,
          -5.000227
         ],
         "xaxis": "x",
         "y": [
          135.13031,
          -16.746939,
          132.1918,
          102.33116,
          -11.0657015,
          92.50841,
          -9.175081,
          -6.6139297,
          100.425224,
          102.98215,
          57.768112,
          26.59126,
          2.5836346,
          -36.983162,
          -79.38339,
          15.133256,
          -81.69277,
          -53.583538,
          -56.32465,
          -93.44624,
          -23.354864,
          -48.32969,
          -22.16985,
          -130.45154,
          -7.0249515,
          17.036936,
          -106.09024,
          -57.17198,
          -135.57462,
          53.248913,
          102.33116,
          76.06761,
          -73.94892,
          -104.07592,
          28.995193,
          15.733889,
          56.509052,
          -42.703274,
          30.453276,
          6.0632834,
          50.661674,
          49.37674,
          45.019726,
          45.019726,
          -25.479622,
          49.37674,
          -96.51881,
          -94.98005,
          5.903027,
          -41.07513,
          -14.864801,
          112.13343,
          52.68378,
          29.022703,
          6.4530244,
          39.859882,
          104.36454,
          67.05239,
          121.81386,
          -7.463087,
          -42.92,
          -76.27031,
          35.825188,
          -48.49527,
          -31.518936,
          14.9967785,
          -1.4063984,
          -41.52608,
          53.248913,
          97.691925,
          -1.4274853,
          -26.0894,
          83.719635,
          112.8289,
          68.73016,
          -56.30168,
          35.825188,
          -28.087704,
          -59.168373,
          9.1050205,
          -75.619156,
          54.823097,
          5.407265,
          123.62993,
          -8.569839,
          71.38501,
          61.49379,
          -119.77192,
          20.985136,
          6.0632834,
          -119.77192,
          7.489326,
          112.13343,
          -8.047452,
          3.3398438,
          4.7268434,
          -99.461494,
          35.838524,
          -5.7819934,
          63.688675,
          -12.181338,
          3.2145889,
          132.57832,
          -41.323,
          -59.08286,
          33.64532,
          -14.283927,
          -112.07688,
          -98.81906,
          121.50117,
          127.89625,
          -1.0279324,
          104.36454,
          14.9967785,
          -17.657188,
          -130.45154,
          39.41921,
          132.57832,
          66.82382,
          26.537626,
          6.4662285,
          135.13031,
          136.02876,
          -58.89453,
          -56.30168,
          -49.06942,
          4.152258,
          57.768112,
          0.57392645,
          -137.26521,
          116.08142,
          -129.61778,
          112.8289,
          83.719635,
          98.29136,
          4.817811,
          -27.032164,
          58.35732,
          53.248913,
          102.33116,
          -6.3274274,
          138.01137,
          21.442081,
          -56.379757,
          -55.697014,
          49.640705,
          -21.354437,
          -48.040085,
          -12.741914,
          20.080887,
          -56.379757,
          -85.71012,
          -83.725006,
          -76.27031,
          74.54888,
          27.566488,
          -25.995256,
          -119.77192,
          22.471684,
          63.870556,
          33.60927,
          51.169518,
          -21.855352,
          -1.1241657,
          -64.67641,
          39.685394,
          16.974012,
          53.466198,
          5.116328,
          -96.47119,
          21.348654,
          51.169518,
          39.8626,
          40.070377,
          61.059086,
          33.809853,
          6.0393195,
          -51.950035,
          66.64035,
          -14.439665,
          -14.991668,
          13.907238,
          -26.290756,
          29.022703,
          -85.71012,
          -54.653954,
          -22.297512,
          -72.45411,
          -51.95328,
          6.976447,
          76.90201,
          112.13343,
          97.691925,
          -4.55883,
          92.50841,
          68.42545,
          -65.24962,
          -13.093083,
          -124.78202,
          -80.78412,
          27.795107,
          57.289715,
          30.17061,
          -24.321491,
          100.199196,
          -124.78202,
          12.036554,
          -77.97223,
          44.617874,
          18.117693,
          -11.927951,
          -14.909299,
          -16.30855,
          -3.651318,
          74.9667,
          112.8289,
          -32.48965,
          71.57431,
          25.559248,
          -91.80527,
          -59.04722,
          -10.19706,
          37.597076,
          11.040555,
          116.991165,
          -19.980495,
          -37.3081,
          -14.734784,
          -5.2834864,
          -9.744035,
          -29.235996,
          -65.76105,
          -94.31478,
          -26.674263,
          -45.241245,
          -78.09913,
          -34.293293,
          -56.379757,
          103.55281,
          -11.253434,
          -101.8061,
          100.789894,
          -105.659874,
          16.974012,
          -63.146465,
          -59.451046,
          -18.066034,
          54.651005,
          -21.188133,
          -51.49278,
          37.18679,
          -56.30168,
          -10.438371,
          -14.079397,
          60.35983,
          -32.88318,
          28.051514,
          -69.17449,
          15.535262,
          -22.16985,
          -62.512787,
          135.13031,
          127.89625,
          -33.16434,
          -71.54113,
          -59.04722,
          19.11467,
          -4.233821,
          112.13343,
          -133.14748,
          -15.982721,
          -91.80527,
          -29.451054,
          7.952647,
          33.809853,
          112.8289,
          -48.040085,
          -56.30168,
          22.526495,
          7.0691957,
          1.6224086,
          2.8397849,
          -42.38161,
          -59.451046,
          -56.379757,
          1.4697969,
          1.4697969,
          -56.379757,
          -45.995525,
          -61.569187,
          -45.995525,
          63.02539,
          64.24625,
          6.0632834,
          6.0632834,
          112.13343,
          138.01137,
          131.36603,
          53.079765,
          36.526028,
          35.02397,
          15.895874,
          -8.662655,
          15.840414,
          -8.064201,
          -14.900629,
          95.579124,
          3.4391172,
          112.13343,
          -99.461494,
          52.688747,
          -45.920918,
          -105.574684,
          -106.09024,
          44.16704,
          112.8289,
          -28.799168,
          -22.373224,
          -39.177948,
          -76.61452,
          -21.069944,
          -14.991668,
          -97.354576,
          7.4076705,
          -38.252136,
          -33.496643,
          -81.12159,
          105.6035,
          19.826138,
          4.321033,
          59.876762,
          -0.32268283,
          25.507534,
          -97.6652,
          -55.98511,
          -33.64387,
          6.0632834,
          -41.56713,
          -119.77192,
          -10.600694,
          -129.46844,
          -119.77192,
          -126.33463,
          -35.758743,
          61.49379,
          -47.438805,
          -73.94892,
          88.53476,
          14.9967785,
          14.9967785,
          135.13031,
          -48.49527,
          -27.643156,
          -88.33951,
          16.84736,
          41.548813,
          48.386894,
          6.0393195,
          -1.3505383,
          121.81386,
          7.269914,
          79.269844,
          112.8289,
          -1.1025456,
          43.87585,
          -11.916901,
          -2.7376287,
          -14.991668,
          138.01137,
          -53.212833,
          -57.90966,
          61.76867,
          -25.728493,
          34.44586,
          -18.05067,
          -18.976814,
          -67.56315,
          53.853745,
          -7.7207336,
          105.767166,
          83.719635,
          60.74544,
          -4.3109274,
          -46.45693,
          -16.57247,
          -124.69916,
          -22.637638,
          94.96172,
          -3.4662893,
          -26.579426,
          61.49379,
          -57.54273,
          0.47755373,
          66.27612,
          19.886738,
          71.38501,
          -119.77192,
          17.036936,
          61.76867,
          112.8289,
          -4.55883,
          -4.55883,
          -13.413907,
          104.36454,
          88.32282,
          -2.1240695,
          11.339864,
          63.85188,
          -86.459724,
          -84.34477,
          -105.61948,
          -25.480293,
          -72.45411,
          -40.97207,
          -59.481667,
          -40.96133,
          -40.96133,
          22.321146,
          24.01101,
          -132.48853,
          131.36603,
          -24.0776,
          3.9504962,
          -134.42007,
          -34.42201,
          -12.102246,
          12.427657,
          8.758358,
          -10.738515,
          -76.61452,
          -57.02096,
          34.766644,
          48.859,
          -4.3283887,
          32.038002,
          -13.178607,
          -9.30227,
          79.269844,
          112.8289,
          127.89625,
          112.13343,
          81.99948,
          -124.63659,
          -128.80643,
          92.50841,
          104.36454,
          105.767166,
          61.850586,
          -69.61616,
          24.255157,
          6.0632834,
          6.0632834,
          41.622917,
          -34.414486,
          -2.2316139,
          -135.94958,
          -76.61452,
          35.838524,
          12.11875,
          -12.184494,
          -7.828792,
          96.665184,
          112.13343,
          6.6214876,
          -99.461494,
          97.691925,
          56.77753,
          -80.847946,
          -51.880493,
          -108.98652,
          -18.328379,
          89.77671,
          30.395514,
          49.280327,
          126.70572,
          87.20483,
          112.13343,
          -62.512787,
          -17.025919,
          44.953022,
          6.0393195,
          85.66169,
          112.8289,
          -24.437096,
          85.66169,
          -85.71012,
          -38.413235,
          -39.855553,
          -39.217937,
          -42.064922,
          -63.31049,
          9.993006,
          22.207558,
          19.299908,
          34.4206,
          -16.113634,
          -17.93764,
          135.13031,
          127.89625,
          24.383583,
          39.170742,
          -4.3283887,
          6.0632834,
          44.94873,
          13.645929,
          7.2505217,
          49.732254,
          30.604582,
          -56.778404,
          29.924047,
          19.61761,
          19.61761,
          -11.930557,
          -63.31049,
          20.308016,
          4.842521,
          -70.17569,
          -23.945896,
          57.18183,
          16.209906,
          123.9106,
          -71.58924,
          -147.69244,
          -137.94397,
          -34.447353,
          41.622917,
          -141.84572,
          -13.923637,
          -32.39733,
          112.8289,
          99.948006,
          -31.31276,
          81.99948,
          -65.41451,
          11.543716,
          53.95248,
          -56.30168,
          -19.80874,
          -21.666245,
          5.3338523,
          54.709103,
          52.34296,
          35.565617,
          78.241684,
          68.57345,
          -143.58997,
          -147.69244,
          51.308933,
          35.838524,
          135.13031,
          0.5046731,
          25.196379,
          45.45225,
          -0.104125984,
          20.312878,
          56.77753,
          16.544333,
          -46.89402,
          -18.23192,
          -63.31049,
          68.42545,
          58.46299,
          -35.426655,
          -17.929579,
          24.407732,
          112.13343,
          96.407486,
          84.09614,
          -65.24962,
          71.38501,
          -58.021946,
          23.369583,
          6.2983327,
          -106.231636,
          -101.069176,
          14.9967785,
          -36.08879,
          33.809853,
          88.62629,
          -3.7060726,
          92.425674,
          -13.193813,
          -2.6252673,
          -15.718228,
          -39.384205,
          74.54888,
          -141.766,
          94.46838,
          23.87739,
          -76.61452,
          -93.44423,
          56.77753,
          -31.929949,
          -86.48511,
          -12.548612,
          -89.03145,
          -59.451046,
          41.435074,
          71.38501,
          13.686492,
          -75.41226,
          24.82282,
          8.070774,
          12.922495,
          2.4833288,
          -34.90869,
          -24.257627,
          -34.343998,
          -47.348347,
          -9.513237,
          13.571647,
          -14.208668,
          56.77753,
          -14.991668,
          -139.24873,
          -63.31049,
          -141.18877,
          -50.12876,
          -1.1648055,
          -21.06343,
          -12.019953,
          -64.9781,
          6.0393195,
          -6.1361294,
          74.54888,
          76.06761,
          -15.162196,
          -59.451046,
          97.691925,
          -25.995256,
          53.484398,
          -135.84253,
          -59.451046,
          -101.227425,
          -37.566463,
          -99.461494,
          -99.461494,
          -54.200756,
          6.6884456,
          31.19096,
          -25.836435,
          14.9967785,
          14.9967785,
          47.353836,
          -19.441608,
          13.69353,
          -4.7815695,
          112.8289,
          0.6413961
         ],
         "yaxis": "y"
        }
       ],
       "layout": {
        "height": 1000,
        "legend": {
         "tracegroupgap": 0
        },
        "margin": {
         "t": 60
        },
        "template": {
         "data": {
          "bar": [
           {
            "error_x": {
             "color": "#2a3f5f"
            },
            "error_y": {
             "color": "#2a3f5f"
            },
            "marker": {
             "line": {
              "color": "#E5ECF6",
              "width": 0.5
             },
             "pattern": {
              "fillmode": "overlay",
              "size": 10,
              "solidity": 0.2
             }
            },
            "type": "bar"
           }
          ],
          "barpolar": [
           {
            "marker": {
             "line": {
              "color": "#E5ECF6",
              "width": 0.5
             },
             "pattern": {
              "fillmode": "overlay",
              "size": 10,
              "solidity": 0.2
             }
            },
            "type": "barpolar"
           }
          ],
          "carpet": [
           {
            "aaxis": {
             "endlinecolor": "#2a3f5f",
             "gridcolor": "white",
             "linecolor": "white",
             "minorgridcolor": "white",
             "startlinecolor": "#2a3f5f"
            },
            "baxis": {
             "endlinecolor": "#2a3f5f",
             "gridcolor": "white",
             "linecolor": "white",
             "minorgridcolor": "white",
             "startlinecolor": "#2a3f5f"
            },
            "type": "carpet"
           }
          ],
          "choropleth": [
           {
            "colorbar": {
             "outlinewidth": 0,
             "ticks": ""
            },
            "type": "choropleth"
           }
          ],
          "contour": [
           {
            "colorbar": {
             "outlinewidth": 0,
             "ticks": ""
            },
            "colorscale": [
             [
              0,
              "#0d0887"
             ],
             [
              0.1111111111111111,
              "#46039f"
             ],
             [
              0.2222222222222222,
              "#7201a8"
             ],
             [
              0.3333333333333333,
              "#9c179e"
             ],
             [
              0.4444444444444444,
              "#bd3786"
             ],
             [
              0.5555555555555556,
              "#d8576b"
             ],
             [
              0.6666666666666666,
              "#ed7953"
             ],
             [
              0.7777777777777778,
              "#fb9f3a"
             ],
             [
              0.8888888888888888,
              "#fdca26"
             ],
             [
              1,
              "#f0f921"
             ]
            ],
            "type": "contour"
           }
          ],
          "contourcarpet": [
           {
            "colorbar": {
             "outlinewidth": 0,
             "ticks": ""
            },
            "type": "contourcarpet"
           }
          ],
          "heatmap": [
           {
            "colorbar": {
             "outlinewidth": 0,
             "ticks": ""
            },
            "colorscale": [
             [
              0,
              "#0d0887"
             ],
             [
              0.1111111111111111,
              "#46039f"
             ],
             [
              0.2222222222222222,
              "#7201a8"
             ],
             [
              0.3333333333333333,
              "#9c179e"
             ],
             [
              0.4444444444444444,
              "#bd3786"
             ],
             [
              0.5555555555555556,
              "#d8576b"
             ],
             [
              0.6666666666666666,
              "#ed7953"
             ],
             [
              0.7777777777777778,
              "#fb9f3a"
             ],
             [
              0.8888888888888888,
              "#fdca26"
             ],
             [
              1,
              "#f0f921"
             ]
            ],
            "type": "heatmap"
           }
          ],
          "heatmapgl": [
           {
            "colorbar": {
             "outlinewidth": 0,
             "ticks": ""
            },
            "colorscale": [
             [
              0,
              "#0d0887"
             ],
             [
              0.1111111111111111,
              "#46039f"
             ],
             [
              0.2222222222222222,
              "#7201a8"
             ],
             [
              0.3333333333333333,
              "#9c179e"
             ],
             [
              0.4444444444444444,
              "#bd3786"
             ],
             [
              0.5555555555555556,
              "#d8576b"
             ],
             [
              0.6666666666666666,
              "#ed7953"
             ],
             [
              0.7777777777777778,
              "#fb9f3a"
             ],
             [
              0.8888888888888888,
              "#fdca26"
             ],
             [
              1,
              "#f0f921"
             ]
            ],
            "type": "heatmapgl"
           }
          ],
          "histogram": [
           {
            "marker": {
             "pattern": {
              "fillmode": "overlay",
              "size": 10,
              "solidity": 0.2
             }
            },
            "type": "histogram"
           }
          ],
          "histogram2d": [
           {
            "colorbar": {
             "outlinewidth": 0,
             "ticks": ""
            },
            "colorscale": [
             [
              0,
              "#0d0887"
             ],
             [
              0.1111111111111111,
              "#46039f"
             ],
             [
              0.2222222222222222,
              "#7201a8"
             ],
             [
              0.3333333333333333,
              "#9c179e"
             ],
             [
              0.4444444444444444,
              "#bd3786"
             ],
             [
              0.5555555555555556,
              "#d8576b"
             ],
             [
              0.6666666666666666,
              "#ed7953"
             ],
             [
              0.7777777777777778,
              "#fb9f3a"
             ],
             [
              0.8888888888888888,
              "#fdca26"
             ],
             [
              1,
              "#f0f921"
             ]
            ],
            "type": "histogram2d"
           }
          ],
          "histogram2dcontour": [
           {
            "colorbar": {
             "outlinewidth": 0,
             "ticks": ""
            },
            "colorscale": [
             [
              0,
              "#0d0887"
             ],
             [
              0.1111111111111111,
              "#46039f"
             ],
             [
              0.2222222222222222,
              "#7201a8"
             ],
             [
              0.3333333333333333,
              "#9c179e"
             ],
             [
              0.4444444444444444,
              "#bd3786"
             ],
             [
              0.5555555555555556,
              "#d8576b"
             ],
             [
              0.6666666666666666,
              "#ed7953"
             ],
             [
              0.7777777777777778,
              "#fb9f3a"
             ],
             [
              0.8888888888888888,
              "#fdca26"
             ],
             [
              1,
              "#f0f921"
             ]
            ],
            "type": "histogram2dcontour"
           }
          ],
          "mesh3d": [
           {
            "colorbar": {
             "outlinewidth": 0,
             "ticks": ""
            },
            "type": "mesh3d"
           }
          ],
          "parcoords": [
           {
            "line": {
             "colorbar": {
              "outlinewidth": 0,
              "ticks": ""
             }
            },
            "type": "parcoords"
           }
          ],
          "pie": [
           {
            "automargin": true,
            "type": "pie"
           }
          ],
          "scatter": [
           {
            "fillpattern": {
             "fillmode": "overlay",
             "size": 10,
             "solidity": 0.2
            },
            "type": "scatter"
           }
          ],
          "scatter3d": [
           {
            "line": {
             "colorbar": {
              "outlinewidth": 0,
              "ticks": ""
             }
            },
            "marker": {
             "colorbar": {
              "outlinewidth": 0,
              "ticks": ""
             }
            },
            "type": "scatter3d"
           }
          ],
          "scattercarpet": [
           {
            "marker": {
             "colorbar": {
              "outlinewidth": 0,
              "ticks": ""
             }
            },
            "type": "scattercarpet"
           }
          ],
          "scattergeo": [
           {
            "marker": {
             "colorbar": {
              "outlinewidth": 0,
              "ticks": ""
             }
            },
            "type": "scattergeo"
           }
          ],
          "scattergl": [
           {
            "marker": {
             "colorbar": {
              "outlinewidth": 0,
              "ticks": ""
             }
            },
            "type": "scattergl"
           }
          ],
          "scattermapbox": [
           {
            "marker": {
             "colorbar": {
              "outlinewidth": 0,
              "ticks": ""
             }
            },
            "type": "scattermapbox"
           }
          ],
          "scatterpolar": [
           {
            "marker": {
             "colorbar": {
              "outlinewidth": 0,
              "ticks": ""
             }
            },
            "type": "scatterpolar"
           }
          ],
          "scatterpolargl": [
           {
            "marker": {
             "colorbar": {
              "outlinewidth": 0,
              "ticks": ""
             }
            },
            "type": "scatterpolargl"
           }
          ],
          "scatterternary": [
           {
            "marker": {
             "colorbar": {
              "outlinewidth": 0,
              "ticks": ""
             }
            },
            "type": "scatterternary"
           }
          ],
          "surface": [
           {
            "colorbar": {
             "outlinewidth": 0,
             "ticks": ""
            },
            "colorscale": [
             [
              0,
              "#0d0887"
             ],
             [
              0.1111111111111111,
              "#46039f"
             ],
             [
              0.2222222222222222,
              "#7201a8"
             ],
             [
              0.3333333333333333,
              "#9c179e"
             ],
             [
              0.4444444444444444,
              "#bd3786"
             ],
             [
              0.5555555555555556,
              "#d8576b"
             ],
             [
              0.6666666666666666,
              "#ed7953"
             ],
             [
              0.7777777777777778,
              "#fb9f3a"
             ],
             [
              0.8888888888888888,
              "#fdca26"
             ],
             [
              1,
              "#f0f921"
             ]
            ],
            "type": "surface"
           }
          ],
          "table": [
           {
            "cells": {
             "fill": {
              "color": "#EBF0F8"
             },
             "line": {
              "color": "white"
             }
            },
            "header": {
             "fill": {
              "color": "#C8D4E3"
             },
             "line": {
              "color": "white"
             }
            },
            "type": "table"
           }
          ]
         },
         "layout": {
          "annotationdefaults": {
           "arrowcolor": "#2a3f5f",
           "arrowhead": 0,
           "arrowwidth": 1
          },
          "autotypenumbers": "strict",
          "coloraxis": {
           "colorbar": {
            "outlinewidth": 0,
            "ticks": ""
           }
          },
          "colorscale": {
           "diverging": [
            [
             0,
             "#8e0152"
            ],
            [
             0.1,
             "#c51b7d"
            ],
            [
             0.2,
             "#de77ae"
            ],
            [
             0.3,
             "#f1b6da"
            ],
            [
             0.4,
             "#fde0ef"
            ],
            [
             0.5,
             "#f7f7f7"
            ],
            [
             0.6,
             "#e6f5d0"
            ],
            [
             0.7,
             "#b8e186"
            ],
            [
             0.8,
             "#7fbc41"
            ],
            [
             0.9,
             "#4d9221"
            ],
            [
             1,
             "#276419"
            ]
           ],
           "sequential": [
            [
             0,
             "#0d0887"
            ],
            [
             0.1111111111111111,
             "#46039f"
            ],
            [
             0.2222222222222222,
             "#7201a8"
            ],
            [
             0.3333333333333333,
             "#9c179e"
            ],
            [
             0.4444444444444444,
             "#bd3786"
            ],
            [
             0.5555555555555556,
             "#d8576b"
            ],
            [
             0.6666666666666666,
             "#ed7953"
            ],
            [
             0.7777777777777778,
             "#fb9f3a"
            ],
            [
             0.8888888888888888,
             "#fdca26"
            ],
            [
             1,
             "#f0f921"
            ]
           ],
           "sequentialminus": [
            [
             0,
             "#0d0887"
            ],
            [
             0.1111111111111111,
             "#46039f"
            ],
            [
             0.2222222222222222,
             "#7201a8"
            ],
            [
             0.3333333333333333,
             "#9c179e"
            ],
            [
             0.4444444444444444,
             "#bd3786"
            ],
            [
             0.5555555555555556,
             "#d8576b"
            ],
            [
             0.6666666666666666,
             "#ed7953"
            ],
            [
             0.7777777777777778,
             "#fb9f3a"
            ],
            [
             0.8888888888888888,
             "#fdca26"
            ],
            [
             1,
             "#f0f921"
            ]
           ]
          },
          "colorway": [
           "#636efa",
           "#EF553B",
           "#00cc96",
           "#ab63fa",
           "#FFA15A",
           "#19d3f3",
           "#FF6692",
           "#B6E880",
           "#FF97FF",
           "#FECB52"
          ],
          "font": {
           "color": "#2a3f5f"
          },
          "geo": {
           "bgcolor": "white",
           "lakecolor": "white",
           "landcolor": "#E5ECF6",
           "showlakes": true,
           "showland": true,
           "subunitcolor": "white"
          },
          "hoverlabel": {
           "align": "left"
          },
          "hovermode": "closest",
          "mapbox": {
           "style": "light"
          },
          "paper_bgcolor": "white",
          "plot_bgcolor": "#E5ECF6",
          "polar": {
           "angularaxis": {
            "gridcolor": "white",
            "linecolor": "white",
            "ticks": ""
           },
           "bgcolor": "#E5ECF6",
           "radialaxis": {
            "gridcolor": "white",
            "linecolor": "white",
            "ticks": ""
           }
          },
          "scene": {
           "xaxis": {
            "backgroundcolor": "#E5ECF6",
            "gridcolor": "white",
            "gridwidth": 2,
            "linecolor": "white",
            "showbackground": true,
            "ticks": "",
            "zerolinecolor": "white"
           },
           "yaxis": {
            "backgroundcolor": "#E5ECF6",
            "gridcolor": "white",
            "gridwidth": 2,
            "linecolor": "white",
            "showbackground": true,
            "ticks": "",
            "zerolinecolor": "white"
           },
           "zaxis": {
            "backgroundcolor": "#E5ECF6",
            "gridcolor": "white",
            "gridwidth": 2,
            "linecolor": "white",
            "showbackground": true,
            "ticks": "",
            "zerolinecolor": "white"
           }
          },
          "shapedefaults": {
           "line": {
            "color": "#2a3f5f"
           }
          },
          "ternary": {
           "aaxis": {
            "gridcolor": "white",
            "linecolor": "white",
            "ticks": ""
           },
           "baxis": {
            "gridcolor": "white",
            "linecolor": "white",
            "ticks": ""
           },
           "bgcolor": "#E5ECF6",
           "caxis": {
            "gridcolor": "white",
            "linecolor": "white",
            "ticks": ""
           }
          },
          "title": {
           "x": 0.05
          },
          "xaxis": {
           "automargin": true,
           "gridcolor": "white",
           "linecolor": "white",
           "ticks": "",
           "title": {
            "standoff": 15
           },
           "zerolinecolor": "white",
           "zerolinewidth": 2
          },
          "yaxis": {
           "automargin": true,
           "gridcolor": "white",
           "linecolor": "white",
           "ticks": "",
           "title": {
            "standoff": 15
           },
           "zerolinecolor": "white",
           "zerolinewidth": 2
          }
         }
        },
        "width": 1000,
        "xaxis": {
         "anchor": "y",
         "domain": [
          0,
          1
         ],
         "title": {
          "text": "x"
         }
        },
        "yaxis": {
         "anchor": "x",
         "domain": [
          0,
          1
         ],
         "title": {
          "text": "y"
         }
        }
       }
      }
     },
     "metadata": {},
     "output_type": "display_data"
    }
   ],
   "source": [
    "# visualize the labels in 2D scatter plot\n",
    "data = pd.DataFrame(embeddings_tsne, columns=['x','y'])\n",
    "data['text'] = text_labels\n",
    "fig = px.scatter(data, x=\"x\", y=\"y\", text='text', width=1000, height=1000,)\n",
    "fig.show()"
   ]
  },
  {
   "cell_type": "code",
   "execution_count": 79,
   "metadata": {},
   "outputs": [
    {
     "data": {
      "application/vnd.plotly.v1+json": {
       "config": {
        "plotlyServerURL": "https://plot.ly"
       },
       "data": [
        {
         "hovertemplate": "x=%{x}<br>y=%{y}<br>text=%{text}<extra></extra>",
         "legendgroup": "",
         "marker": {
          "color": "#636efa",
          "symbol": "circle"
         },
         "mode": "markers+text",
         "name": "",
         "orientation": "v",
         "showlegend": false,
         "text": [
          "mineral",
          "rail",
          "pit",
          "no",
          "cothery",
          "nerwtoncothery",
          "steel",
          "haltside",
          "works",
          "hall",
          "daldorie",
          "plantati",
          "hill",
          "wood",
          "kenmuir",
          "kenmuir",
          "clydesrde",
          "ms",
          "junct",
          "ton",
          "sp",
          "irn",
          "ion",
          "hamilton",
          "kenmuir",
          "sp",
          "sand",
          "pit",
          "newton",
          "new",
          "tank",
          "bm",
          "holm",
          "halls",
          "grain",
          "mill",
          "mills",
          "mills",
          "lade",
          "mill",
          "weir",
          "clydes",
          "ughhead",
          "ford",
          "colliery",
          "sand",
          "hallside",
          "pit",
          "bm",
          "miner",
          "chuckie",
          "hill",
          "broom",
          "villa",
          "lsshat",
          "omhouse",
          "las",
          "sand",
          "pit",
          "hone",
          "quarry",
          "old",
          "cairns",
          "house",
          "broom",
          "knowe",
          "hs",
          "bromknowe",
          "spring",
          "bm",
          "mains",
          "railw",
          "mine",
          "church",
          "lb",
          "ph",
          "ph",
          "haughhead",
          "colliery",
          "raylway",
          "al",
          "haughhead",
          "clyde",
          "mp",
          "asgow",
          "work",
          "ch",
          "bur",
          "railway",
          "up",
          "light",
          "bail",
          "way",
          "greenh",
          "clydeside",
          "coal",
          "rail",
          "ral",
          "pit",
          "way",
          "sp",
          "mp",
          "railway",
          "threeneuk",
          "mineral",
          "railway",
          "bleach",
          "house",
          "mansion",
          "carmyle",
          "works",
          "carmyle",
          "sp",
          "junction",
          "sp",
          "old",
          "quarry",
          "rot",
          "bm",
          "sand",
          "pit",
          "od",
          "railway",
          "cadzow",
          "road",
          "literary",
          "bm",
          "deive",
          "drive",
          "driye",
          "chap",
          "road",
          "coats",
          "bushyhill",
          "hill",
          "ground",
          "football",
          "ph",
          "bm",
          "works",
          "ry",
          "redlees",
          "bm",
          "fire",
          "works",
          "bm",
          "hallside",
          "east",
          "castle",
          "site",
          "of",
          "west",
          "amsargad",
          "knowehend",
          "hallside",
          "coats",
          "avenit",
          "ve",
          "north",
          "road",
          "newton",
          "colliery",
          "pit",
          "no",
          "kenmuirhill",
          "docecot",
          "pond",
          "curling",
          "bm",
          "ouse",
          "deside",
          "pond",
          "roundknorve",
          "curling",
          "bm",
          "mine",
          "codiv",
          "arly",
          "maryrille",
          "old",
          "cambuslan",
          "cemetery",
          "westburn",
          "lodge",
          "nburgh",
          "sch",
          "minera",
          "ery",
          "farm",
          "vercton",
          "mns",
          "well",
          "eentees",
          "police",
          "gas",
          "sauehie",
          "statio",
          "treet",
          "sctroo",
          "road",
          "kilns",
          "uh",
          "clydef",
          "kilnsza",
          "clydeford",
          "stree",
          "street",
          "colebrooke",
          "smithres",
          "coleb",
          "lity",
          "bla",
          "house",
          "referme",
          "bm",
          "ferme",
          "branch",
          "ton",
          "gateside",
          "mineral",
          "rail",
          "rou",
          "onieshill",
          "lodge",
          "hodge",
          "colliery",
          "sp",
          "ay",
          "westburn",
          "tion",
          "furm",
          "hallside",
          "old",
          "drive",
          "house",
          "morriston",
          "astle",
          "bure",
          "za",
          "kirk",
          "street",
          "road",
          "roman",
          "roman",
          "road",
          "watling",
          "stree",
          "watling",
          "site",
          "site",
          "colliery",
          "railway",
          "mineral",
          "bm",
          "blantyreferme",
          "div",
          "parly",
          "by",
          "co",
          "iron",
          "carmyle",
          "colliery",
          "clyde",
          "works",
          "uthe",
          "glasgow",
          "hamilton",
          "bm",
          "old",
          "overto",
          "vester",
          "aldorwie",
          "school",
          "wes",
          "west",
          "burn",
          "calloch",
          "douglas",
          "pbive",
          "coat",
          "late",
          "bm",
          "burnbrae",
          "lighthurn",
          "sprangiretl",
          "halfiray",
          "ph",
          "westb",
          "sp",
          "ph",
          "sp",
          "rou",
          "lb",
          "stat",
          "new",
          "ail",
          "mineral",
          "villa",
          "bbourne",
          "wellside",
          "bm",
          "east",
          "ha",
          "miner",
          "shaft",
          "old",
          "oidshaft",
          "bm",
          "ank",
          "west",
          "railway",
          "st",
          "jose",
          "presbytery",
          "brid",
          "neral",
          "on",
          "redlarood",
          "minister",
          "well",
          "disused",
          "quarry",
          "preaching",
          "chur",
          "kirkburn",
          "sp",
          "bogleshole",
          "m",
          "ouse",
          "lb",
          "avenue",
          "carmyle",
          "bm",
          "church",
          "ph",
          "ion",
          "presbytery",
          "old",
          "pit",
          "no",
          "bm",
          "windmil",
          "windmill",
          "calder",
          "cle",
          "north",
          "flemington",
          "car",
          "car",
          "sp",
          "mineral",
          "round",
          "bothwell",
          "sp",
          "knoice",
          "nbr",
          "secti",
          "aa",
          "school",
          "st",
          "charles",
          "bm",
          "charless",
          "mine",
          "mine",
          "shaft",
          "old",
          "rail",
          "colliery",
          "shaft",
          "sp",
          "sp",
          "no",
          "pit",
          "disused",
          "bm",
          "enmuirhill",
          "manse",
          "fp",
          "cho",
          "chuch",
          "sp",
          "school",
          "mp",
          "parly",
          "div",
          "by",
          "iron",
          "colliery",
          "carmyle",
          "clyde",
          "pit",
          "works",
          "coatbridg",
          "jun",
          "pumping",
          "frams",
          "folly",
          "bm",
          "railw",
          "urn",
          "colliery",
          "gateside",
          "way",
          "fb",
          "east",
          "quarry",
          "old",
          "bric",
          "quarry",
          "coats",
          "kirkhi",
          "kacarland",
          "kirk",
          "kirkh",
          "lodge",
          "blanty",
          "mineral",
          "rail",
          "bm",
          "ab",
          "bm",
          "priory",
          "remains",
          "blantyre",
          "blantyre",
          "of",
          "lodge",
          "ham",
          "lockha",
          "mount",
          "viaduct",
          "hamlt",
          "station",
          "branch",
          "sps",
          "sp",
          "ction",
          "fp",
          "sp",
          "mine",
          "rorc",
          "old",
          "mud",
          "atchison",
          "shaft",
          "fullarton",
          "todge",
          "bm",
          "house",
          "fuillarton",
          "bm",
          "bm",
          "sp",
          "sps",
          "deans",
          "mp",
          "mineral",
          "colktery",
          "coltery",
          "brick",
          "coll",
          "gilbertfield",
          "works",
          "roset",
          "lodge",
          "bm",
          "hous",
          "nercto",
          "colliery",
          "pit",
          "shaft",
          "kenmuirhill",
          "church",
          "st",
          "columbas",
          "calder",
          "calderglen",
          "farm",
          "hallside",
          "nochouse",
          "ha",
          "bogend",
          "collery",
          "hitefreld",
          "ground",
          "sp",
          "shite",
          "fotball",
          "school",
          "field",
          "works",
          "whitefeld",
          "bushy",
          "albert",
          "park",
          "street",
          "bank",
          "church",
          "hill",
          "morriston",
          "clan",
          "main",
          "hool",
          "geton",
          "cambuslang",
          "dye",
          "div",
          "parly",
          "ch",
          "works",
          "west",
          "sp",
          "lodge",
          "sp",
          "dovecot",
          "corogang",
          "marrage",
          "well",
          "cottages",
          "east",
          "carns",
          "ground",
          "newton",
          "nearton",
          "street",
          "pit",
          "football",
          "bridge",
          "sp",
          "street",
          "dunlop",
          "chool",
          "clyde",
          "clyde",
          "st",
          "bro",
          "monk",
          "ge",
          "by",
          "old",
          "qua"
         ],
         "type": "scatter",
         "x": [
          -46.05947,
          -0.99963117,
          -51.7122,
          23.074467,
          43.05919,
          46.714344,
          -20.040516,
          20.35905,
          -41.907566,
          -22.786219,
          66.124565,
          59.370686,
          -0.115176216,
          10.592227,
          -22.668802,
          -20.112844,
          41.05676,
          72.14256,
          23.505558,
          -49.703804,
          1.1564709,
          9.717271,
          -31.135998,
          13.425742,
          -23.789352,
          -8.61314,
          106.20786,
          -51.7122,
          45.80689,
          25.77904,
          -31.030838,
          20.119673,
          -28.392138,
          -21.749979,
          -16.091831,
          -22.594105,
          -26.173405,
          -26.173405,
          20.194527,
          -22.594105,
          26.13458,
          34.686523,
          21.120636,
          103.27588,
          -65.6953,
          110.52982,
          -15.350727,
          -45.313572,
          25.842999,
          -58.502533,
          -14.886916,
          -2.97782,
          -36.157036,
          -67.90723,
          29.819304,
          22.31913,
          50.385017,
          106.20786,
          -46.29929,
          -25.480318,
          -64.4329,
          56.599953,
          -62.175354,
          -80.01712,
          -36.157036,
          11.572323,
          34.609325,
          60.756317,
          -19.73569,
          10.93925,
          -36.658577,
          2.8567858,
          -40.411198,
          80.52846,
          52.016678,
          -39.179737,
          -39.179737,
          25.894384,
          -65.6953,
          37.758377,
          -0.16326155,
          26.061756,
          38.199364,
          70.24693,
          20.620184,
          -45.51895,
          -23.299156,
          12.907734,
          -12.9728775,
          -3.768871,
          1.2104745,
          48.293346,
          -5.904339,
          0.43059844,
          44.70359,
          -69.72084,
          -3.8512654,
          10.309576,
          -45.313572,
          -4.127592,
          1.1564709,
          67.77861,
          -12.9728775,
          31.889227,
          -46.05947,
          -8.158272,
          -36.90469,
          -80.01712,
          -79.48386,
          51.454617,
          -41.907566,
          50.31448,
          -3.7704954,
          -13.424213,
          -7.694971,
          56.599953,
          -64.4329,
          10.152802,
          15.90021,
          106.20786,
          -51.7122,
          26.43429,
          -12.961166,
          52.40023,
          99.67927,
          9.73777,
          12.106338,
          41.89151,
          113.69141,
          57.46559,
          -4.7806954,
          99.67927,
          74.974335,
          -9.168812,
          -2.97782,
          2.2489054,
          121.86257,
          -39.179737,
          15.666951,
          -46.139893,
          -13.494508,
          -36.548027,
          16.065193,
          -59.846924,
          -46.139893,
          20.403456,
          -16.349852,
          -53.311474,
          -55.00429,
          -69.7419,
          0.30604228,
          99.418846,
          30.325644,
          15.027264,
          -15.350727,
          74.974335,
          53.214466,
          -6.8919883,
          50.5721,
          96.594025,
          49.42589,
          -65.6953,
          -46.29929,
          23.074467,
          -16.313068,
          48.8852,
          29.771168,
          -45.700615,
          24.46098,
          37.199326,
          27.671448,
          29.771168,
          65.445595,
          -45.353897,
          14.659212,
          -42.698074,
          64.981255,
          5.774188,
          60.098644,
          56.599953,
          84.892685,
          -74.79302,
          51.572063,
          -59.532864,
          16.008753,
          9.403925,
          -54.911854,
          16.061424,
          -60.314075,
          41.706337,
          14.924897,
          -8.139292,
          25.123281,
          96.488655,
          -64.42075,
          46.055305,
          67.80174,
          7.9138026,
          22.88054,
          99.67927,
          -79.51536,
          3.3549829,
          31.761412,
          -82.831795,
          36.73463,
          28.374178,
          88.07862,
          84.52281,
          -30.22789,
          11.256995,
          7.271809,
          23.553474,
          -80.01712,
          31.22106,
          11.161617,
          56.305603,
          10.943653,
          -49.703804,
          65.18282,
          -46.05947,
          -3.8512654,
          47.936005,
          -12.994792,
          -59.532864,
          -19.851944,
          -65.6953,
          9.36342,
          12.713248,
          51.572063,
          4.336687,
          12.31164,
          -16.349852,
          56.599953,
          113.69141,
          -80.01712,
          29.311687,
          -7.8960323,
          15.585857,
          6.0069437,
          -39.65341,
          88.07862,
          99.67927,
          81.239914,
          81.239914,
          99.67927,
          14.468941,
          26.001226,
          14.468941,
          -69.06497,
          -72.56453,
          -65.6953,
          -12.961166,
          -41.441303,
          25.330927,
          43.129486,
          71.775856,
          -11.268246,
          -3.8015912,
          -18.306536,
          -20.393362,
          56.576523,
          -65.6953,
          38.199364,
          -41.193672,
          32.791508,
          44.886795,
          13.425742,
          25.464909,
          56.599953,
          -5.956844,
          25.24117,
          27.781126,
          -85.15469,
          -36.150276,
          99.418846,
          -56.289333,
          46.89064,
          -44.26114,
          34.564247,
          76.58276,
          33.03671,
          33.985657,
          -52.915154,
          1.3788884,
          7.668243,
          41.53463,
          -39.179737,
          96.22758,
          6.2711678,
          -39.179737,
          -3.2399666,
          46.836857,
          52.016678,
          65.88703,
          25.77904,
          8.664087,
          -46.05947,
          -67.90723,
          51.83415,
          35.7711,
          22.926126,
          -53.311474,
          1.9444371,
          -58.502533,
          -36.65203,
          56.599953,
          28.982624,
          20.053358,
          10.379274,
          99.418846,
          -12.961166,
          44.496887,
          17.34951,
          84.53193,
          63.144947,
          28.206068,
          0.9161912,
          -35.97987,
          76.77752,
          -11.542959,
          26.313385,
          -64.4329,
          76.58747,
          -27.218506,
          -36.620094,
          7.4439325,
          -3.2593725,
          -7.5707145,
          38.899612,
          52.016678,
          81.065445,
          54.24027,
          20.475668,
          80.52846,
          -39.179737,
          -31.135998,
          84.53193,
          56.599953,
          -45.313572,
          21.675652,
          30.33197,
          -30.172234,
          -33.50829,
          -12.243478,
          31.733091,
          50.5721,
          -12.118148,
          108.4956,
          108.4956,
          -3.5962696,
          -41.441303,
          -1.0496811,
          -16.98013,
          4.828876,
          -21.494987,
          19.105742,
          -20.568813,
          0.7079955,
          -85.15469,
          45.57545,
          36.34602,
          17.722809,
          35.639538,
          -35.454037,
          -36.56202,
          -36.65203,
          56.599953,
          -3.8512654,
          -65.6953,
          -32.635025,
          1.9318676,
          12.012948,
          23.074467,
          -45.313572,
          26.313385,
          25.117233,
          -17.68519,
          -2.2663436,
          49.69774,
          -12.286287,
          -25.100296,
          13.558278,
          -85.15469,
          70.24693,
          -11.773467,
          70.83865,
          0.29611877,
          -23.064116,
          -65.6953,
          54.18597,
          38.199364,
          -46.29929,
          -47.8155,
          71.28116,
          25.582016,
          30.69021,
          21.646965,
          4.877185,
          27.841835,
          4.2904196,
          -49.418484,
          -65.6953,
          65.18282,
          -8.459163,
          46.813408,
          -53.311474,
          -68.87549,
          56.599953,
          59.66817,
          -68.87549,
          74.974335,
          -33.048653,
          37.842518,
          -38.495678,
          -34.722736,
          -56.57871,
          43.431805,
          -46.05947,
          -3.8512654,
          30.791851,
          1.2117385,
          33.380676,
          -50.0157,
          5.3839602,
          40.154568,
          40.154568,
          -2.1291869,
          -56.57871,
          10.474458,
          -25.875948,
          -1.2669195,
          -4.139148,
          13.712278,
          -10.36265,
          12.404316,
          0.1509864,
          8.15572,
          0.56040794,
          49.69774,
          11.288794,
          -39.317875,
          43.009495,
          56.599953,
          4.965597,
          -32.182278,
          -32.635025,
          -24.429121,
          21.375425,
          29.986685,
          -80.01712,
          47.770905,
          35.35191,
          20.888233,
          5.94222,
          0.1509864,
          78.79777,
          70.24693,
          -46.05947,
          41.537827,
          19.597303,
          107.393845,
          -14.237886,
          23.732512,
          -47.8155,
          -3.0891113,
          -56.57871,
          28.964502,
          14.170212,
          31.695498,
          -65.6953,
          -52.54785,
          -36.923965,
          -16.313068,
          80.52846,
          41.82905,
          39.30072,
          -15.001862,
          -15.021334,
          -62.915646,
          -16.349852,
          27.807695,
          4.0792007,
          -1.6916617,
          42.22071,
          5.322036,
          2.2489054,
          -6.169482,
          13.234792,
          61.418602,
          -85.15469,
          5.0893583,
          -47.8155,
          68.83684,
          -11.146893,
          23.873,
          1.9625946,
          88.07862,
          5.2405505,
          80.52846,
          1.2158629,
          27.69104,
          53.750797,
          -36.66493,
          17.706438,
          6.125433,
          82.736206,
          4.0757885,
          68.24559,
          -8.267215,
          -25.279724,
          -47.8155,
          99.418846,
          3.6577873,
          -56.57871,
          -0.56177974,
          -7.6210847,
          36.97454,
          55.305702,
          -11.525344,
          -65.3522,
          -53.311474,
          53.64225,
          2.2489054,
          45.80689,
          37.75818,
          88.07862,
          -46.29929,
          121.86257,
          -3.7597268,
          0.49908054,
          88.07862,
          -6.902805,
          -11.578237,
          38.199364,
          38.199364,
          40.689228,
          -16.254768,
          83.01955,
          -22.362984,
          -2.2609875,
          56.599953,
          -5.000227
         ],
         "xaxis": "x",
         "y": [
          135.13031,
          132.1918,
          102.33116,
          92.50841,
          -9.175081,
          -6.6139297,
          100.425224,
          102.98215,
          57.768112,
          26.59126,
          2.5836346,
          -36.983162,
          -79.38339,
          -81.69277,
          -53.583538,
          -56.32465,
          -93.44624,
          -23.354864,
          -48.32969,
          -22.16985,
          -130.45154,
          -7.0249515,
          17.036936,
          -106.09024,
          -57.17198,
          -135.57462,
          53.248913,
          102.33116,
          76.06761,
          -73.94892,
          -104.07592,
          56.509052,
          -42.703274,
          30.453276,
          50.661674,
          49.37674,
          45.019726,
          45.019726,
          -25.479622,
          49.37674,
          -96.51881,
          -94.98005,
          5.903027,
          -41.07513,
          112.13343,
          52.68378,
          29.022703,
          104.36454,
          67.05239,
          121.81386,
          -42.92,
          -76.27031,
          35.825188,
          -48.49527,
          -31.518936,
          -1.4063984,
          -41.52608,
          53.248913,
          97.691925,
          -26.0894,
          83.719635,
          112.8289,
          68.73016,
          -56.30168,
          35.825188,
          -28.087704,
          -59.168373,
          9.1050205,
          -75.619156,
          54.823097,
          5.407265,
          123.62993,
          -8.569839,
          71.38501,
          61.49379,
          -119.77192,
          -119.77192,
          7.489326,
          112.13343,
          -8.047452,
          3.3398438,
          4.7268434,
          -99.461494,
          35.838524,
          -5.7819934,
          63.688675,
          -12.181338,
          3.2145889,
          132.57832,
          -41.323,
          -59.08286,
          33.64532,
          -14.283927,
          -112.07688,
          -98.81906,
          121.50117,
          127.89625,
          -1.0279324,
          104.36454,
          -17.657188,
          -130.45154,
          39.41921,
          132.57832,
          6.4662285,
          135.13031,
          136.02876,
          -58.89453,
          -56.30168,
          -49.06942,
          4.152258,
          57.768112,
          0.57392645,
          -137.26521,
          116.08142,
          -129.61778,
          112.8289,
          83.719635,
          98.29136,
          58.35732,
          53.248913,
          102.33116,
          -6.3274274,
          138.01137,
          21.442081,
          -56.379757,
          -55.697014,
          49.640705,
          -21.354437,
          -48.040085,
          -12.741914,
          20.080887,
          -56.379757,
          -85.71012,
          -83.725006,
          -76.27031,
          74.54888,
          -25.995256,
          -119.77192,
          63.870556,
          51.169518,
          -21.855352,
          -64.67641,
          53.466198,
          -96.47119,
          51.169518,
          61.059086,
          33.809853,
          6.0393195,
          -51.950035,
          66.64035,
          -14.439665,
          -14.991668,
          13.907238,
          -26.290756,
          29.022703,
          -85.71012,
          -54.653954,
          -22.297512,
          -72.45411,
          -51.95328,
          76.90201,
          112.13343,
          97.691925,
          92.50841,
          -65.24962,
          -13.093083,
          -124.78202,
          -80.78412,
          57.289715,
          -24.321491,
          100.199196,
          -124.78202,
          12.036554,
          -77.97223,
          44.617874,
          -11.927951,
          -14.909299,
          -16.30855,
          -3.651318,
          112.8289,
          -32.48965,
          71.57431,
          -91.80527,
          -59.04722,
          -10.19706,
          11.040555,
          116.991165,
          -19.980495,
          -37.3081,
          -14.734784,
          -5.2834864,
          -9.744035,
          -29.235996,
          -65.76105,
          -94.31478,
          -26.674263,
          -45.241245,
          -78.09913,
          -34.293293,
          -56.379757,
          103.55281,
          -11.253434,
          -101.8061,
          100.789894,
          -105.659874,
          -63.146465,
          -59.451046,
          -18.066034,
          54.651005,
          -21.188133,
          -51.49278,
          37.18679,
          -56.30168,
          -10.438371,
          60.35983,
          -32.88318,
          -69.17449,
          -22.16985,
          -62.512787,
          135.13031,
          127.89625,
          -33.16434,
          -71.54113,
          -59.04722,
          -4.233821,
          112.13343,
          -133.14748,
          -15.982721,
          -91.80527,
          -29.451054,
          7.952647,
          33.809853,
          112.8289,
          -48.040085,
          -56.30168,
          22.526495,
          7.0691957,
          1.6224086,
          2.8397849,
          -42.38161,
          -59.451046,
          -56.379757,
          1.4697969,
          1.4697969,
          -56.379757,
          -45.995525,
          -61.569187,
          -45.995525,
          63.02539,
          64.24625,
          112.13343,
          138.01137,
          131.36603,
          53.079765,
          15.895874,
          -8.662655,
          15.840414,
          -8.064201,
          -14.900629,
          95.579124,
          3.4391172,
          112.13343,
          -99.461494,
          52.688747,
          -45.920918,
          -105.574684,
          -106.09024,
          44.16704,
          112.8289,
          -28.799168,
          -22.373224,
          -39.177948,
          -76.61452,
          -21.069944,
          -14.991668,
          -97.354576,
          7.4076705,
          -38.252136,
          -33.496643,
          -81.12159,
          105.6035,
          59.876762,
          -97.6652,
          -55.98511,
          -33.64387,
          -41.56713,
          -119.77192,
          -10.600694,
          -129.46844,
          -119.77192,
          -126.33463,
          -35.758743,
          61.49379,
          -47.438805,
          -73.94892,
          88.53476,
          135.13031,
          -48.49527,
          -27.643156,
          -88.33951,
          48.386894,
          6.0393195,
          -1.3505383,
          121.81386,
          79.269844,
          112.8289,
          -1.1025456,
          43.87585,
          -11.916901,
          -14.991668,
          138.01137,
          -53.212833,
          -57.90966,
          61.76867,
          -25.728493,
          -18.05067,
          -18.976814,
          -67.56315,
          53.853745,
          -7.7207336,
          105.767166,
          83.719635,
          60.74544,
          -4.3109274,
          -46.45693,
          -124.69916,
          94.96172,
          -3.4662893,
          -26.579426,
          61.49379,
          -57.54273,
          0.47755373,
          66.27612,
          71.38501,
          -119.77192,
          17.036936,
          61.76867,
          112.8289,
          104.36454,
          88.32282,
          63.85188,
          -86.459724,
          -84.34477,
          -105.61948,
          -25.480293,
          -72.45411,
          -59.481667,
          -40.96133,
          -40.96133,
          -132.48853,
          131.36603,
          -24.0776,
          3.9504962,
          -134.42007,
          -34.42201,
          -12.102246,
          12.427657,
          8.758358,
          -76.61452,
          -57.02096,
          34.766644,
          48.859,
          32.038002,
          -13.178607,
          -9.30227,
          79.269844,
          112.8289,
          127.89625,
          112.13343,
          81.99948,
          -124.63659,
          -128.80643,
          92.50841,
          104.36454,
          105.767166,
          61.850586,
          -69.61616,
          24.255157,
          41.622917,
          -34.414486,
          -2.2316139,
          -135.94958,
          -76.61452,
          35.838524,
          12.11875,
          -12.184494,
          -7.828792,
          96.665184,
          112.13343,
          6.6214876,
          -99.461494,
          97.691925,
          56.77753,
          -80.847946,
          -51.880493,
          -108.98652,
          -18.328379,
          89.77671,
          49.280327,
          126.70572,
          87.20483,
          112.13343,
          -62.512787,
          -17.025919,
          44.953022,
          6.0393195,
          85.66169,
          112.8289,
          -24.437096,
          85.66169,
          -85.71012,
          -38.413235,
          -39.855553,
          -39.217937,
          -42.064922,
          -63.31049,
          22.207558,
          135.13031,
          127.89625,
          44.94873,
          13.645929,
          49.732254,
          -56.778404,
          29.924047,
          19.61761,
          19.61761,
          -11.930557,
          -63.31049,
          20.308016,
          4.842521,
          -70.17569,
          57.18183,
          16.209906,
          123.9106,
          -71.58924,
          -147.69244,
          -137.94397,
          -34.447353,
          41.622917,
          -141.84572,
          -13.923637,
          -32.39733,
          112.8289,
          99.948006,
          -31.31276,
          81.99948,
          -65.41451,
          11.543716,
          53.95248,
          -56.30168,
          -19.80874,
          54.709103,
          52.34296,
          -143.58997,
          -147.69244,
          51.308933,
          35.838524,
          135.13031,
          0.5046731,
          25.196379,
          45.45225,
          -0.104125984,
          20.312878,
          56.77753,
          -46.89402,
          -63.31049,
          58.46299,
          -35.426655,
          -17.929579,
          112.13343,
          96.407486,
          84.09614,
          -65.24962,
          71.38501,
          -58.021946,
          6.2983327,
          -106.231636,
          -101.069176,
          -36.08879,
          33.809853,
          88.62629,
          -3.7060726,
          92.425674,
          -2.6252673,
          -39.384205,
          74.54888,
          -141.766,
          94.46838,
          23.87739,
          -76.61452,
          -93.44423,
          56.77753,
          -31.929949,
          -86.48511,
          -12.548612,
          -89.03145,
          -59.451046,
          41.435074,
          71.38501,
          -75.41226,
          24.82282,
          12.922495,
          2.4833288,
          -34.90869,
          -24.257627,
          -34.343998,
          -47.348347,
          -9.513237,
          13.571647,
          -14.208668,
          56.77753,
          -14.991668,
          -139.24873,
          -63.31049,
          -141.18877,
          -50.12876,
          -1.1648055,
          -21.06343,
          -12.019953,
          -64.9781,
          6.0393195,
          -6.1361294,
          74.54888,
          76.06761,
          -15.162196,
          -59.451046,
          97.691925,
          -25.995256,
          53.484398,
          -135.84253,
          -59.451046,
          -101.227425,
          -37.566463,
          -99.461494,
          -99.461494,
          -54.200756,
          -25.836435,
          47.353836,
          -19.441608,
          -4.7815695,
          112.8289,
          0.6413961
         ],
         "yaxis": "y"
        }
       ],
       "layout": {
        "height": 1000,
        "legend": {
         "tracegroupgap": 0
        },
        "margin": {
         "t": 60
        },
        "template": {
         "data": {
          "bar": [
           {
            "error_x": {
             "color": "#2a3f5f"
            },
            "error_y": {
             "color": "#2a3f5f"
            },
            "marker": {
             "line": {
              "color": "#E5ECF6",
              "width": 0.5
             },
             "pattern": {
              "fillmode": "overlay",
              "size": 10,
              "solidity": 0.2
             }
            },
            "type": "bar"
           }
          ],
          "barpolar": [
           {
            "marker": {
             "line": {
              "color": "#E5ECF6",
              "width": 0.5
             },
             "pattern": {
              "fillmode": "overlay",
              "size": 10,
              "solidity": 0.2
             }
            },
            "type": "barpolar"
           }
          ],
          "carpet": [
           {
            "aaxis": {
             "endlinecolor": "#2a3f5f",
             "gridcolor": "white",
             "linecolor": "white",
             "minorgridcolor": "white",
             "startlinecolor": "#2a3f5f"
            },
            "baxis": {
             "endlinecolor": "#2a3f5f",
             "gridcolor": "white",
             "linecolor": "white",
             "minorgridcolor": "white",
             "startlinecolor": "#2a3f5f"
            },
            "type": "carpet"
           }
          ],
          "choropleth": [
           {
            "colorbar": {
             "outlinewidth": 0,
             "ticks": ""
            },
            "type": "choropleth"
           }
          ],
          "contour": [
           {
            "colorbar": {
             "outlinewidth": 0,
             "ticks": ""
            },
            "colorscale": [
             [
              0,
              "#0d0887"
             ],
             [
              0.1111111111111111,
              "#46039f"
             ],
             [
              0.2222222222222222,
              "#7201a8"
             ],
             [
              0.3333333333333333,
              "#9c179e"
             ],
             [
              0.4444444444444444,
              "#bd3786"
             ],
             [
              0.5555555555555556,
              "#d8576b"
             ],
             [
              0.6666666666666666,
              "#ed7953"
             ],
             [
              0.7777777777777778,
              "#fb9f3a"
             ],
             [
              0.8888888888888888,
              "#fdca26"
             ],
             [
              1,
              "#f0f921"
             ]
            ],
            "type": "contour"
           }
          ],
          "contourcarpet": [
           {
            "colorbar": {
             "outlinewidth": 0,
             "ticks": ""
            },
            "type": "contourcarpet"
           }
          ],
          "heatmap": [
           {
            "colorbar": {
             "outlinewidth": 0,
             "ticks": ""
            },
            "colorscale": [
             [
              0,
              "#0d0887"
             ],
             [
              0.1111111111111111,
              "#46039f"
             ],
             [
              0.2222222222222222,
              "#7201a8"
             ],
             [
              0.3333333333333333,
              "#9c179e"
             ],
             [
              0.4444444444444444,
              "#bd3786"
             ],
             [
              0.5555555555555556,
              "#d8576b"
             ],
             [
              0.6666666666666666,
              "#ed7953"
             ],
             [
              0.7777777777777778,
              "#fb9f3a"
             ],
             [
              0.8888888888888888,
              "#fdca26"
             ],
             [
              1,
              "#f0f921"
             ]
            ],
            "type": "heatmap"
           }
          ],
          "heatmapgl": [
           {
            "colorbar": {
             "outlinewidth": 0,
             "ticks": ""
            },
            "colorscale": [
             [
              0,
              "#0d0887"
             ],
             [
              0.1111111111111111,
              "#46039f"
             ],
             [
              0.2222222222222222,
              "#7201a8"
             ],
             [
              0.3333333333333333,
              "#9c179e"
             ],
             [
              0.4444444444444444,
              "#bd3786"
             ],
             [
              0.5555555555555556,
              "#d8576b"
             ],
             [
              0.6666666666666666,
              "#ed7953"
             ],
             [
              0.7777777777777778,
              "#fb9f3a"
             ],
             [
              0.8888888888888888,
              "#fdca26"
             ],
             [
              1,
              "#f0f921"
             ]
            ],
            "type": "heatmapgl"
           }
          ],
          "histogram": [
           {
            "marker": {
             "pattern": {
              "fillmode": "overlay",
              "size": 10,
              "solidity": 0.2
             }
            },
            "type": "histogram"
           }
          ],
          "histogram2d": [
           {
            "colorbar": {
             "outlinewidth": 0,
             "ticks": ""
            },
            "colorscale": [
             [
              0,
              "#0d0887"
             ],
             [
              0.1111111111111111,
              "#46039f"
             ],
             [
              0.2222222222222222,
              "#7201a8"
             ],
             [
              0.3333333333333333,
              "#9c179e"
             ],
             [
              0.4444444444444444,
              "#bd3786"
             ],
             [
              0.5555555555555556,
              "#d8576b"
             ],
             [
              0.6666666666666666,
              "#ed7953"
             ],
             [
              0.7777777777777778,
              "#fb9f3a"
             ],
             [
              0.8888888888888888,
              "#fdca26"
             ],
             [
              1,
              "#f0f921"
             ]
            ],
            "type": "histogram2d"
           }
          ],
          "histogram2dcontour": [
           {
            "colorbar": {
             "outlinewidth": 0,
             "ticks": ""
            },
            "colorscale": [
             [
              0,
              "#0d0887"
             ],
             [
              0.1111111111111111,
              "#46039f"
             ],
             [
              0.2222222222222222,
              "#7201a8"
             ],
             [
              0.3333333333333333,
              "#9c179e"
             ],
             [
              0.4444444444444444,
              "#bd3786"
             ],
             [
              0.5555555555555556,
              "#d8576b"
             ],
             [
              0.6666666666666666,
              "#ed7953"
             ],
             [
              0.7777777777777778,
              "#fb9f3a"
             ],
             [
              0.8888888888888888,
              "#fdca26"
             ],
             [
              1,
              "#f0f921"
             ]
            ],
            "type": "histogram2dcontour"
           }
          ],
          "mesh3d": [
           {
            "colorbar": {
             "outlinewidth": 0,
             "ticks": ""
            },
            "type": "mesh3d"
           }
          ],
          "parcoords": [
           {
            "line": {
             "colorbar": {
              "outlinewidth": 0,
              "ticks": ""
             }
            },
            "type": "parcoords"
           }
          ],
          "pie": [
           {
            "automargin": true,
            "type": "pie"
           }
          ],
          "scatter": [
           {
            "fillpattern": {
             "fillmode": "overlay",
             "size": 10,
             "solidity": 0.2
            },
            "type": "scatter"
           }
          ],
          "scatter3d": [
           {
            "line": {
             "colorbar": {
              "outlinewidth": 0,
              "ticks": ""
             }
            },
            "marker": {
             "colorbar": {
              "outlinewidth": 0,
              "ticks": ""
             }
            },
            "type": "scatter3d"
           }
          ],
          "scattercarpet": [
           {
            "marker": {
             "colorbar": {
              "outlinewidth": 0,
              "ticks": ""
             }
            },
            "type": "scattercarpet"
           }
          ],
          "scattergeo": [
           {
            "marker": {
             "colorbar": {
              "outlinewidth": 0,
              "ticks": ""
             }
            },
            "type": "scattergeo"
           }
          ],
          "scattergl": [
           {
            "marker": {
             "colorbar": {
              "outlinewidth": 0,
              "ticks": ""
             }
            },
            "type": "scattergl"
           }
          ],
          "scattermapbox": [
           {
            "marker": {
             "colorbar": {
              "outlinewidth": 0,
              "ticks": ""
             }
            },
            "type": "scattermapbox"
           }
          ],
          "scatterpolar": [
           {
            "marker": {
             "colorbar": {
              "outlinewidth": 0,
              "ticks": ""
             }
            },
            "type": "scatterpolar"
           }
          ],
          "scatterpolargl": [
           {
            "marker": {
             "colorbar": {
              "outlinewidth": 0,
              "ticks": ""
             }
            },
            "type": "scatterpolargl"
           }
          ],
          "scatterternary": [
           {
            "marker": {
             "colorbar": {
              "outlinewidth": 0,
              "ticks": ""
             }
            },
            "type": "scatterternary"
           }
          ],
          "surface": [
           {
            "colorbar": {
             "outlinewidth": 0,
             "ticks": ""
            },
            "colorscale": [
             [
              0,
              "#0d0887"
             ],
             [
              0.1111111111111111,
              "#46039f"
             ],
             [
              0.2222222222222222,
              "#7201a8"
             ],
             [
              0.3333333333333333,
              "#9c179e"
             ],
             [
              0.4444444444444444,
              "#bd3786"
             ],
             [
              0.5555555555555556,
              "#d8576b"
             ],
             [
              0.6666666666666666,
              "#ed7953"
             ],
             [
              0.7777777777777778,
              "#fb9f3a"
             ],
             [
              0.8888888888888888,
              "#fdca26"
             ],
             [
              1,
              "#f0f921"
             ]
            ],
            "type": "surface"
           }
          ],
          "table": [
           {
            "cells": {
             "fill": {
              "color": "#EBF0F8"
             },
             "line": {
              "color": "white"
             }
            },
            "header": {
             "fill": {
              "color": "#C8D4E3"
             },
             "line": {
              "color": "white"
             }
            },
            "type": "table"
           }
          ]
         },
         "layout": {
          "annotationdefaults": {
           "arrowcolor": "#2a3f5f",
           "arrowhead": 0,
           "arrowwidth": 1
          },
          "autotypenumbers": "strict",
          "coloraxis": {
           "colorbar": {
            "outlinewidth": 0,
            "ticks": ""
           }
          },
          "colorscale": {
           "diverging": [
            [
             0,
             "#8e0152"
            ],
            [
             0.1,
             "#c51b7d"
            ],
            [
             0.2,
             "#de77ae"
            ],
            [
             0.3,
             "#f1b6da"
            ],
            [
             0.4,
             "#fde0ef"
            ],
            [
             0.5,
             "#f7f7f7"
            ],
            [
             0.6,
             "#e6f5d0"
            ],
            [
             0.7,
             "#b8e186"
            ],
            [
             0.8,
             "#7fbc41"
            ],
            [
             0.9,
             "#4d9221"
            ],
            [
             1,
             "#276419"
            ]
           ],
           "sequential": [
            [
             0,
             "#0d0887"
            ],
            [
             0.1111111111111111,
             "#46039f"
            ],
            [
             0.2222222222222222,
             "#7201a8"
            ],
            [
             0.3333333333333333,
             "#9c179e"
            ],
            [
             0.4444444444444444,
             "#bd3786"
            ],
            [
             0.5555555555555556,
             "#d8576b"
            ],
            [
             0.6666666666666666,
             "#ed7953"
            ],
            [
             0.7777777777777778,
             "#fb9f3a"
            ],
            [
             0.8888888888888888,
             "#fdca26"
            ],
            [
             1,
             "#f0f921"
            ]
           ],
           "sequentialminus": [
            [
             0,
             "#0d0887"
            ],
            [
             0.1111111111111111,
             "#46039f"
            ],
            [
             0.2222222222222222,
             "#7201a8"
            ],
            [
             0.3333333333333333,
             "#9c179e"
            ],
            [
             0.4444444444444444,
             "#bd3786"
            ],
            [
             0.5555555555555556,
             "#d8576b"
            ],
            [
             0.6666666666666666,
             "#ed7953"
            ],
            [
             0.7777777777777778,
             "#fb9f3a"
            ],
            [
             0.8888888888888888,
             "#fdca26"
            ],
            [
             1,
             "#f0f921"
            ]
           ]
          },
          "colorway": [
           "#636efa",
           "#EF553B",
           "#00cc96",
           "#ab63fa",
           "#FFA15A",
           "#19d3f3",
           "#FF6692",
           "#B6E880",
           "#FF97FF",
           "#FECB52"
          ],
          "font": {
           "color": "#2a3f5f"
          },
          "geo": {
           "bgcolor": "white",
           "lakecolor": "white",
           "landcolor": "#E5ECF6",
           "showlakes": true,
           "showland": true,
           "subunitcolor": "white"
          },
          "hoverlabel": {
           "align": "left"
          },
          "hovermode": "closest",
          "mapbox": {
           "style": "light"
          },
          "paper_bgcolor": "white",
          "plot_bgcolor": "#E5ECF6",
          "polar": {
           "angularaxis": {
            "gridcolor": "white",
            "linecolor": "white",
            "ticks": ""
           },
           "bgcolor": "#E5ECF6",
           "radialaxis": {
            "gridcolor": "white",
            "linecolor": "white",
            "ticks": ""
           }
          },
          "scene": {
           "xaxis": {
            "backgroundcolor": "#E5ECF6",
            "gridcolor": "white",
            "gridwidth": 2,
            "linecolor": "white",
            "showbackground": true,
            "ticks": "",
            "zerolinecolor": "white"
           },
           "yaxis": {
            "backgroundcolor": "#E5ECF6",
            "gridcolor": "white",
            "gridwidth": 2,
            "linecolor": "white",
            "showbackground": true,
            "ticks": "",
            "zerolinecolor": "white"
           },
           "zaxis": {
            "backgroundcolor": "#E5ECF6",
            "gridcolor": "white",
            "gridwidth": 2,
            "linecolor": "white",
            "showbackground": true,
            "ticks": "",
            "zerolinecolor": "white"
           }
          },
          "shapedefaults": {
           "line": {
            "color": "#2a3f5f"
           }
          },
          "ternary": {
           "aaxis": {
            "gridcolor": "white",
            "linecolor": "white",
            "ticks": ""
           },
           "baxis": {
            "gridcolor": "white",
            "linecolor": "white",
            "ticks": ""
           },
           "bgcolor": "#E5ECF6",
           "caxis": {
            "gridcolor": "white",
            "linecolor": "white",
            "ticks": ""
           }
          },
          "title": {
           "x": 0.05
          },
          "xaxis": {
           "automargin": true,
           "gridcolor": "white",
           "linecolor": "white",
           "ticks": "",
           "title": {
            "standoff": 15
           },
           "zerolinecolor": "white",
           "zerolinewidth": 2
          },
          "yaxis": {
           "automargin": true,
           "gridcolor": "white",
           "linecolor": "white",
           "ticks": "",
           "title": {
            "standoff": 15
           },
           "zerolinecolor": "white",
           "zerolinewidth": 2
          }
         }
        },
        "width": 1000,
        "xaxis": {
         "anchor": "y",
         "domain": [
          0,
          1
         ],
         "title": {
          "text": "x"
         }
        },
        "yaxis": {
         "anchor": "x",
         "domain": [
          0,
          1
         ],
         "title": {
          "text": "y"
         }
        }
       }
      }
     },
     "metadata": {},
     "output_type": "display_data"
    }
   ],
   "source": [
    "# visualize only the text labels in 2D scatter plot\n",
    "# i.e. remove all numbers\n",
    "data_text = data[data.text.str.isalpha()]\n",
    "fig = px.scatter(data_text, x=\"x\", y=\"y\", text='text', width=1000, height=1000,)\n",
    "fig.show()"
   ]
  },
  {
   "cell_type": "code",
   "execution_count": 82,
   "metadata": {},
   "outputs": [
    {
     "data": {
      "application/vnd.plotly.v1+json": {
       "config": {
        "plotlyServerURL": "https://plot.ly"
       },
       "data": [
        {
         "hovertemplate": "x=%{x}<br>y=%{y}<br>text=%{text}<extra></extra>",
         "legendgroup": "",
         "marker": {
          "color": "#636efa",
          "symbol": "circle"
         },
         "mode": "markers+text",
         "name": "",
         "orientation": "v",
         "showlegend": false,
         "text": [
          "mineral",
          "rail",
          "pit",
          "no",
          "cothery",
          "nerwtoncothery",
          "steel",
          "haltside",
          "works",
          "hall",
          "daldorie",
          "plantati",
          "hill",
          "wood",
          "kenmuir",
          "clydesrde",
          "ms",
          "junct",
          "ton",
          "sp",
          "irn",
          "ion",
          "hamilton",
          "sand",
          "newton",
          "new",
          "tank",
          "bm",
          "holm",
          "halls",
          "grain",
          "mill",
          "mills",
          "lade",
          "weir",
          "clydes",
          "ughhead",
          "ford",
          "colliery",
          "hallside",
          "miner",
          "chuckie",
          "broom",
          "villa",
          "lsshat",
          "omhouse",
          "las",
          "hone",
          "quarry",
          "old",
          "cairns",
          "house",
          "knowe",
          "hs",
          "bromknowe",
          "spring",
          "mains",
          "railw",
          "mine",
          "church",
          "lb",
          "ph",
          "haughhead",
          "raylway",
          "al",
          "clyde",
          "mp",
          "asgow",
          "work",
          "ch",
          "bur",
          "railway",
          "up",
          "light",
          "bail",
          "way",
          "greenh",
          "clydeside",
          "coal",
          "ral",
          "threeneuk",
          "bleach",
          "mansion",
          "carmyle",
          "junction",
          "rot",
          "od",
          "cadzow",
          "road",
          "literary",
          "deive",
          "drive",
          "driye",
          "chap",
          "coats",
          "bushyhill",
          "ground",
          "football",
          "ry",
          "redlees",
          "fire",
          "east",
          "castle",
          "site",
          "of",
          "west",
          "amsargad",
          "knowehend",
          "avenit",
          "ve",
          "north",
          "kenmuirhill",
          "docecot",
          "pond",
          "curling",
          "ouse",
          "deside",
          "roundknorve",
          "codiv",
          "arly",
          "maryrille",
          "cambuslan",
          "cemetery",
          "westburn",
          "lodge",
          "nburgh",
          "sch",
          "minera",
          "ery",
          "farm",
          "vercton",
          "mns",
          "well",
          "eentees",
          "police",
          "gas",
          "sauehie",
          "statio",
          "treet",
          "sctroo",
          "kilns",
          "uh",
          "clydef",
          "kilnsza",
          "clydeford",
          "stree",
          "street",
          "colebrooke",
          "smithres",
          "coleb",
          "lity",
          "bla",
          "referme",
          "ferme",
          "branch",
          "gateside",
          "rou",
          "onieshill",
          "hodge",
          "ay",
          "tion",
          "furm",
          "morriston",
          "astle",
          "bure",
          "za",
          "kirk",
          "roman",
          "watling",
          "blantyreferme",
          "div",
          "parly",
          "by",
          "co",
          "iron",
          "uthe",
          "glasgow",
          "overto",
          "vester",
          "aldorwie",
          "school",
          "wes",
          "burn",
          "calloch",
          "douglas",
          "pbive",
          "coat",
          "late",
          "burnbrae",
          "lighthurn",
          "sprangiretl",
          "halfiray",
          "westb",
          "stat",
          "ail",
          "bbourne",
          "wellside",
          "ha",
          "shaft",
          "oidshaft",
          "ank",
          "st",
          "jose",
          "presbytery",
          "brid",
          "neral",
          "on",
          "redlarood",
          "minister",
          "disused",
          "preaching",
          "chur",
          "kirkburn",
          "bogleshole",
          "m",
          "avenue",
          "windmil",
          "windmill",
          "calder",
          "cle",
          "flemington",
          "car",
          "round",
          "bothwell",
          "knoice",
          "nbr",
          "secti",
          "aa",
          "charles",
          "charless",
          "enmuirhill",
          "manse",
          "fp",
          "cho",
          "chuch",
          "coatbridg",
          "jun",
          "pumping",
          "frams",
          "folly",
          "urn",
          "fb",
          "bric",
          "kirkhi",
          "kacarland",
          "kirkh",
          "blanty",
          "ab",
          "priory",
          "remains",
          "blantyre",
          "ham",
          "lockha",
          "mount",
          "viaduct",
          "hamlt",
          "station",
          "sps",
          "ction",
          "rorc",
          "mud",
          "atchison",
          "fullarton",
          "todge",
          "fuillarton",
          "deans",
          "colktery",
          "coltery",
          "brick",
          "coll",
          "gilbertfield",
          "roset",
          "hous",
          "nercto",
          "columbas",
          "calderglen",
          "nochouse",
          "bogend",
          "collery",
          "hitefreld",
          "shite",
          "fotball",
          "field",
          "whitefeld",
          "bushy",
          "albert",
          "park",
          "bank",
          "clan",
          "main",
          "hool",
          "geton",
          "cambuslang",
          "dye",
          "dovecot",
          "corogang",
          "marrage",
          "cottages",
          "carns",
          "nearton",
          "bridge",
          "dunlop",
          "chool",
          "bro",
          "monk",
          "ge",
          "qua"
         ],
         "type": "scatter",
         "x": [
          -46.05947,
          -0.99963117,
          -51.7122,
          23.074467,
          43.05919,
          46.714344,
          -20.040516,
          20.35905,
          -41.907566,
          -22.786219,
          66.124565,
          59.370686,
          -0.115176216,
          10.592227,
          -22.668802,
          41.05676,
          72.14256,
          23.505558,
          -49.703804,
          1.1564709,
          9.717271,
          -31.135998,
          13.425742,
          106.20786,
          45.80689,
          25.77904,
          -31.030838,
          20.119673,
          -28.392138,
          -21.749979,
          -16.091831,
          -22.594105,
          -26.173405,
          20.194527,
          26.13458,
          34.686523,
          21.120636,
          103.27588,
          -65.6953,
          -15.350727,
          -58.502533,
          -14.886916,
          -36.157036,
          -67.90723,
          29.819304,
          22.31913,
          50.385017,
          -25.480318,
          -64.4329,
          56.599953,
          -62.175354,
          -80.01712,
          11.572323,
          34.609325,
          60.756317,
          -19.73569,
          -36.658577,
          2.8567858,
          -40.411198,
          80.52846,
          52.016678,
          -39.179737,
          25.894384,
          37.758377,
          -0.16326155,
          38.199364,
          70.24693,
          20.620184,
          -45.51895,
          -23.299156,
          12.907734,
          -12.9728775,
          -3.768871,
          1.2104745,
          48.293346,
          -5.904339,
          0.43059844,
          44.70359,
          -69.72084,
          10.309576,
          31.889227,
          -36.90469,
          -79.48386,
          51.454617,
          -13.424213,
          10.152802,
          26.43429,
          52.40023,
          99.67927,
          9.73777,
          41.89151,
          113.69141,
          57.46559,
          -4.7806954,
          74.974335,
          -9.168812,
          2.2489054,
          121.86257,
          -13.494508,
          -36.548027,
          -59.846924,
          -53.311474,
          -55.00429,
          -69.7419,
          0.30604228,
          99.418846,
          30.325644,
          15.027264,
          53.214466,
          -6.8919883,
          50.5721,
          -16.313068,
          48.8852,
          29.771168,
          -45.700615,
          37.199326,
          27.671448,
          65.445595,
          64.981255,
          5.774188,
          60.098644,
          84.892685,
          -74.79302,
          51.572063,
          -59.532864,
          16.008753,
          9.403925,
          -54.911854,
          16.061424,
          -60.314075,
          41.706337,
          14.924897,
          -8.139292,
          25.123281,
          96.488655,
          -64.42075,
          46.055305,
          67.80174,
          7.9138026,
          22.88054,
          -79.51536,
          3.3549829,
          31.761412,
          -82.831795,
          36.73463,
          28.374178,
          88.07862,
          84.52281,
          -30.22789,
          11.256995,
          7.271809,
          23.553474,
          31.22106,
          56.305603,
          10.943653,
          65.18282,
          47.936005,
          -12.994792,
          -19.851944,
          12.713248,
          4.336687,
          12.31164,
          29.311687,
          -7.8960323,
          15.585857,
          6.0069437,
          -39.65341,
          81.239914,
          14.468941,
          43.129486,
          71.775856,
          -11.268246,
          -3.8015912,
          -18.306536,
          -20.393362,
          32.791508,
          44.886795,
          -5.956844,
          25.24117,
          27.781126,
          -85.15469,
          -36.150276,
          -56.289333,
          46.89064,
          -44.26114,
          34.564247,
          76.58276,
          33.03671,
          -52.915154,
          1.3788884,
          7.668243,
          41.53463,
          96.22758,
          65.88703,
          8.664087,
          51.83415,
          35.7711,
          1.9444371,
          -36.65203,
          28.982624,
          10.379274,
          44.496887,
          17.34951,
          84.53193,
          63.144947,
          28.206068,
          0.9161912,
          -35.97987,
          76.77752,
          26.313385,
          76.58747,
          -27.218506,
          -36.620094,
          -3.2593725,
          -7.5707145,
          81.065445,
          -30.172234,
          -33.50829,
          -12.243478,
          31.733091,
          -12.118148,
          108.4956,
          -1.0496811,
          -16.98013,
          -21.494987,
          19.105742,
          -20.568813,
          0.7079955,
          36.34602,
          35.639538,
          -17.68519,
          -2.2663436,
          49.69774,
          -12.286287,
          -25.100296,
          71.28116,
          25.582016,
          30.69021,
          21.646965,
          4.877185,
          -49.418484,
          46.813408,
          59.66817,
          -33.048653,
          37.842518,
          -34.722736,
          43.431805,
          1.2117385,
          -50.0157,
          5.3839602,
          40.154568,
          10.474458,
          -25.875948,
          -1.2669195,
          -4.139148,
          13.712278,
          -10.36265,
          0.1509864,
          0.56040794,
          43.009495,
          4.965597,
          -32.182278,
          -24.429121,
          21.375425,
          47.770905,
          78.79777,
          41.537827,
          19.597303,
          107.393845,
          -14.237886,
          23.732512,
          -3.0891113,
          14.170212,
          31.695498,
          39.30072,
          -15.021334,
          27.807695,
          -1.6916617,
          42.22071,
          5.322036,
          13.234792,
          61.418602,
          5.0893583,
          68.83684,
          -11.146893,
          23.873,
          1.9625946,
          5.2405505,
          53.750797,
          -36.66493,
          17.706438,
          6.125433,
          82.736206,
          4.0757885,
          -7.6210847,
          36.97454,
          55.305702,
          -65.3522,
          53.64225,
          37.75818,
          -3.7597268,
          -6.902805,
          -11.578237,
          -16.254768,
          83.01955,
          -22.362984,
          -5.000227
         ],
         "xaxis": "x",
         "y": [
          135.13031,
          132.1918,
          102.33116,
          92.50841,
          -9.175081,
          -6.6139297,
          100.425224,
          102.98215,
          57.768112,
          26.59126,
          2.5836346,
          -36.983162,
          -79.38339,
          -81.69277,
          -53.583538,
          -93.44624,
          -23.354864,
          -48.32969,
          -22.16985,
          -130.45154,
          -7.0249515,
          17.036936,
          -106.09024,
          53.248913,
          76.06761,
          -73.94892,
          -104.07592,
          56.509052,
          -42.703274,
          30.453276,
          50.661674,
          49.37674,
          45.019726,
          -25.479622,
          -96.51881,
          -94.98005,
          5.903027,
          -41.07513,
          112.13343,
          29.022703,
          121.81386,
          -42.92,
          35.825188,
          -48.49527,
          -31.518936,
          -1.4063984,
          -41.52608,
          -26.0894,
          83.719635,
          112.8289,
          68.73016,
          -56.30168,
          -28.087704,
          -59.168373,
          9.1050205,
          -75.619156,
          5.407265,
          123.62993,
          -8.569839,
          71.38501,
          61.49379,
          -119.77192,
          7.489326,
          -8.047452,
          3.3398438,
          -99.461494,
          35.838524,
          -5.7819934,
          63.688675,
          -12.181338,
          3.2145889,
          132.57832,
          -41.323,
          -59.08286,
          33.64532,
          -14.283927,
          -112.07688,
          -98.81906,
          121.50117,
          -1.0279324,
          6.4662285,
          -58.89453,
          -49.06942,
          4.152258,
          116.08142,
          98.29136,
          -6.3274274,
          21.442081,
          -56.379757,
          -55.697014,
          -21.354437,
          -48.040085,
          -12.741914,
          20.080887,
          -85.71012,
          -83.725006,
          74.54888,
          -25.995256,
          -21.855352,
          -64.67641,
          -96.47119,
          6.0393195,
          -51.950035,
          66.64035,
          -14.439665,
          -14.991668,
          13.907238,
          -26.290756,
          -54.653954,
          -22.297512,
          -72.45411,
          -65.24962,
          -13.093083,
          -124.78202,
          -80.78412,
          -24.321491,
          100.199196,
          12.036554,
          -14.909299,
          -16.30855,
          -3.651318,
          -32.48965,
          71.57431,
          -91.80527,
          -59.04722,
          -10.19706,
          11.040555,
          116.991165,
          -19.980495,
          -37.3081,
          -14.734784,
          -5.2834864,
          -9.744035,
          -29.235996,
          -65.76105,
          -94.31478,
          -26.674263,
          -45.241245,
          -78.09913,
          -34.293293,
          103.55281,
          -11.253434,
          -101.8061,
          100.789894,
          -105.659874,
          -63.146465,
          -59.451046,
          -18.066034,
          54.651005,
          -21.188133,
          -51.49278,
          37.18679,
          -10.438371,
          -32.88318,
          -69.17449,
          -62.512787,
          -33.16434,
          -71.54113,
          -4.233821,
          -15.982721,
          -29.451054,
          7.952647,
          22.526495,
          7.0691957,
          1.6224086,
          2.8397849,
          -42.38161,
          1.4697969,
          -45.995525,
          15.895874,
          -8.662655,
          15.840414,
          -8.064201,
          -14.900629,
          95.579124,
          -45.920918,
          -105.574684,
          -28.799168,
          -22.373224,
          -39.177948,
          -76.61452,
          -21.069944,
          -97.354576,
          7.4076705,
          -38.252136,
          -33.496643,
          -81.12159,
          105.6035,
          -97.6652,
          -55.98511,
          -33.64387,
          -41.56713,
          -10.600694,
          -47.438805,
          88.53476,
          -27.643156,
          -88.33951,
          -1.3505383,
          79.269844,
          -1.1025456,
          -11.916901,
          -53.212833,
          -57.90966,
          61.76867,
          -25.728493,
          -18.05067,
          -18.976814,
          -67.56315,
          53.853745,
          105.767166,
          60.74544,
          -4.3109274,
          -46.45693,
          94.96172,
          -3.4662893,
          -57.54273,
          -86.459724,
          -84.34477,
          -105.61948,
          -25.480293,
          -59.481667,
          -40.96133,
          -24.0776,
          3.9504962,
          -34.42201,
          -12.102246,
          12.427657,
          8.758358,
          34.766644,
          32.038002,
          -69.61616,
          24.255157,
          41.622917,
          -34.414486,
          -2.2316139,
          -80.847946,
          -51.880493,
          -108.98652,
          -18.328379,
          89.77671,
          87.20483,
          44.953022,
          -24.437096,
          -38.413235,
          -39.855553,
          -42.064922,
          22.207558,
          13.645929,
          -56.778404,
          29.924047,
          19.61761,
          20.308016,
          4.842521,
          -70.17569,
          57.18183,
          16.209906,
          123.9106,
          -147.69244,
          -34.447353,
          -32.39733,
          99.948006,
          -31.31276,
          -65.41451,
          11.543716,
          -19.80874,
          51.308933,
          0.5046731,
          25.196379,
          45.45225,
          -0.104125984,
          20.312878,
          -46.89402,
          -35.426655,
          -17.929579,
          6.2983327,
          -101.069176,
          88.62629,
          92.425674,
          -2.6252673,
          -39.384205,
          94.46838,
          23.87739,
          -93.44423,
          -31.929949,
          -86.48511,
          -12.548612,
          -89.03145,
          41.435074,
          12.922495,
          2.4833288,
          -34.90869,
          -24.257627,
          -34.343998,
          -47.348347,
          -50.12876,
          -1.1648055,
          -21.06343,
          -64.9781,
          -6.1361294,
          -15.162196,
          53.484398,
          -101.227425,
          -37.566463,
          -25.836435,
          47.353836,
          -19.441608,
          0.6413961
         ],
         "yaxis": "y"
        }
       ],
       "layout": {
        "height": 1000,
        "legend": {
         "tracegroupgap": 0
        },
        "margin": {
         "t": 60
        },
        "template": {
         "data": {
          "bar": [
           {
            "error_x": {
             "color": "#2a3f5f"
            },
            "error_y": {
             "color": "#2a3f5f"
            },
            "marker": {
             "line": {
              "color": "#E5ECF6",
              "width": 0.5
             },
             "pattern": {
              "fillmode": "overlay",
              "size": 10,
              "solidity": 0.2
             }
            },
            "type": "bar"
           }
          ],
          "barpolar": [
           {
            "marker": {
             "line": {
              "color": "#E5ECF6",
              "width": 0.5
             },
             "pattern": {
              "fillmode": "overlay",
              "size": 10,
              "solidity": 0.2
             }
            },
            "type": "barpolar"
           }
          ],
          "carpet": [
           {
            "aaxis": {
             "endlinecolor": "#2a3f5f",
             "gridcolor": "white",
             "linecolor": "white",
             "minorgridcolor": "white",
             "startlinecolor": "#2a3f5f"
            },
            "baxis": {
             "endlinecolor": "#2a3f5f",
             "gridcolor": "white",
             "linecolor": "white",
             "minorgridcolor": "white",
             "startlinecolor": "#2a3f5f"
            },
            "type": "carpet"
           }
          ],
          "choropleth": [
           {
            "colorbar": {
             "outlinewidth": 0,
             "ticks": ""
            },
            "type": "choropleth"
           }
          ],
          "contour": [
           {
            "colorbar": {
             "outlinewidth": 0,
             "ticks": ""
            },
            "colorscale": [
             [
              0,
              "#0d0887"
             ],
             [
              0.1111111111111111,
              "#46039f"
             ],
             [
              0.2222222222222222,
              "#7201a8"
             ],
             [
              0.3333333333333333,
              "#9c179e"
             ],
             [
              0.4444444444444444,
              "#bd3786"
             ],
             [
              0.5555555555555556,
              "#d8576b"
             ],
             [
              0.6666666666666666,
              "#ed7953"
             ],
             [
              0.7777777777777778,
              "#fb9f3a"
             ],
             [
              0.8888888888888888,
              "#fdca26"
             ],
             [
              1,
              "#f0f921"
             ]
            ],
            "type": "contour"
           }
          ],
          "contourcarpet": [
           {
            "colorbar": {
             "outlinewidth": 0,
             "ticks": ""
            },
            "type": "contourcarpet"
           }
          ],
          "heatmap": [
           {
            "colorbar": {
             "outlinewidth": 0,
             "ticks": ""
            },
            "colorscale": [
             [
              0,
              "#0d0887"
             ],
             [
              0.1111111111111111,
              "#46039f"
             ],
             [
              0.2222222222222222,
              "#7201a8"
             ],
             [
              0.3333333333333333,
              "#9c179e"
             ],
             [
              0.4444444444444444,
              "#bd3786"
             ],
             [
              0.5555555555555556,
              "#d8576b"
             ],
             [
              0.6666666666666666,
              "#ed7953"
             ],
             [
              0.7777777777777778,
              "#fb9f3a"
             ],
             [
              0.8888888888888888,
              "#fdca26"
             ],
             [
              1,
              "#f0f921"
             ]
            ],
            "type": "heatmap"
           }
          ],
          "heatmapgl": [
           {
            "colorbar": {
             "outlinewidth": 0,
             "ticks": ""
            },
            "colorscale": [
             [
              0,
              "#0d0887"
             ],
             [
              0.1111111111111111,
              "#46039f"
             ],
             [
              0.2222222222222222,
              "#7201a8"
             ],
             [
              0.3333333333333333,
              "#9c179e"
             ],
             [
              0.4444444444444444,
              "#bd3786"
             ],
             [
              0.5555555555555556,
              "#d8576b"
             ],
             [
              0.6666666666666666,
              "#ed7953"
             ],
             [
              0.7777777777777778,
              "#fb9f3a"
             ],
             [
              0.8888888888888888,
              "#fdca26"
             ],
             [
              1,
              "#f0f921"
             ]
            ],
            "type": "heatmapgl"
           }
          ],
          "histogram": [
           {
            "marker": {
             "pattern": {
              "fillmode": "overlay",
              "size": 10,
              "solidity": 0.2
             }
            },
            "type": "histogram"
           }
          ],
          "histogram2d": [
           {
            "colorbar": {
             "outlinewidth": 0,
             "ticks": ""
            },
            "colorscale": [
             [
              0,
              "#0d0887"
             ],
             [
              0.1111111111111111,
              "#46039f"
             ],
             [
              0.2222222222222222,
              "#7201a8"
             ],
             [
              0.3333333333333333,
              "#9c179e"
             ],
             [
              0.4444444444444444,
              "#bd3786"
             ],
             [
              0.5555555555555556,
              "#d8576b"
             ],
             [
              0.6666666666666666,
              "#ed7953"
             ],
             [
              0.7777777777777778,
              "#fb9f3a"
             ],
             [
              0.8888888888888888,
              "#fdca26"
             ],
             [
              1,
              "#f0f921"
             ]
            ],
            "type": "histogram2d"
           }
          ],
          "histogram2dcontour": [
           {
            "colorbar": {
             "outlinewidth": 0,
             "ticks": ""
            },
            "colorscale": [
             [
              0,
              "#0d0887"
             ],
             [
              0.1111111111111111,
              "#46039f"
             ],
             [
              0.2222222222222222,
              "#7201a8"
             ],
             [
              0.3333333333333333,
              "#9c179e"
             ],
             [
              0.4444444444444444,
              "#bd3786"
             ],
             [
              0.5555555555555556,
              "#d8576b"
             ],
             [
              0.6666666666666666,
              "#ed7953"
             ],
             [
              0.7777777777777778,
              "#fb9f3a"
             ],
             [
              0.8888888888888888,
              "#fdca26"
             ],
             [
              1,
              "#f0f921"
             ]
            ],
            "type": "histogram2dcontour"
           }
          ],
          "mesh3d": [
           {
            "colorbar": {
             "outlinewidth": 0,
             "ticks": ""
            },
            "type": "mesh3d"
           }
          ],
          "parcoords": [
           {
            "line": {
             "colorbar": {
              "outlinewidth": 0,
              "ticks": ""
             }
            },
            "type": "parcoords"
           }
          ],
          "pie": [
           {
            "automargin": true,
            "type": "pie"
           }
          ],
          "scatter": [
           {
            "fillpattern": {
             "fillmode": "overlay",
             "size": 10,
             "solidity": 0.2
            },
            "type": "scatter"
           }
          ],
          "scatter3d": [
           {
            "line": {
             "colorbar": {
              "outlinewidth": 0,
              "ticks": ""
             }
            },
            "marker": {
             "colorbar": {
              "outlinewidth": 0,
              "ticks": ""
             }
            },
            "type": "scatter3d"
           }
          ],
          "scattercarpet": [
           {
            "marker": {
             "colorbar": {
              "outlinewidth": 0,
              "ticks": ""
             }
            },
            "type": "scattercarpet"
           }
          ],
          "scattergeo": [
           {
            "marker": {
             "colorbar": {
              "outlinewidth": 0,
              "ticks": ""
             }
            },
            "type": "scattergeo"
           }
          ],
          "scattergl": [
           {
            "marker": {
             "colorbar": {
              "outlinewidth": 0,
              "ticks": ""
             }
            },
            "type": "scattergl"
           }
          ],
          "scattermapbox": [
           {
            "marker": {
             "colorbar": {
              "outlinewidth": 0,
              "ticks": ""
             }
            },
            "type": "scattermapbox"
           }
          ],
          "scatterpolar": [
           {
            "marker": {
             "colorbar": {
              "outlinewidth": 0,
              "ticks": ""
             }
            },
            "type": "scatterpolar"
           }
          ],
          "scatterpolargl": [
           {
            "marker": {
             "colorbar": {
              "outlinewidth": 0,
              "ticks": ""
             }
            },
            "type": "scatterpolargl"
           }
          ],
          "scatterternary": [
           {
            "marker": {
             "colorbar": {
              "outlinewidth": 0,
              "ticks": ""
             }
            },
            "type": "scatterternary"
           }
          ],
          "surface": [
           {
            "colorbar": {
             "outlinewidth": 0,
             "ticks": ""
            },
            "colorscale": [
             [
              0,
              "#0d0887"
             ],
             [
              0.1111111111111111,
              "#46039f"
             ],
             [
              0.2222222222222222,
              "#7201a8"
             ],
             [
              0.3333333333333333,
              "#9c179e"
             ],
             [
              0.4444444444444444,
              "#bd3786"
             ],
             [
              0.5555555555555556,
              "#d8576b"
             ],
             [
              0.6666666666666666,
              "#ed7953"
             ],
             [
              0.7777777777777778,
              "#fb9f3a"
             ],
             [
              0.8888888888888888,
              "#fdca26"
             ],
             [
              1,
              "#f0f921"
             ]
            ],
            "type": "surface"
           }
          ],
          "table": [
           {
            "cells": {
             "fill": {
              "color": "#EBF0F8"
             },
             "line": {
              "color": "white"
             }
            },
            "header": {
             "fill": {
              "color": "#C8D4E3"
             },
             "line": {
              "color": "white"
             }
            },
            "type": "table"
           }
          ]
         },
         "layout": {
          "annotationdefaults": {
           "arrowcolor": "#2a3f5f",
           "arrowhead": 0,
           "arrowwidth": 1
          },
          "autotypenumbers": "strict",
          "coloraxis": {
           "colorbar": {
            "outlinewidth": 0,
            "ticks": ""
           }
          },
          "colorscale": {
           "diverging": [
            [
             0,
             "#8e0152"
            ],
            [
             0.1,
             "#c51b7d"
            ],
            [
             0.2,
             "#de77ae"
            ],
            [
             0.3,
             "#f1b6da"
            ],
            [
             0.4,
             "#fde0ef"
            ],
            [
             0.5,
             "#f7f7f7"
            ],
            [
             0.6,
             "#e6f5d0"
            ],
            [
             0.7,
             "#b8e186"
            ],
            [
             0.8,
             "#7fbc41"
            ],
            [
             0.9,
             "#4d9221"
            ],
            [
             1,
             "#276419"
            ]
           ],
           "sequential": [
            [
             0,
             "#0d0887"
            ],
            [
             0.1111111111111111,
             "#46039f"
            ],
            [
             0.2222222222222222,
             "#7201a8"
            ],
            [
             0.3333333333333333,
             "#9c179e"
            ],
            [
             0.4444444444444444,
             "#bd3786"
            ],
            [
             0.5555555555555556,
             "#d8576b"
            ],
            [
             0.6666666666666666,
             "#ed7953"
            ],
            [
             0.7777777777777778,
             "#fb9f3a"
            ],
            [
             0.8888888888888888,
             "#fdca26"
            ],
            [
             1,
             "#f0f921"
            ]
           ],
           "sequentialminus": [
            [
             0,
             "#0d0887"
            ],
            [
             0.1111111111111111,
             "#46039f"
            ],
            [
             0.2222222222222222,
             "#7201a8"
            ],
            [
             0.3333333333333333,
             "#9c179e"
            ],
            [
             0.4444444444444444,
             "#bd3786"
            ],
            [
             0.5555555555555556,
             "#d8576b"
            ],
            [
             0.6666666666666666,
             "#ed7953"
            ],
            [
             0.7777777777777778,
             "#fb9f3a"
            ],
            [
             0.8888888888888888,
             "#fdca26"
            ],
            [
             1,
             "#f0f921"
            ]
           ]
          },
          "colorway": [
           "#636efa",
           "#EF553B",
           "#00cc96",
           "#ab63fa",
           "#FFA15A",
           "#19d3f3",
           "#FF6692",
           "#B6E880",
           "#FF97FF",
           "#FECB52"
          ],
          "font": {
           "color": "#2a3f5f"
          },
          "geo": {
           "bgcolor": "white",
           "lakecolor": "white",
           "landcolor": "#E5ECF6",
           "showlakes": true,
           "showland": true,
           "subunitcolor": "white"
          },
          "hoverlabel": {
           "align": "left"
          },
          "hovermode": "closest",
          "mapbox": {
           "style": "light"
          },
          "paper_bgcolor": "white",
          "plot_bgcolor": "#E5ECF6",
          "polar": {
           "angularaxis": {
            "gridcolor": "white",
            "linecolor": "white",
            "ticks": ""
           },
           "bgcolor": "#E5ECF6",
           "radialaxis": {
            "gridcolor": "white",
            "linecolor": "white",
            "ticks": ""
           }
          },
          "scene": {
           "xaxis": {
            "backgroundcolor": "#E5ECF6",
            "gridcolor": "white",
            "gridwidth": 2,
            "linecolor": "white",
            "showbackground": true,
            "ticks": "",
            "zerolinecolor": "white"
           },
           "yaxis": {
            "backgroundcolor": "#E5ECF6",
            "gridcolor": "white",
            "gridwidth": 2,
            "linecolor": "white",
            "showbackground": true,
            "ticks": "",
            "zerolinecolor": "white"
           },
           "zaxis": {
            "backgroundcolor": "#E5ECF6",
            "gridcolor": "white",
            "gridwidth": 2,
            "linecolor": "white",
            "showbackground": true,
            "ticks": "",
            "zerolinecolor": "white"
           }
          },
          "shapedefaults": {
           "line": {
            "color": "#2a3f5f"
           }
          },
          "ternary": {
           "aaxis": {
            "gridcolor": "white",
            "linecolor": "white",
            "ticks": ""
           },
           "baxis": {
            "gridcolor": "white",
            "linecolor": "white",
            "ticks": ""
           },
           "bgcolor": "#E5ECF6",
           "caxis": {
            "gridcolor": "white",
            "linecolor": "white",
            "ticks": ""
           }
          },
          "title": {
           "x": 0.05
          },
          "xaxis": {
           "automargin": true,
           "gridcolor": "white",
           "linecolor": "white",
           "ticks": "",
           "title": {
            "standoff": 15
           },
           "zerolinecolor": "white",
           "zerolinewidth": 2
          },
          "yaxis": {
           "automargin": true,
           "gridcolor": "white",
           "linecolor": "white",
           "ticks": "",
           "title": {
            "standoff": 15
           },
           "zerolinecolor": "white",
           "zerolinewidth": 2
          }
         }
        },
        "width": 1000,
        "xaxis": {
         "anchor": "y",
         "domain": [
          0,
          1
         ],
         "title": {
          "text": "x"
         }
        },
        "yaxis": {
         "anchor": "x",
         "domain": [
          0,
          1
         ],
         "title": {
          "text": "y"
         }
        }
       }
      }
     },
     "metadata": {},
     "output_type": "display_data"
    }
   ],
   "source": [
    "# visualize only the unique text labels in 2D scatter plot\n",
    "# i.e. remove all numbers and duplicates\n",
    "data_text_unique =data[data.text.str.isalpha()].drop_duplicates(subset='text')\n",
    "fig = px.scatter(data_text_unique, x=\"x\", y=\"y\", text='text', width=1000, height=1000,)\n",
    "fig.show()"
   ]
  },
  {
   "cell_type": "code",
   "execution_count": null,
   "metadata": {},
   "outputs": [],
   "source": []
  }
 ],
 "metadata": {
  "kernelspec": {
   "display_name": "ce",
   "language": "python",
   "name": "python3"
  },
  "language_info": {
   "codemirror_mode": {
    "name": "ipython",
    "version": 3
   },
   "file_extension": ".py",
   "mimetype": "text/x-python",
   "name": "python",
   "nbconvert_exporter": "python",
   "pygments_lexer": "ipython3",
   "version": "3.9.18"
  }
 },
 "nbformat": 4,
 "nbformat_minor": 2
}
