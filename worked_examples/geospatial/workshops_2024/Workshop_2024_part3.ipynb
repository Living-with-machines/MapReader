{
 "cells": [
  {
   "attachments": {},
   "cell_type": "markdown",
   "id": "7a354e6d",
   "metadata": {},
   "source": [
    "# Mapreader Workshops 2024"
   ]
  },
  {
   "attachments": {},
   "cell_type": "markdown",
   "id": "1e640743",
   "metadata": {},
   "source": [
    "----"
   ]
  },
  {
   "cell_type": "markdown",
   "id": "f2353861",
   "metadata": {},
   "source": [
    "First check you have the correct version of MapReader: v1.3.2\n",
    "\n",
    "This can be downloaded from pypi using `pip install mapreader==1.3.2` or by checking out the repo at [this commit](https://github.com/Living-with-machines/MapReader/releases/tag/v1.3.2)"
   ]
  },
  {
   "cell_type": "code",
   "execution_count": 1,
   "id": "a0d31f88",
   "metadata": {},
   "outputs": [],
   "source": [
    "import mapreader\n",
    "assert mapreader.__version__ == '1.3.2'"
   ]
  },
  {
   "cell_type": "markdown",
   "id": "f65f140c",
   "metadata": {},
   "source": [
    "-------------"
   ]
  },
  {
   "attachments": {},
   "cell_type": "markdown",
   "id": "6151ccfd",
   "metadata": {},
   "source": [
    "# Classify"
   ]
  },
  {
   "attachments": {},
   "cell_type": "markdown",
   "id": "0433e1a7",
   "metadata": {},
   "source": [
    "We can also use our ``ClassifierContainer`` to infer labels on new datasets with a pre-trained/fine-tuned model.\n",
    "\n",
    "We are going to look at how to use our railspace model (https://huggingface.co/Livingwithmachines/mr_resnest101e_finetuned_OS_6inch_2nd_ed_railspace) to predict labels on patches.To do this, we need to load the model from huggingface and then pass it in as the ``model`` argument in our ``ClassifierContainer``."
   ]
  },
  {
   "cell_type": "markdown",
   "id": "60cffc05",
   "metadata": {},
   "source": [
    "We need to use the ``timm`` library to set up our model. You can see this is shown in the top right corner of the [model page](https://huggingface.co/Livingwithmachines/mr_resnest101e_finetuned_OS_6inch_2nd_ed_railspace) where it says ``</> Use in timm``.\n",
    "\n",
    "Other models will have different instructions, e.g. [resnet-50](https://huggingface.co/microsoft/resnet-50) should be loaded with the ``transformers`` library."
   ]
  },
  {
   "cell_type": "code",
   "execution_count": 2,
   "id": "e6aa7339",
   "metadata": {},
   "outputs": [],
   "source": [
    "try:\n",
    "    import timm\n",
    "except ImportError: # timm isn't installed by default, so you might need to install it\n",
    "    !pip install timm\n",
    "    import timm"
   ]
  },
  {
   "cell_type": "code",
   "execution_count": 3,
   "id": "8586785c",
   "metadata": {},
   "outputs": [],
   "source": [
    "my_model = timm.create_model(\"hf_hub:Livingwithmachines/mr_resnest101e_finetuned_OS_6inch_2nd_ed_building\", pretrained=True)"
   ]
  },
  {
   "cell_type": "markdown",
   "id": "b363ac68",
   "metadata": {},
   "source": [
    "After setting up the model, we can then set up our ``ClassifierContainer``. This is done in the same way as before, except this time we pass ``my_model`` as the model argument."
   ]
  },
  {
   "cell_type": "code",
   "execution_count": 4,
   "id": "f6276606",
   "metadata": {},
   "outputs": [],
   "source": [
    "from mapreader import ClassifierContainer"
   ]
  },
  {
   "cell_type": "markdown",
   "id": "665bf69e",
   "metadata": {},
   "source": [
    "The below will make sure that the model training/inference runs as as fast as possible on your machine by using CUDA (GPU) or MPS if they are available.\n",
    "\n",
    "This ``device`` variable can then be fed into the ``ClassifierContainer``."
   ]
  },
  {
   "cell_type": "code",
   "execution_count": 5,
   "id": "13140bca",
   "metadata": {},
   "outputs": [],
   "source": [
    "import torch\n",
    "\n",
    "device = 'cuda' if torch.cuda.is_available() else 'mps' if torch.backends.mps.is_available() else 'cpu'"
   ]
  },
  {
   "cell_type": "code",
   "execution_count": 6,
   "id": "5a0ca8ad",
   "metadata": {},
   "outputs": [
    {
     "name": "stdout",
     "output_type": "stream",
     "text": [
      "[INFO] Device is set to cpu\n",
      "[INFO] Initializing model.\n"
     ]
    }
   ],
   "source": [
    "my_classifier = ClassifierContainer(\n",
    "    model=my_model,\n",
    "    labels_map={0:\"no\", 1:\"building\"}, # manually set this, you can find it in the model card - https://huggingface.co/Livingwithmachines/mr_resnest101e_finetuned_OS_6inch_2nd_ed_railspace\n",
    "    dataloaders=None,\n",
    ")"
   ]
  },
  {
   "cell_type": "markdown",
   "id": "e14b0b01",
   "metadata": {},
   "source": [
    "## Infer"
   ]
  },
  {
   "cell_type": "markdown",
   "id": "0e486b6c",
   "metadata": {},
   "source": [
    "The model can now be used to infer, or predict, the labels of \"unseen\" patches.\n",
    "\n",
    "To show how inference works, we will predict the labels on patches from just one parent image. \n",
    "\n",
    "We will do this by creating a ``subset_patch_df`` from our previously saved ``patch_df.csv``.\n",
    "Our new ``subset_patch_df`` will only contain the information of patches from ``map_75650661.png``."
   ]
  },
  {
   "cell_type": "code",
   "execution_count": 7,
   "id": "d2c82d8b",
   "metadata": {},
   "outputs": [
    {
     "data": {
      "text/html": [
       "<div>\n",
       "<style scoped>\n",
       "    .dataframe tbody tr th:only-of-type {\n",
       "        vertical-align: middle;\n",
       "    }\n",
       "\n",
       "    .dataframe tbody tr th {\n",
       "        vertical-align: top;\n",
       "    }\n",
       "\n",
       "    .dataframe thead th {\n",
       "        text-align: right;\n",
       "    }\n",
       "</style>\n",
       "<table border=\"1\" class=\"dataframe\">\n",
       "  <thead>\n",
       "    <tr style=\"text-align: right;\">\n",
       "      <th></th>\n",
       "      <th>parent_id</th>\n",
       "      <th>image_path</th>\n",
       "      <th>shape</th>\n",
       "      <th>pixel_bounds</th>\n",
       "      <th>coordinates</th>\n",
       "      <th>crs</th>\n",
       "      <th>polygon</th>\n",
       "      <th>mean_pixel_R</th>\n",
       "      <th>mean_pixel_G</th>\n",
       "      <th>mean_pixel_B</th>\n",
       "      <th>mean_pixel_A</th>\n",
       "      <th>std_pixel_R</th>\n",
       "      <th>std_pixel_G</th>\n",
       "      <th>std_pixel_B</th>\n",
       "      <th>std_pixel_A</th>\n",
       "    </tr>\n",
       "    <tr>\n",
       "      <th>image_id</th>\n",
       "      <th></th>\n",
       "      <th></th>\n",
       "      <th></th>\n",
       "      <th></th>\n",
       "      <th></th>\n",
       "      <th></th>\n",
       "      <th></th>\n",
       "      <th></th>\n",
       "      <th></th>\n",
       "      <th></th>\n",
       "      <th></th>\n",
       "      <th></th>\n",
       "      <th></th>\n",
       "      <th></th>\n",
       "      <th></th>\n",
       "    </tr>\n",
       "  </thead>\n",
       "  <tbody>\n",
       "    <tr>\n",
       "      <th>patch-0-0-149-149-#map_75650661.png#.png</th>\n",
       "      <td>map_75650661.png</td>\n",
       "      <td>/Users/rwood/LwM/mapreader/MapReader/worked_ex...</td>\n",
       "      <td>(149, 149, 4)</td>\n",
       "      <td>(0, 0, 149, 149)</td>\n",
       "      <td>(-4.2572021484375, 55.86670862718037, -4.25560...</td>\n",
       "      <td>EPSG:4326</td>\n",
       "      <td>POLYGON ((-4.255603551864624 55.86670862718037...</td>\n",
       "      <td>0.759666</td>\n",
       "      <td>0.740528</td>\n",
       "      <td>0.712193</td>\n",
       "      <td>1.0</td>\n",
       "      <td>0.181756</td>\n",
       "      <td>0.181556</td>\n",
       "      <td>0.177755</td>\n",
       "      <td>0.0</td>\n",
       "    </tr>\n",
       "    <tr>\n",
       "      <th>patch-0-149-149-298-#map_75650661.png#.png</th>\n",
       "      <td>map_75650661.png</td>\n",
       "      <td>/Users/rwood/LwM/mapreader/MapReader/worked_ex...</td>\n",
       "      <td>(149, 149, 4)</td>\n",
       "      <td>(0, 149, 149, 298)</td>\n",
       "      <td>(-4.2572021484375, 55.865811287362945, -4.2556...</td>\n",
       "      <td>EPSG:4326</td>\n",
       "      <td>POLYGON ((-4.255603551864624 55.86581128736294...</td>\n",
       "      <td>0.775035</td>\n",
       "      <td>0.755652</td>\n",
       "      <td>0.726691</td>\n",
       "      <td>1.0</td>\n",
       "      <td>0.173966</td>\n",
       "      <td>0.173666</td>\n",
       "      <td>0.170123</td>\n",
       "      <td>0.0</td>\n",
       "    </tr>\n",
       "    <tr>\n",
       "      <th>patch-0-298-149-447-#map_75650661.png#.png</th>\n",
       "      <td>map_75650661.png</td>\n",
       "      <td>/Users/rwood/LwM/mapreader/MapReader/worked_ex...</td>\n",
       "      <td>(149, 149, 4)</td>\n",
       "      <td>(0, 298, 149, 447)</td>\n",
       "      <td>(-4.2572021484375, 55.86491394754552, -4.25560...</td>\n",
       "      <td>EPSG:4326</td>\n",
       "      <td>POLYGON ((-4.255603551864624 55.86491394754552...</td>\n",
       "      <td>0.802534</td>\n",
       "      <td>0.781693</td>\n",
       "      <td>0.751058</td>\n",
       "      <td>1.0</td>\n",
       "      <td>0.176199</td>\n",
       "      <td>0.175807</td>\n",
       "      <td>0.171707</td>\n",
       "      <td>0.0</td>\n",
       "    </tr>\n",
       "    <tr>\n",
       "      <th>patch-0-447-149-596-#map_75650661.png#.png</th>\n",
       "      <td>map_75650661.png</td>\n",
       "      <td>/Users/rwood/LwM/mapreader/MapReader/worked_ex...</td>\n",
       "      <td>(149, 149, 4)</td>\n",
       "      <td>(0, 447, 149, 596)</td>\n",
       "      <td>(-4.2572021484375, 55.86401660772808, -4.25560...</td>\n",
       "      <td>EPSG:4326</td>\n",
       "      <td>POLYGON ((-4.255603551864624 55.86401660772808...</td>\n",
       "      <td>0.804019</td>\n",
       "      <td>0.783748</td>\n",
       "      <td>0.752186</td>\n",
       "      <td>1.0</td>\n",
       "      <td>0.172955</td>\n",
       "      <td>0.172673</td>\n",
       "      <td>0.168803</td>\n",
       "      <td>0.0</td>\n",
       "    </tr>\n",
       "    <tr>\n",
       "      <th>patch-0-596-149-745-#map_75650661.png#.png</th>\n",
       "      <td>map_75650661.png</td>\n",
       "      <td>/Users/rwood/LwM/mapreader/MapReader/worked_ex...</td>\n",
       "      <td>(149, 149, 4)</td>\n",
       "      <td>(0, 596, 149, 745)</td>\n",
       "      <td>(-4.2572021484375, 55.863119267910655, -4.2556...</td>\n",
       "      <td>EPSG:4326</td>\n",
       "      <td>POLYGON ((-4.255603551864624 55.86311926791065...</td>\n",
       "      <td>0.784714</td>\n",
       "      <td>0.763500</td>\n",
       "      <td>0.732548</td>\n",
       "      <td>1.0</td>\n",
       "      <td>0.190242</td>\n",
       "      <td>0.189836</td>\n",
       "      <td>0.185525</td>\n",
       "      <td>0.0</td>\n",
       "    </tr>\n",
       "  </tbody>\n",
       "</table>\n",
       "</div>"
      ],
      "text/plain": [
       "                                                   parent_id  \\\n",
       "image_id                                                       \n",
       "patch-0-0-149-149-#map_75650661.png#.png    map_75650661.png   \n",
       "patch-0-149-149-298-#map_75650661.png#.png  map_75650661.png   \n",
       "patch-0-298-149-447-#map_75650661.png#.png  map_75650661.png   \n",
       "patch-0-447-149-596-#map_75650661.png#.png  map_75650661.png   \n",
       "patch-0-596-149-745-#map_75650661.png#.png  map_75650661.png   \n",
       "\n",
       "                                                                                   image_path  \\\n",
       "image_id                                                                                        \n",
       "patch-0-0-149-149-#map_75650661.png#.png    /Users/rwood/LwM/mapreader/MapReader/worked_ex...   \n",
       "patch-0-149-149-298-#map_75650661.png#.png  /Users/rwood/LwM/mapreader/MapReader/worked_ex...   \n",
       "patch-0-298-149-447-#map_75650661.png#.png  /Users/rwood/LwM/mapreader/MapReader/worked_ex...   \n",
       "patch-0-447-149-596-#map_75650661.png#.png  /Users/rwood/LwM/mapreader/MapReader/worked_ex...   \n",
       "patch-0-596-149-745-#map_75650661.png#.png  /Users/rwood/LwM/mapreader/MapReader/worked_ex...   \n",
       "\n",
       "                                                    shape        pixel_bounds  \\\n",
       "image_id                                                                        \n",
       "patch-0-0-149-149-#map_75650661.png#.png    (149, 149, 4)    (0, 0, 149, 149)   \n",
       "patch-0-149-149-298-#map_75650661.png#.png  (149, 149, 4)  (0, 149, 149, 298)   \n",
       "patch-0-298-149-447-#map_75650661.png#.png  (149, 149, 4)  (0, 298, 149, 447)   \n",
       "patch-0-447-149-596-#map_75650661.png#.png  (149, 149, 4)  (0, 447, 149, 596)   \n",
       "patch-0-596-149-745-#map_75650661.png#.png  (149, 149, 4)  (0, 596, 149, 745)   \n",
       "\n",
       "                                                                                  coordinates  \\\n",
       "image_id                                                                                        \n",
       "patch-0-0-149-149-#map_75650661.png#.png    (-4.2572021484375, 55.86670862718037, -4.25560...   \n",
       "patch-0-149-149-298-#map_75650661.png#.png  (-4.2572021484375, 55.865811287362945, -4.2556...   \n",
       "patch-0-298-149-447-#map_75650661.png#.png  (-4.2572021484375, 55.86491394754552, -4.25560...   \n",
       "patch-0-447-149-596-#map_75650661.png#.png  (-4.2572021484375, 55.86401660772808, -4.25560...   \n",
       "patch-0-596-149-745-#map_75650661.png#.png  (-4.2572021484375, 55.863119267910655, -4.2556...   \n",
       "\n",
       "                                                  crs  \\\n",
       "image_id                                                \n",
       "patch-0-0-149-149-#map_75650661.png#.png    EPSG:4326   \n",
       "patch-0-149-149-298-#map_75650661.png#.png  EPSG:4326   \n",
       "patch-0-298-149-447-#map_75650661.png#.png  EPSG:4326   \n",
       "patch-0-447-149-596-#map_75650661.png#.png  EPSG:4326   \n",
       "patch-0-596-149-745-#map_75650661.png#.png  EPSG:4326   \n",
       "\n",
       "                                                                                      polygon  \\\n",
       "image_id                                                                                        \n",
       "patch-0-0-149-149-#map_75650661.png#.png    POLYGON ((-4.255603551864624 55.86670862718037...   \n",
       "patch-0-149-149-298-#map_75650661.png#.png  POLYGON ((-4.255603551864624 55.86581128736294...   \n",
       "patch-0-298-149-447-#map_75650661.png#.png  POLYGON ((-4.255603551864624 55.86491394754552...   \n",
       "patch-0-447-149-596-#map_75650661.png#.png  POLYGON ((-4.255603551864624 55.86401660772808...   \n",
       "patch-0-596-149-745-#map_75650661.png#.png  POLYGON ((-4.255603551864624 55.86311926791065...   \n",
       "\n",
       "                                            mean_pixel_R  mean_pixel_G  \\\n",
       "image_id                                                                 \n",
       "patch-0-0-149-149-#map_75650661.png#.png        0.759666      0.740528   \n",
       "patch-0-149-149-298-#map_75650661.png#.png      0.775035      0.755652   \n",
       "patch-0-298-149-447-#map_75650661.png#.png      0.802534      0.781693   \n",
       "patch-0-447-149-596-#map_75650661.png#.png      0.804019      0.783748   \n",
       "patch-0-596-149-745-#map_75650661.png#.png      0.784714      0.763500   \n",
       "\n",
       "                                            mean_pixel_B  mean_pixel_A  \\\n",
       "image_id                                                                 \n",
       "patch-0-0-149-149-#map_75650661.png#.png        0.712193           1.0   \n",
       "patch-0-149-149-298-#map_75650661.png#.png      0.726691           1.0   \n",
       "patch-0-298-149-447-#map_75650661.png#.png      0.751058           1.0   \n",
       "patch-0-447-149-596-#map_75650661.png#.png      0.752186           1.0   \n",
       "patch-0-596-149-745-#map_75650661.png#.png      0.732548           1.0   \n",
       "\n",
       "                                            std_pixel_R  std_pixel_G  \\\n",
       "image_id                                                               \n",
       "patch-0-0-149-149-#map_75650661.png#.png       0.181756     0.181556   \n",
       "patch-0-149-149-298-#map_75650661.png#.png     0.173966     0.173666   \n",
       "patch-0-298-149-447-#map_75650661.png#.png     0.176199     0.175807   \n",
       "patch-0-447-149-596-#map_75650661.png#.png     0.172955     0.172673   \n",
       "patch-0-596-149-745-#map_75650661.png#.png     0.190242     0.189836   \n",
       "\n",
       "                                            std_pixel_B  std_pixel_A  \n",
       "image_id                                                              \n",
       "patch-0-0-149-149-#map_75650661.png#.png       0.177755          0.0  \n",
       "patch-0-149-149-298-#map_75650661.png#.png     0.170123          0.0  \n",
       "patch-0-298-149-447-#map_75650661.png#.png     0.171707          0.0  \n",
       "patch-0-447-149-596-#map_75650661.png#.png     0.168803          0.0  \n",
       "patch-0-596-149-745-#map_75650661.png#.png     0.185525          0.0  "
      ]
     },
     "execution_count": 7,
     "metadata": {},
     "output_type": "execute_result"
    }
   ],
   "source": [
    "import pandas as pd\n",
    "\n",
    "patch_df = pd.read_csv(\"./patch_df.csv\", index_col=0)  # load our patch_df.csv file\n",
    "\n",
    "subset_patch_df = patch_df[\n",
    "    patch_df[\"parent_id\"] == \"map_75650661.png\"\n",
    "]  # filter for our chosen parent image\n",
    "subset_patch_df.head()"
   ]
  },
  {
   "cell_type": "markdown",
   "id": "069016d3",
   "metadata": {},
   "source": [
    "> __**NOTE**__: MapReader can be used to predict the labels on entire datasets and so creating a ``subset_patch_df`` is not needed in most use cases."
   ]
  },
  {
   "cell_type": "markdown",
   "id": "3d6085b2",
   "metadata": {},
   "source": [
    "### Create a dataset (``infer``) from our ``subset_patch_df``"
   ]
  },
  {
   "cell_type": "code",
   "execution_count": 8,
   "id": "f482f071",
   "metadata": {},
   "outputs": [],
   "source": [
    "from mapreader import PatchDataset"
   ]
  },
  {
   "cell_type": "code",
   "execution_count": 9,
   "id": "8757dc4f",
   "metadata": {},
   "outputs": [],
   "source": [
    "infer = PatchDataset(patch_df, transform=\"val\", patch_paths_col=\"image_path\")"
   ]
  },
  {
   "attachments": {},
   "cell_type": "markdown",
   "id": "94eb2966",
   "metadata": {},
   "source": [
    "### Load dataset into ``my_classifier``"
   ]
  },
  {
   "cell_type": "markdown",
   "id": "81f6de9c",
   "metadata": {},
   "source": [
    "In the same way as we did in the last notebook, we need to load our dataset into our classifier container."
   ]
  },
  {
   "cell_type": "code",
   "execution_count": 12,
   "id": "b9a1cc46",
   "metadata": {},
   "outputs": [],
   "source": [
    "my_classifier.load_dataset(infer, \"infer_building\")"
   ]
  },
  {
   "attachments": {},
   "cell_type": "markdown",
   "id": "af9e461f",
   "metadata": {},
   "source": [
    "### Run model inference"
   ]
  },
  {
   "cell_type": "markdown",
   "id": "e3a3f48c",
   "metadata": {},
   "source": [
    "__**YOUR TURN**__: Run inference on your ``\"infer_railspace\"`` dataset\n",
    "\n",
    "See [here](https://mapreader.readthedocs.io/en/latest/User-guide/Classify/Infer.html#infer) in docs."
   ]
  },
  {
   "cell_type": "code",
   "execution_count": 13,
   "id": "f47f6608",
   "metadata": {
    "scrolled": false
   },
   "outputs": [
    {
     "name": "stdout",
     "output_type": "stream",
     "text": [
      "[INFO] Each step will pass: ['infer_building'].\n",
      "\u001b[92m2024-06-03 12:15:34\u001b[0m \u001b[95m599-JY5FK6\u001b[0m \u001b[1m\u001b[90m[INFO]\u001b[0m \u001b[2;32minfer_building -- 1/1 --   16/10470 (  0.2% ) -- \u001b[0m\n",
      "\u001b[92m2024-06-03 12:15:58\u001b[0m \u001b[95m599-JY5FK6\u001b[0m \u001b[1m\u001b[90m[INFO]\u001b[0m \u001b[2;32minfer_building -- 1/1 --   96/10470 (  0.9% ) -- \u001b[0m\n",
      "\u001b[92m2024-06-03 12:16:22\u001b[0m \u001b[95m599-JY5FK6\u001b[0m \u001b[1m\u001b[90m[INFO]\u001b[0m \u001b[2;32minfer_building -- 1/1 --  176/10470 (  1.7% ) -- \u001b[0m\n",
      "\u001b[92m2024-06-03 12:16:46\u001b[0m \u001b[95m599-JY5FK6\u001b[0m \u001b[1m\u001b[90m[INFO]\u001b[0m \u001b[2;32minfer_building -- 1/1 --  256/10470 (  2.4% ) -- \u001b[0m\n",
      "\u001b[92m2024-06-03 12:17:09\u001b[0m \u001b[95m599-JY5FK6\u001b[0m \u001b[1m\u001b[90m[INFO]\u001b[0m \u001b[2;32minfer_building -- 1/1 --  336/10470 (  3.2% ) -- \u001b[0m\n",
      "\u001b[92m2024-06-03 12:17:33\u001b[0m \u001b[95m599-JY5FK6\u001b[0m \u001b[1m\u001b[90m[INFO]\u001b[0m \u001b[2;32minfer_building -- 1/1 --  416/10470 (  4.0% ) -- \u001b[0m\n",
      "\u001b[92m2024-06-03 12:17:55\u001b[0m \u001b[95m599-JY5FK6\u001b[0m \u001b[1m\u001b[90m[INFO]\u001b[0m \u001b[2;32minfer_building -- 1/1 --  496/10470 (  4.7% ) -- \u001b[0m\n",
      "\u001b[92m2024-06-03 12:18:20\u001b[0m \u001b[95m599-JY5FK6\u001b[0m \u001b[1m\u001b[90m[INFO]\u001b[0m \u001b[2;32minfer_building -- 1/1 --  576/10470 (  5.5% ) -- \u001b[0m\n",
      "\u001b[92m2024-06-03 12:18:49\u001b[0m \u001b[95m599-JY5FK6\u001b[0m \u001b[1m\u001b[90m[INFO]\u001b[0m \u001b[2;32minfer_building -- 1/1 --  656/10470 (  6.3% ) -- \u001b[0m\n",
      "\u001b[92m2024-06-03 12:19:17\u001b[0m \u001b[95m599-JY5FK6\u001b[0m \u001b[1m\u001b[90m[INFO]\u001b[0m \u001b[2;32minfer_building -- 1/1 --  736/10470 (  7.0% ) -- \u001b[0m\n",
      "\u001b[92m2024-06-03 12:19:41\u001b[0m \u001b[95m599-JY5FK6\u001b[0m \u001b[1m\u001b[90m[INFO]\u001b[0m \u001b[2;32minfer_building -- 1/1 --  816/10470 (  7.8% ) -- \u001b[0m\n",
      "\u001b[92m2024-06-03 12:20:05\u001b[0m \u001b[95m599-JY5FK6\u001b[0m \u001b[1m\u001b[90m[INFO]\u001b[0m \u001b[2;32minfer_building -- 1/1 --  896/10470 (  8.6% ) -- \u001b[0m\n",
      "\u001b[92m2024-06-03 12:20:31\u001b[0m \u001b[95m599-JY5FK6\u001b[0m \u001b[1m\u001b[90m[INFO]\u001b[0m \u001b[2;32minfer_building -- 1/1 --  976/10470 (  9.3% ) -- \u001b[0m\n",
      "\u001b[92m2024-06-03 12:20:56\u001b[0m \u001b[95m599-JY5FK6\u001b[0m \u001b[1m\u001b[90m[INFO]\u001b[0m \u001b[2;32minfer_building -- 1/1 -- 1056/10470 ( 10.1% ) -- \u001b[0m\n",
      "\u001b[92m2024-06-03 12:21:19\u001b[0m \u001b[95m599-JY5FK6\u001b[0m \u001b[1m\u001b[90m[INFO]\u001b[0m \u001b[2;32minfer_building -- 1/1 -- 1136/10470 ( 10.9% ) -- \u001b[0m\n",
      "\u001b[92m2024-06-03 12:21:42\u001b[0m \u001b[95m599-JY5FK6\u001b[0m \u001b[1m\u001b[90m[INFO]\u001b[0m \u001b[2;32minfer_building -- 1/1 -- 1216/10470 ( 11.6% ) -- \u001b[0m\n",
      "\u001b[92m2024-06-03 12:22:04\u001b[0m \u001b[95m599-JY5FK6\u001b[0m \u001b[1m\u001b[90m[INFO]\u001b[0m \u001b[2;32minfer_building -- 1/1 -- 1296/10470 ( 12.4% ) -- \u001b[0m\n",
      "\u001b[92m2024-06-03 12:22:28\u001b[0m \u001b[95m599-JY5FK6\u001b[0m \u001b[1m\u001b[90m[INFO]\u001b[0m \u001b[2;32minfer_building -- 1/1 -- 1376/10470 ( 13.1% ) -- \u001b[0m\n",
      "\u001b[92m2024-06-03 12:23:02\u001b[0m \u001b[95m599-JY5FK6\u001b[0m \u001b[1m\u001b[90m[INFO]\u001b[0m \u001b[2;32minfer_building -- 1/1 -- 1456/10470 ( 13.9% ) -- \u001b[0m\n",
      "\u001b[92m2024-06-03 12:23:30\u001b[0m \u001b[95m599-JY5FK6\u001b[0m \u001b[1m\u001b[90m[INFO]\u001b[0m \u001b[2;32minfer_building -- 1/1 -- 1536/10470 ( 14.7% ) -- \u001b[0m\n",
      "\u001b[92m2024-06-03 12:23:58\u001b[0m \u001b[95m599-JY5FK6\u001b[0m \u001b[1m\u001b[90m[INFO]\u001b[0m \u001b[2;32minfer_building -- 1/1 -- 1616/10470 ( 15.4% ) -- \u001b[0m\n",
      "\u001b[92m2024-06-03 12:24:26\u001b[0m \u001b[95m599-JY5FK6\u001b[0m \u001b[1m\u001b[90m[INFO]\u001b[0m \u001b[2;32minfer_building -- 1/1 -- 1696/10470 ( 16.2% ) -- \u001b[0m\n",
      "\u001b[92m2024-06-03 12:24:52\u001b[0m \u001b[95m599-JY5FK6\u001b[0m \u001b[1m\u001b[90m[INFO]\u001b[0m \u001b[2;32minfer_building -- 1/1 -- 1776/10470 ( 17.0% ) -- \u001b[0m\n",
      "\u001b[92m2024-06-03 12:25:17\u001b[0m \u001b[95m599-JY5FK6\u001b[0m \u001b[1m\u001b[90m[INFO]\u001b[0m \u001b[2;32minfer_building -- 1/1 -- 1856/10470 ( 17.7% ) -- \u001b[0m\n",
      "\u001b[92m2024-06-03 12:25:42\u001b[0m \u001b[95m599-JY5FK6\u001b[0m \u001b[1m\u001b[90m[INFO]\u001b[0m \u001b[2;32minfer_building -- 1/1 -- 1936/10470 ( 18.5% ) -- \u001b[0m\n",
      "\u001b[92m2024-06-03 12:26:07\u001b[0m \u001b[95m599-JY5FK6\u001b[0m \u001b[1m\u001b[90m[INFO]\u001b[0m \u001b[2;32minfer_building -- 1/1 -- 2016/10470 ( 19.3% ) -- \u001b[0m\n",
      "\u001b[92m2024-06-03 12:26:30\u001b[0m \u001b[95m599-JY5FK6\u001b[0m \u001b[1m\u001b[90m[INFO]\u001b[0m \u001b[2;32minfer_building -- 1/1 -- 2096/10470 ( 20.0% ) -- \u001b[0m\n",
      "\u001b[92m2024-06-03 12:26:55\u001b[0m \u001b[95m599-JY5FK6\u001b[0m \u001b[1m\u001b[90m[INFO]\u001b[0m \u001b[2;32minfer_building -- 1/1 -- 2176/10470 ( 20.8% ) -- \u001b[0m\n",
      "\u001b[92m2024-06-03 12:27:21\u001b[0m \u001b[95m599-JY5FK6\u001b[0m \u001b[1m\u001b[90m[INFO]\u001b[0m \u001b[2;32minfer_building -- 1/1 -- 2256/10470 ( 21.5% ) -- \u001b[0m\n",
      "\u001b[92m2024-06-03 12:27:51\u001b[0m \u001b[95m599-JY5FK6\u001b[0m \u001b[1m\u001b[90m[INFO]\u001b[0m \u001b[2;32minfer_building -- 1/1 -- 2336/10470 ( 22.3% ) -- \u001b[0m\n",
      "\u001b[92m2024-06-03 12:28:22\u001b[0m \u001b[95m599-JY5FK6\u001b[0m \u001b[1m\u001b[90m[INFO]\u001b[0m \u001b[2;32minfer_building -- 1/1 -- 2416/10470 ( 23.1% ) -- \u001b[0m\n",
      "\u001b[92m2024-06-03 12:28:52\u001b[0m \u001b[95m599-JY5FK6\u001b[0m \u001b[1m\u001b[90m[INFO]\u001b[0m \u001b[2;32minfer_building -- 1/1 -- 2496/10470 ( 23.8% ) -- \u001b[0m\n",
      "\u001b[92m2024-06-03 12:29:23\u001b[0m \u001b[95m599-JY5FK6\u001b[0m \u001b[1m\u001b[90m[INFO]\u001b[0m \u001b[2;32minfer_building -- 1/1 -- 2576/10470 ( 24.6% ) -- \u001b[0m\n",
      "\u001b[92m2024-06-03 12:29:57\u001b[0m \u001b[95m599-JY5FK6\u001b[0m \u001b[1m\u001b[90m[INFO]\u001b[0m \u001b[2;32minfer_building -- 1/1 -- 2656/10470 ( 25.4% ) -- \u001b[0m\n",
      "\u001b[92m2024-06-03 12:30:27\u001b[0m \u001b[95m599-JY5FK6\u001b[0m \u001b[1m\u001b[90m[INFO]\u001b[0m \u001b[2;32minfer_building -- 1/1 -- 2736/10470 ( 26.1% ) -- \u001b[0m\n",
      "\u001b[92m2024-06-03 12:30:54\u001b[0m \u001b[95m599-JY5FK6\u001b[0m \u001b[1m\u001b[90m[INFO]\u001b[0m \u001b[2;32minfer_building -- 1/1 -- 2816/10470 ( 26.9% ) -- \u001b[0m\n",
      "\u001b[92m2024-06-03 12:31:24\u001b[0m \u001b[95m599-JY5FK6\u001b[0m \u001b[1m\u001b[90m[INFO]\u001b[0m \u001b[2;32minfer_building -- 1/1 -- 2896/10470 ( 27.7% ) -- \u001b[0m\n",
      "\u001b[92m2024-06-03 12:32:03\u001b[0m \u001b[95m599-JY5FK6\u001b[0m \u001b[1m\u001b[90m[INFO]\u001b[0m \u001b[2;32minfer_building -- 1/1 -- 2976/10470 ( 28.4% ) -- \u001b[0m\n",
      "\u001b[92m2024-06-03 12:32:27\u001b[0m \u001b[95m599-JY5FK6\u001b[0m \u001b[1m\u001b[90m[INFO]\u001b[0m \u001b[2;32minfer_building -- 1/1 -- 3056/10470 ( 29.2% ) -- \u001b[0m\n",
      "\u001b[92m2024-06-03 12:32:54\u001b[0m \u001b[95m599-JY5FK6\u001b[0m \u001b[1m\u001b[90m[INFO]\u001b[0m \u001b[2;32minfer_building -- 1/1 -- 3136/10470 ( 30.0% ) -- \u001b[0m\n",
      "\u001b[92m2024-06-03 12:33:21\u001b[0m \u001b[95m599-JY5FK6\u001b[0m \u001b[1m\u001b[90m[INFO]\u001b[0m \u001b[2;32minfer_building -- 1/1 -- 3216/10470 ( 30.7% ) -- \u001b[0m\n",
      "\u001b[92m2024-06-03 12:33:47\u001b[0m \u001b[95m599-JY5FK6\u001b[0m \u001b[1m\u001b[90m[INFO]\u001b[0m \u001b[2;32minfer_building -- 1/1 -- 3296/10470 ( 31.5% ) -- \u001b[0m\n",
      "\u001b[92m2024-06-03 12:34:15\u001b[0m \u001b[95m599-JY5FK6\u001b[0m \u001b[1m\u001b[90m[INFO]\u001b[0m \u001b[2;32minfer_building -- 1/1 -- 3376/10470 ( 32.2% ) -- \u001b[0m\n",
      "\u001b[92m2024-06-03 12:34:41\u001b[0m \u001b[95m599-JY5FK6\u001b[0m \u001b[1m\u001b[90m[INFO]\u001b[0m \u001b[2;32minfer_building -- 1/1 -- 3456/10470 ( 33.0% ) -- \u001b[0m\n",
      "\u001b[92m2024-06-03 12:35:10\u001b[0m \u001b[95m599-JY5FK6\u001b[0m \u001b[1m\u001b[90m[INFO]\u001b[0m \u001b[2;32minfer_building -- 1/1 -- 3536/10470 ( 33.8% ) -- \u001b[0m\n",
      "\u001b[92m2024-06-03 12:35:35\u001b[0m \u001b[95m599-JY5FK6\u001b[0m \u001b[1m\u001b[90m[INFO]\u001b[0m \u001b[2;32minfer_building -- 1/1 -- 3616/10470 ( 34.5% ) -- \u001b[0m\n",
      "\u001b[92m2024-06-03 12:36:00\u001b[0m \u001b[95m599-JY5FK6\u001b[0m \u001b[1m\u001b[90m[INFO]\u001b[0m \u001b[2;32minfer_building -- 1/1 -- 3696/10470 ( 35.3% ) -- \u001b[0m\n",
      "\u001b[92m2024-06-03 12:36:28\u001b[0m \u001b[95m599-JY5FK6\u001b[0m \u001b[1m\u001b[90m[INFO]\u001b[0m \u001b[2;32minfer_building -- 1/1 -- 3776/10470 ( 36.1% ) -- \u001b[0m\n",
      "\u001b[92m2024-06-03 12:37:03\u001b[0m \u001b[95m599-JY5FK6\u001b[0m \u001b[1m\u001b[90m[INFO]\u001b[0m \u001b[2;32minfer_building -- 1/1 -- 3856/10470 ( 36.8% ) -- \u001b[0m\n",
      "\u001b[92m2024-06-03 12:37:31\u001b[0m \u001b[95m599-JY5FK6\u001b[0m \u001b[1m\u001b[90m[INFO]\u001b[0m \u001b[2;32minfer_building -- 1/1 -- 3936/10470 ( 37.6% ) -- \u001b[0m\n",
      "\u001b[92m2024-06-03 12:37:55\u001b[0m \u001b[95m599-JY5FK6\u001b[0m \u001b[1m\u001b[90m[INFO]\u001b[0m \u001b[2;32minfer_building -- 1/1 -- 4016/10470 ( 38.4% ) -- \u001b[0m\n",
      "\u001b[92m2024-06-03 12:38:23\u001b[0m \u001b[95m599-JY5FK6\u001b[0m \u001b[1m\u001b[90m[INFO]\u001b[0m \u001b[2;32minfer_building -- 1/1 -- 4096/10470 ( 39.1% ) -- \u001b[0m\n",
      "\u001b[92m2024-06-03 12:38:48\u001b[0m \u001b[95m599-JY5FK6\u001b[0m \u001b[1m\u001b[90m[INFO]\u001b[0m \u001b[2;32minfer_building -- 1/1 -- 4176/10470 ( 39.9% ) -- \u001b[0m\n",
      "\u001b[92m2024-06-03 12:39:13\u001b[0m \u001b[95m599-JY5FK6\u001b[0m \u001b[1m\u001b[90m[INFO]\u001b[0m \u001b[2;32minfer_building -- 1/1 -- 4256/10470 ( 40.6% ) -- \u001b[0m\n",
      "\u001b[92m2024-06-03 12:39:42\u001b[0m \u001b[95m599-JY5FK6\u001b[0m \u001b[1m\u001b[90m[INFO]\u001b[0m \u001b[2;32minfer_building -- 1/1 -- 4336/10470 ( 41.4% ) -- \u001b[0m\n",
      "\u001b[92m2024-06-03 12:40:08\u001b[0m \u001b[95m599-JY5FK6\u001b[0m \u001b[1m\u001b[90m[INFO]\u001b[0m \u001b[2;32minfer_building -- 1/1 -- 4416/10470 ( 42.2% ) -- \u001b[0m\n",
      "\u001b[92m2024-06-03 12:40:33\u001b[0m \u001b[95m599-JY5FK6\u001b[0m \u001b[1m\u001b[90m[INFO]\u001b[0m \u001b[2;32minfer_building -- 1/1 -- 4496/10470 ( 42.9% ) -- \u001b[0m\n",
      "\u001b[92m2024-06-03 12:40:58\u001b[0m \u001b[95m599-JY5FK6\u001b[0m \u001b[1m\u001b[90m[INFO]\u001b[0m \u001b[2;32minfer_building -- 1/1 -- 4576/10470 ( 43.7% ) -- \u001b[0m\n",
      "\u001b[92m2024-06-03 12:41:23\u001b[0m \u001b[95m599-JY5FK6\u001b[0m \u001b[1m\u001b[90m[INFO]\u001b[0m \u001b[2;32minfer_building -- 1/1 -- 4656/10470 ( 44.5% ) -- \u001b[0m\n",
      "\u001b[92m2024-06-03 12:41:51\u001b[0m \u001b[95m599-JY5FK6\u001b[0m \u001b[1m\u001b[90m[INFO]\u001b[0m \u001b[2;32minfer_building -- 1/1 -- 4736/10470 ( 45.2% ) -- \u001b[0m\n",
      "\u001b[92m2024-06-03 12:42:15\u001b[0m \u001b[95m599-JY5FK6\u001b[0m \u001b[1m\u001b[90m[INFO]\u001b[0m \u001b[2;32minfer_building -- 1/1 -- 4816/10470 ( 46.0% ) -- \u001b[0m\n",
      "\u001b[92m2024-06-03 12:42:39\u001b[0m \u001b[95m599-JY5FK6\u001b[0m \u001b[1m\u001b[90m[INFO]\u001b[0m \u001b[2;32minfer_building -- 1/1 -- 4896/10470 ( 46.8% ) -- \u001b[0m\n",
      "\u001b[92m2024-06-03 12:43:03\u001b[0m \u001b[95m599-JY5FK6\u001b[0m \u001b[1m\u001b[90m[INFO]\u001b[0m \u001b[2;32minfer_building -- 1/1 -- 4976/10470 ( 47.5% ) -- \u001b[0m\n",
      "\u001b[92m2024-06-03 12:43:28\u001b[0m \u001b[95m599-JY5FK6\u001b[0m \u001b[1m\u001b[90m[INFO]\u001b[0m \u001b[2;32minfer_building -- 1/1 -- 5056/10470 ( 48.3% ) -- \u001b[0m\n",
      "\u001b[92m2024-06-03 12:43:54\u001b[0m \u001b[95m599-JY5FK6\u001b[0m \u001b[1m\u001b[90m[INFO]\u001b[0m \u001b[2;32minfer_building -- 1/1 -- 5136/10470 ( 49.1% ) -- \u001b[0m\n",
      "\u001b[92m2024-06-03 12:44:20\u001b[0m \u001b[95m599-JY5FK6\u001b[0m \u001b[1m\u001b[90m[INFO]\u001b[0m \u001b[2;32minfer_building -- 1/1 -- 5216/10470 ( 49.8% ) -- \u001b[0m\n",
      "\u001b[92m2024-06-03 12:44:45\u001b[0m \u001b[95m599-JY5FK6\u001b[0m \u001b[1m\u001b[90m[INFO]\u001b[0m \u001b[2;32minfer_building -- 1/1 -- 5296/10470 ( 50.6% ) -- \u001b[0m\n",
      "\u001b[92m2024-06-03 12:45:10\u001b[0m \u001b[95m599-JY5FK6\u001b[0m \u001b[1m\u001b[90m[INFO]\u001b[0m \u001b[2;32minfer_building -- 1/1 -- 5376/10470 ( 51.3% ) -- \u001b[0m\n",
      "\u001b[92m2024-06-03 12:45:39\u001b[0m \u001b[95m599-JY5FK6\u001b[0m \u001b[1m\u001b[90m[INFO]\u001b[0m \u001b[2;32minfer_building -- 1/1 -- 5456/10470 ( 52.1% ) -- \u001b[0m\n",
      "\u001b[92m2024-06-03 12:46:04\u001b[0m \u001b[95m599-JY5FK6\u001b[0m \u001b[1m\u001b[90m[INFO]\u001b[0m \u001b[2;32minfer_building -- 1/1 -- 5536/10470 ( 52.9% ) -- \u001b[0m\n",
      "\u001b[92m2024-06-03 12:46:29\u001b[0m \u001b[95m599-JY5FK6\u001b[0m \u001b[1m\u001b[90m[INFO]\u001b[0m \u001b[2;32minfer_building -- 1/1 -- 5616/10470 ( 53.6% ) -- \u001b[0m\n",
      "\u001b[92m2024-06-03 12:46:53\u001b[0m \u001b[95m599-JY5FK6\u001b[0m \u001b[1m\u001b[90m[INFO]\u001b[0m \u001b[2;32minfer_building -- 1/1 -- 5696/10470 ( 54.4% ) -- \u001b[0m\n",
      "\u001b[92m2024-06-03 12:47:17\u001b[0m \u001b[95m599-JY5FK6\u001b[0m \u001b[1m\u001b[90m[INFO]\u001b[0m \u001b[2;32minfer_building -- 1/1 -- 5776/10470 ( 55.2% ) -- \u001b[0m\n",
      "\u001b[92m2024-06-03 12:47:41\u001b[0m \u001b[95m599-JY5FK6\u001b[0m \u001b[1m\u001b[90m[INFO]\u001b[0m \u001b[2;32minfer_building -- 1/1 -- 5856/10470 ( 55.9% ) -- \u001b[0m\n",
      "\u001b[92m2024-06-03 12:48:06\u001b[0m \u001b[95m599-JY5FK6\u001b[0m \u001b[1m\u001b[90m[INFO]\u001b[0m \u001b[2;32minfer_building -- 1/1 -- 5936/10470 ( 56.7% ) -- \u001b[0m\n",
      "\u001b[92m2024-06-03 12:48:30\u001b[0m \u001b[95m599-JY5FK6\u001b[0m \u001b[1m\u001b[90m[INFO]\u001b[0m \u001b[2;32minfer_building -- 1/1 -- 6016/10470 ( 57.5% ) -- \u001b[0m\n",
      "\u001b[92m2024-06-03 12:48:54\u001b[0m \u001b[95m599-JY5FK6\u001b[0m \u001b[1m\u001b[90m[INFO]\u001b[0m \u001b[2;32minfer_building -- 1/1 -- 6096/10470 ( 58.2% ) -- \u001b[0m\n",
      "\u001b[92m2024-06-03 12:49:18\u001b[0m \u001b[95m599-JY5FK6\u001b[0m \u001b[1m\u001b[90m[INFO]\u001b[0m \u001b[2;32minfer_building -- 1/1 -- 6176/10470 ( 59.0% ) -- \u001b[0m\n",
      "\u001b[92m2024-06-03 12:49:42\u001b[0m \u001b[95m599-JY5FK6\u001b[0m \u001b[1m\u001b[90m[INFO]\u001b[0m \u001b[2;32minfer_building -- 1/1 -- 6256/10470 ( 59.8% ) -- \u001b[0m\n",
      "\u001b[92m2024-06-03 12:50:06\u001b[0m \u001b[95m599-JY5FK6\u001b[0m \u001b[1m\u001b[90m[INFO]\u001b[0m \u001b[2;32minfer_building -- 1/1 -- 6336/10470 ( 60.5% ) -- \u001b[0m\n",
      "\u001b[92m2024-06-03 12:50:30\u001b[0m \u001b[95m599-JY5FK6\u001b[0m \u001b[1m\u001b[90m[INFO]\u001b[0m \u001b[2;32minfer_building -- 1/1 -- 6416/10470 ( 61.3% ) -- \u001b[0m\n",
      "\u001b[92m2024-06-03 12:50:54\u001b[0m \u001b[95m599-JY5FK6\u001b[0m \u001b[1m\u001b[90m[INFO]\u001b[0m \u001b[2;32minfer_building -- 1/1 -- 6496/10470 ( 62.0% ) -- \u001b[0m\n",
      "\u001b[92m2024-06-03 12:51:18\u001b[0m \u001b[95m599-JY5FK6\u001b[0m \u001b[1m\u001b[90m[INFO]\u001b[0m \u001b[2;32minfer_building -- 1/1 -- 6576/10470 ( 62.8% ) -- \u001b[0m\n",
      "\u001b[92m2024-06-03 12:51:40\u001b[0m \u001b[95m599-JY5FK6\u001b[0m \u001b[1m\u001b[90m[INFO]\u001b[0m \u001b[2;32minfer_building -- 1/1 -- 6656/10470 ( 63.6% ) -- \u001b[0m\n",
      "\u001b[92m2024-06-03 12:52:03\u001b[0m \u001b[95m599-JY5FK6\u001b[0m \u001b[1m\u001b[90m[INFO]\u001b[0m \u001b[2;32minfer_building -- 1/1 -- 6736/10470 ( 64.3% ) -- \u001b[0m\n",
      "\u001b[92m2024-06-03 12:52:26\u001b[0m \u001b[95m599-JY5FK6\u001b[0m \u001b[1m\u001b[90m[INFO]\u001b[0m \u001b[2;32minfer_building -- 1/1 -- 6816/10470 ( 65.1% ) -- \u001b[0m\n",
      "\u001b[92m2024-06-03 12:52:48\u001b[0m \u001b[95m599-JY5FK6\u001b[0m \u001b[1m\u001b[90m[INFO]\u001b[0m \u001b[2;32minfer_building -- 1/1 -- 6896/10470 ( 65.9% ) -- \u001b[0m\n",
      "\u001b[92m2024-06-03 12:53:11\u001b[0m \u001b[95m599-JY5FK6\u001b[0m \u001b[1m\u001b[90m[INFO]\u001b[0m \u001b[2;32minfer_building -- 1/1 -- 6976/10470 ( 66.6% ) -- \u001b[0m\n",
      "\u001b[92m2024-06-03 12:53:36\u001b[0m \u001b[95m599-JY5FK6\u001b[0m \u001b[1m\u001b[90m[INFO]\u001b[0m \u001b[2;32minfer_building -- 1/1 -- 7056/10470 ( 67.4% ) -- \u001b[0m\n",
      "\u001b[92m2024-06-03 12:54:00\u001b[0m \u001b[95m599-JY5FK6\u001b[0m \u001b[1m\u001b[90m[INFO]\u001b[0m \u001b[2;32minfer_building -- 1/1 -- 7136/10470 ( 68.2% ) -- \u001b[0m\n",
      "\u001b[92m2024-06-03 12:54:24\u001b[0m \u001b[95m599-JY5FK6\u001b[0m \u001b[1m\u001b[90m[INFO]\u001b[0m \u001b[2;32minfer_building -- 1/1 -- 7216/10470 ( 68.9% ) -- \u001b[0m\n",
      "\u001b[92m2024-06-03 12:54:48\u001b[0m \u001b[95m599-JY5FK6\u001b[0m \u001b[1m\u001b[90m[INFO]\u001b[0m \u001b[2;32minfer_building -- 1/1 -- 7296/10470 ( 69.7% ) -- \u001b[0m\n",
      "\u001b[92m2024-06-03 12:55:13\u001b[0m \u001b[95m599-JY5FK6\u001b[0m \u001b[1m\u001b[90m[INFO]\u001b[0m \u001b[2;32minfer_building -- 1/1 -- 7376/10470 ( 70.4% ) -- \u001b[0m\n",
      "\u001b[92m2024-06-03 12:55:37\u001b[0m \u001b[95m599-JY5FK6\u001b[0m \u001b[1m\u001b[90m[INFO]\u001b[0m \u001b[2;32minfer_building -- 1/1 -- 7456/10470 ( 71.2% ) -- \u001b[0m\n",
      "\u001b[92m2024-06-03 12:56:01\u001b[0m \u001b[95m599-JY5FK6\u001b[0m \u001b[1m\u001b[90m[INFO]\u001b[0m \u001b[2;32minfer_building -- 1/1 -- 7536/10470 ( 72.0% ) -- \u001b[0m\n",
      "\u001b[92m2024-06-03 12:56:24\u001b[0m \u001b[95m599-JY5FK6\u001b[0m \u001b[1m\u001b[90m[INFO]\u001b[0m \u001b[2;32minfer_building -- 1/1 -- 7616/10470 ( 72.7% ) -- \u001b[0m\n",
      "\u001b[92m2024-06-03 12:56:47\u001b[0m \u001b[95m599-JY5FK6\u001b[0m \u001b[1m\u001b[90m[INFO]\u001b[0m \u001b[2;32minfer_building -- 1/1 -- 7696/10470 ( 73.5% ) -- \u001b[0m\n",
      "\u001b[92m2024-06-03 12:57:09\u001b[0m \u001b[95m599-JY5FK6\u001b[0m \u001b[1m\u001b[90m[INFO]\u001b[0m \u001b[2;32minfer_building -- 1/1 -- 7776/10470 ( 74.3% ) -- \u001b[0m\n",
      "\u001b[92m2024-06-03 12:57:32\u001b[0m \u001b[95m599-JY5FK6\u001b[0m \u001b[1m\u001b[90m[INFO]\u001b[0m \u001b[2;32minfer_building -- 1/1 -- 7856/10470 ( 75.0% ) -- \u001b[0m\n",
      "\u001b[92m2024-06-03 12:57:55\u001b[0m \u001b[95m599-JY5FK6\u001b[0m \u001b[1m\u001b[90m[INFO]\u001b[0m \u001b[2;32minfer_building -- 1/1 -- 7936/10470 ( 75.8% ) -- \u001b[0m\n",
      "\u001b[92m2024-06-03 12:58:18\u001b[0m \u001b[95m599-JY5FK6\u001b[0m \u001b[1m\u001b[90m[INFO]\u001b[0m \u001b[2;32minfer_building -- 1/1 -- 8016/10470 ( 76.6% ) -- \u001b[0m\n",
      "\u001b[92m2024-06-03 12:58:42\u001b[0m \u001b[95m599-JY5FK6\u001b[0m \u001b[1m\u001b[90m[INFO]\u001b[0m \u001b[2;32minfer_building -- 1/1 -- 8096/10470 ( 77.3% ) -- \u001b[0m\n",
      "\u001b[92m2024-06-03 12:59:07\u001b[0m \u001b[95m599-JY5FK6\u001b[0m \u001b[1m\u001b[90m[INFO]\u001b[0m \u001b[2;32minfer_building -- 1/1 -- 8176/10470 ( 78.1% ) -- \u001b[0m\n",
      "\u001b[92m2024-06-03 12:59:31\u001b[0m \u001b[95m599-JY5FK6\u001b[0m \u001b[1m\u001b[90m[INFO]\u001b[0m \u001b[2;32minfer_building -- 1/1 -- 8256/10470 ( 78.9% ) -- \u001b[0m\n",
      "\u001b[92m2024-06-03 12:59:55\u001b[0m \u001b[95m599-JY5FK6\u001b[0m \u001b[1m\u001b[90m[INFO]\u001b[0m \u001b[2;32minfer_building -- 1/1 -- 8336/10470 ( 79.6% ) -- \u001b[0m\n",
      "\u001b[92m2024-06-03 13:00:21\u001b[0m \u001b[95m599-JY5FK6\u001b[0m \u001b[1m\u001b[90m[INFO]\u001b[0m \u001b[2;32minfer_building -- 1/1 -- 8416/10470 ( 80.4% ) -- \u001b[0m\n",
      "\u001b[92m2024-06-03 13:00:53\u001b[0m \u001b[95m599-JY5FK6\u001b[0m \u001b[1m\u001b[90m[INFO]\u001b[0m \u001b[2;32minfer_building -- 1/1 -- 8496/10470 ( 81.1% ) -- \u001b[0m\n",
      "\u001b[92m2024-06-03 13:01:21\u001b[0m \u001b[95m599-JY5FK6\u001b[0m \u001b[1m\u001b[90m[INFO]\u001b[0m \u001b[2;32minfer_building -- 1/1 -- 8576/10470 ( 81.9% ) -- \u001b[0m\n",
      "\u001b[92m2024-06-03 13:01:49\u001b[0m \u001b[95m599-JY5FK6\u001b[0m \u001b[1m\u001b[90m[INFO]\u001b[0m \u001b[2;32minfer_building -- 1/1 -- 8656/10470 ( 82.7% ) -- \u001b[0m\n",
      "\u001b[92m2024-06-03 13:02:14\u001b[0m \u001b[95m599-JY5FK6\u001b[0m \u001b[1m\u001b[90m[INFO]\u001b[0m \u001b[2;32minfer_building -- 1/1 -- 8736/10470 ( 83.4% ) -- \u001b[0m\n",
      "\u001b[92m2024-06-03 13:02:37\u001b[0m \u001b[95m599-JY5FK6\u001b[0m \u001b[1m\u001b[90m[INFO]\u001b[0m \u001b[2;32minfer_building -- 1/1 -- 8816/10470 ( 84.2% ) -- \u001b[0m\n",
      "\u001b[92m2024-06-03 13:03:00\u001b[0m \u001b[95m599-JY5FK6\u001b[0m \u001b[1m\u001b[90m[INFO]\u001b[0m \u001b[2;32minfer_building -- 1/1 -- 8896/10470 ( 85.0% ) -- \u001b[0m\n",
      "\u001b[92m2024-06-03 13:03:24\u001b[0m \u001b[95m599-JY5FK6\u001b[0m \u001b[1m\u001b[90m[INFO]\u001b[0m \u001b[2;32minfer_building -- 1/1 -- 8976/10470 ( 85.7% ) -- \u001b[0m\n",
      "\u001b[92m2024-06-03 13:03:49\u001b[0m \u001b[95m599-JY5FK6\u001b[0m \u001b[1m\u001b[90m[INFO]\u001b[0m \u001b[2;32minfer_building -- 1/1 -- 9056/10470 ( 86.5% ) -- \u001b[0m\n",
      "\u001b[92m2024-06-03 13:04:14\u001b[0m \u001b[95m599-JY5FK6\u001b[0m \u001b[1m\u001b[90m[INFO]\u001b[0m \u001b[2;32minfer_building -- 1/1 -- 9136/10470 ( 87.3% ) -- \u001b[0m\n",
      "\u001b[92m2024-06-03 13:04:39\u001b[0m \u001b[95m599-JY5FK6\u001b[0m \u001b[1m\u001b[90m[INFO]\u001b[0m \u001b[2;32minfer_building -- 1/1 -- 9216/10470 ( 88.0% ) -- \u001b[0m\n",
      "\u001b[92m2024-06-03 13:05:04\u001b[0m \u001b[95m599-JY5FK6\u001b[0m \u001b[1m\u001b[90m[INFO]\u001b[0m \u001b[2;32minfer_building -- 1/1 -- 9296/10470 ( 88.8% ) -- \u001b[0m\n",
      "\u001b[92m2024-06-03 13:05:34\u001b[0m \u001b[95m599-JY5FK6\u001b[0m \u001b[1m\u001b[90m[INFO]\u001b[0m \u001b[2;32minfer_building -- 1/1 -- 9376/10470 ( 89.6% ) -- \u001b[0m\n",
      "\u001b[92m2024-06-03 13:05:59\u001b[0m \u001b[95m599-JY5FK6\u001b[0m \u001b[1m\u001b[90m[INFO]\u001b[0m \u001b[2;32minfer_building -- 1/1 -- 9456/10470 ( 90.3% ) -- \u001b[0m\n",
      "\u001b[92m2024-06-03 13:06:24\u001b[0m \u001b[95m599-JY5FK6\u001b[0m \u001b[1m\u001b[90m[INFO]\u001b[0m \u001b[2;32minfer_building -- 1/1 -- 9536/10470 ( 91.1% ) -- \u001b[0m\n",
      "\u001b[92m2024-06-03 13:06:47\u001b[0m \u001b[95m599-JY5FK6\u001b[0m \u001b[1m\u001b[90m[INFO]\u001b[0m \u001b[2;32minfer_building -- 1/1 -- 9616/10470 ( 91.8% ) -- \u001b[0m\n",
      "\u001b[92m2024-06-03 13:07:10\u001b[0m \u001b[95m599-JY5FK6\u001b[0m \u001b[1m\u001b[90m[INFO]\u001b[0m \u001b[2;32minfer_building -- 1/1 -- 9696/10470 ( 92.6% ) -- \u001b[0m\n",
      "\u001b[92m2024-06-03 13:07:39\u001b[0m \u001b[95m599-JY5FK6\u001b[0m \u001b[1m\u001b[90m[INFO]\u001b[0m \u001b[2;32minfer_building -- 1/1 -- 9776/10470 ( 93.4% ) -- \u001b[0m\n",
      "\u001b[92m2024-06-03 13:08:04\u001b[0m \u001b[95m599-JY5FK6\u001b[0m \u001b[1m\u001b[90m[INFO]\u001b[0m \u001b[2;32minfer_building -- 1/1 -- 9856/10470 ( 94.1% ) -- \u001b[0m\n",
      "\u001b[92m2024-06-03 13:08:28\u001b[0m \u001b[95m599-JY5FK6\u001b[0m \u001b[1m\u001b[90m[INFO]\u001b[0m \u001b[2;32minfer_building -- 1/1 -- 9936/10470 ( 94.9% ) -- \u001b[0m\n",
      "\u001b[92m2024-06-03 13:08:54\u001b[0m \u001b[95m599-JY5FK6\u001b[0m \u001b[1m\u001b[90m[INFO]\u001b[0m \u001b[2;32minfer_building -- 1/1 -- 10016/10470 ( 95.7% ) -- \u001b[0m\n",
      "\u001b[92m2024-06-03 13:09:19\u001b[0m \u001b[95m599-JY5FK6\u001b[0m \u001b[1m\u001b[90m[INFO]\u001b[0m \u001b[2;32minfer_building -- 1/1 -- 10096/10470 ( 96.4% ) -- \u001b[0m\n",
      "\u001b[92m2024-06-03 13:09:44\u001b[0m \u001b[95m599-JY5FK6\u001b[0m \u001b[1m\u001b[90m[INFO]\u001b[0m \u001b[2;32minfer_building -- 1/1 -- 10176/10470 ( 97.2% ) -- \u001b[0m\n",
      "\u001b[92m2024-06-03 13:10:14\u001b[0m \u001b[95m599-JY5FK6\u001b[0m \u001b[1m\u001b[90m[INFO]\u001b[0m \u001b[2;32minfer_building -- 1/1 -- 10256/10470 ( 98.0% ) -- \u001b[0m\n",
      "\u001b[92m2024-06-03 13:10:39\u001b[0m \u001b[95m599-JY5FK6\u001b[0m \u001b[1m\u001b[90m[INFO]\u001b[0m \u001b[2;32minfer_building -- 1/1 -- 10336/10470 ( 98.7% ) -- \u001b[0m\n",
      "\u001b[92m2024-06-03 13:11:03\u001b[0m \u001b[95m599-JY5FK6\u001b[0m \u001b[1m\u001b[90m[INFO]\u001b[0m \u001b[2;32minfer_building -- 1/1 -- 10416/10470 ( 99.5% ) -- \u001b[0m\n",
      "[INFO] Total time: 55m 50s\n"
     ]
    }
   ],
   "source": [
    "my_classifier.inference(\"infer_building\")"
   ]
  },
  {
   "cell_type": "markdown",
   "id": "97c6589b",
   "metadata": {},
   "source": [
    "Remember to save your results!"
   ]
  },
  {
   "cell_type": "code",
   "execution_count": 14,
   "id": "2fa7978a",
   "metadata": {},
   "outputs": [
    {
     "name": "stdout",
     "output_type": "stream",
     "text": [
      "[INFO] Saved predictions to infer_building_predictions_patch_df.csv.\n"
     ]
    }
   ],
   "source": [
    "my_classifier.save_predictions(\"infer_building\")"
   ]
  },
  {
   "attachments": {},
   "cell_type": "markdown",
   "id": "fd63ec08",
   "metadata": {},
   "source": [
    "### Save results to metadata"
   ]
  },
  {
   "cell_type": "markdown",
   "id": "0baa4808",
   "metadata": {},
   "source": [
    "To add the predictions back into a ``MapImages`` object, we simply need to load our predictions csv file as metadata.\n",
    "\n",
    "Since we have started a new notebook, we can create a new ``MapImages`` object by loading our patches."
   ]
  },
  {
   "cell_type": "code",
   "execution_count": 16,
   "id": "85dd41cb",
   "metadata": {},
   "outputs": [],
   "source": [
    "from mapreader import load_patches"
   ]
  },
  {
   "cell_type": "code",
   "execution_count": 17,
   "id": "438d5700",
   "metadata": {},
   "outputs": [
    {
     "data": {
      "application/vnd.jupyter.widget-view+json": {
       "model_id": "1f727145bf864c1080140317051c9b7e",
       "version_major": 2,
       "version_minor": 0
      },
      "text/plain": [
       "0it [00:00, ?it/s]"
      ]
     },
     "metadata": {},
     "output_type": "display_data"
    },
    {
     "data": {
      "application/vnd.jupyter.widget-view+json": {
       "model_id": "728e0b8477b9401ca7695ff11d70e1ae",
       "version_major": 2,
       "version_minor": 0
      },
      "text/plain": [
       "  0%|          | 0/6 [00:00<?, ?it/s]"
      ]
     },
     "metadata": {},
     "output_type": "display_data"
    },
    {
     "data": {
      "application/vnd.jupyter.widget-view+json": {
       "model_id": "ff7d53aff0a24ff5b507b63d90e47a9e",
       "version_major": 2,
       "version_minor": 0
      },
      "text/plain": [
       "  0%|          | 0/10470 [00:00<?, ?it/s]"
      ]
     },
     "metadata": {},
     "output_type": "display_data"
    }
   ],
   "source": [
    "my_maps = load_patches(\n",
    "    \"./patches_100_meters/*png\", parent_paths=\"./maps/*png\"\n",
    ")"
   ]
  },
  {
   "cell_type": "code",
   "execution_count": 18,
   "id": "734f324c",
   "metadata": {},
   "outputs": [],
   "source": [
    "my_maps.add_metadata(\"./infer_building_predictions_patch_df.csv\", tree_level=\"patch\")"
   ]
  },
  {
   "cell_type": "code",
   "execution_count": 19,
   "id": "d734c2ea",
   "metadata": {},
   "outputs": [
    {
     "name": "stdout",
     "output_type": "stream",
     "text": [
      "[INFO] Add shape, tree level: parent\n"
     ]
    }
   ],
   "source": [
    "my_maps.add_shape()"
   ]
  },
  {
   "attachments": {},
   "cell_type": "markdown",
   "id": "e0359506",
   "metadata": {},
   "source": [
    "We can use the ``.show_parent()`` method to see how our predictions look on our parent map sheet (``map_74488700.png``)."
   ]
  },
  {
   "cell_type": "code",
   "execution_count": null,
   "id": "85c7f1d2",
   "metadata": {
    "scrolled": false
   },
   "outputs": [],
   "source": [
    "my_maps.show_parent(\n",
    "    \"map_75650661.png\",\n",
    "    column_to_plot=\"pred\",\n",
    "    vmin=0,\n",
    "    vmax=1,\n",
    "    alpha=0.5,\n",
    "    patch_border=False,\n",
    ")"
   ]
  },
  {
   "attachments": {},
   "cell_type": "markdown",
   "id": "1ef19e32",
   "metadata": {},
   "source": [
    "And the ``.convert_images()`` method to save our results."
   ]
  },
  {
   "cell_type": "code",
   "execution_count": null,
   "id": "c8352986",
   "metadata": {},
   "outputs": [],
   "source": [
    "parent_df, patch_df = my_maps.convert_images(save=True, save_format=\"excel\") # here we are saving to xlsx so we don't change our \"*.csv\" files from before!"
   ]
  },
  {
   "attachments": {},
   "cell_type": "markdown",
   "id": "12eb039a",
   "metadata": {},
   "source": [
    "We can also save our outputs as a ``geojson`` file using the ``.save_patches_to_geojson()`` method. We'll call the file ``\"railspace_patches.geojson\"``.\n",
    "\n",
    "> _**NOTE**_: This will require you to convert your patch coordinates into a polygon format. If these aren't already available, they can be added using the ``.add_patch_polygons()`` method."
   ]
  },
  {
   "cell_type": "code",
   "execution_count": 20,
   "id": "c97980d7",
   "metadata": {},
   "outputs": [
    {
     "data": {
      "application/vnd.jupyter.widget-view+json": {
       "model_id": "822afdd29a314ffd84e620f5f9b46566",
       "version_major": 2,
       "version_minor": 0
      },
      "text/plain": [
       "  0%|          | 0/10470 [00:00<?, ?it/s]"
      ]
     },
     "metadata": {},
     "output_type": "display_data"
    }
   ],
   "source": [
    "my_maps.add_patch_polygons()\n",
    "my_maps.save_patches_to_geojson(\"building_patches.geojson\")"
   ]
  },
  {
   "attachments": {},
   "cell_type": "markdown",
   "id": "8211949a",
   "metadata": {},
   "source": [
    "Beyond MapReader, these outputs can be used to generate interesting visualizations in other tools.\n",
    "\n",
    "For example, here are two visualizations of the rail space data from [our paper]:\n",
    "\n",
    "- https://felt.com/map/MapReader-Launch-Event-map-Urban-Areas-and-Rail-space-9AqftKrvPTlWfwOGkdkCGkD\n",
    "- https://maps.nls.uk/projects/mapreader/index.html#zoom=6.0&lat=56.00000&lon=-4.00000"
   ]
  },
  {
   "attachments": {},
   "cell_type": "markdown",
   "id": "d356c4f5",
   "metadata": {},
   "source": [
    "# Documentation"
   ]
  },
  {
   "attachments": {},
   "cell_type": "markdown",
   "id": "ce9003d1",
   "metadata": {},
   "source": [
    "Please refer to the [MapReader documentation](https://mapreader.readthedocs.io/en/latest/) for more information."
   ]
  },
  {
   "cell_type": "code",
   "execution_count": null,
   "id": "74b5ba55",
   "metadata": {},
   "outputs": [],
   "source": []
  }
 ],
 "metadata": {
  "kernelspec": {
   "display_name": "mapreader_conda",
   "language": "python",
   "name": "python3"
  },
  "language_info": {
   "codemirror_mode": {
    "name": "ipython",
    "version": 3
   },
   "file_extension": ".py",
   "mimetype": "text/x-python",
   "name": "python",
   "nbconvert_exporter": "python",
   "pygments_lexer": "ipython3",
   "version": "3.12.2"
  }
 },
 "nbformat": 4,
 "nbformat_minor": 5
}
