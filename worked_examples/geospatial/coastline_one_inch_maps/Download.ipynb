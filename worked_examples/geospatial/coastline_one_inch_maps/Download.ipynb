{
 "cells": [
  {
   "cell_type": "markdown",
   "id": "e024ffdb",
   "metadata": {},
   "source": [
    "# Download - Via TileServer\n",
    "https://mapreader.readthedocs.io/en/latest/User-guide/Download.html"
   ]
  },
  {
   "cell_type": "code",
   "execution_count": 1,
   "id": "33f919eb",
   "metadata": {},
   "outputs": [],
   "source": [
    "from mapreader import TileServer"
   ]
  },
  {
   "cell_type": "code",
   "execution_count": 2,
   "id": "edc73ae0",
   "metadata": {},
   "outputs": [
    {
     "name": "stdout",
     "output_type": "stream",
     "text": [
      "Metada file has 480 items.\n",
      "Download URL: https://mapseries-tilesets.s3.amazonaws.com/1inch_2nd_ed/{z}/{x}/{y}.png\n",
      "Geometry: polygone\n"
     ]
    }
   ],
   "source": [
    "my_ts = TileServer(metadata_path=\"../persistent_data/metadata_OS_One_Inch_GB_WFS_light.json\", \n",
    "                   download_url=\"https://mapseries-tilesets.s3.amazonaws.com/1inch_2nd_ed/{z}/{x}/{y}.png\")"
   ]
  },
  {
   "cell_type": "code",
   "execution_count": 3,
   "id": "5b2a13fb",
   "metadata": {},
   "outputs": [],
   "source": [
    "lat_lon_list=[[55.732,-1.652],\n",
    "              [55.827,-3.319],\n",
    "              [55.944,-2.792],\n",
    "              [55.958,-1.99],\n",
    "              [56.171,-3.295],\n",
    "              [56.185,-2.7],\n",
    "              [56.489,-3.217],\n",
    "              [56.468,-2.842]] "
   ]
  },
  {
   "cell_type": "code",
   "execution_count": 4,
   "id": "91bcd8d3",
   "metadata": {},
   "outputs": [
    {
     "ename": "AttributeError",
     "evalue": "module 'numpy' has no attribute 'float'.\n`np.float` was a deprecated alias for the builtin `float`. To avoid this error in existing code, use `float` by itself. Doing this will not modify any behavior and is safe. If you specifically wanted the numpy scalar type, use `np.float64` here.\nThe aliases was originally deprecated in NumPy 1.20; for more details and guidance see the original release note at:\n    https://numpy.org/devdocs/release/1.20.0-notes.html#deprecations",
     "output_type": "error",
     "traceback": [
      "\u001b[0;31m---------------------------------------------------------------------------\u001b[0m",
      "\u001b[0;31mAttributeError\u001b[0m                            Traceback (most recent call last)",
      "Cell \u001b[0;32mIn[4], line 1\u001b[0m\n\u001b[0;32m----> 1\u001b[0m \u001b[43mmy_ts\u001b[49m\u001b[38;5;241;43m.\u001b[39;49m\u001b[43mquery_point\u001b[49m\u001b[43m(\u001b[49m\u001b[43mlat_lon_list\u001b[49m\u001b[43m[\u001b[49m\u001b[38;5;241;43m1\u001b[39;49m\u001b[43m]\u001b[49m\u001b[43m)\u001b[49m\n",
      "File \u001b[0;32m~/miniconda3/envs/mr_py38/lib/python3.8/site-packages/mapreader/download/tileserver_access.py:134\u001b[0m, in \u001b[0;36mTileServer.query_point\u001b[0;34m(self, latlon_list, append)\u001b[0m\n\u001b[1;32m    132\u001b[0m \u001b[38;5;66;03m# Detect the boundaries of maps\u001b[39;00m\n\u001b[1;32m    133\u001b[0m \u001b[38;5;28;01mif\u001b[39;00m \u001b[38;5;129;01mnot\u001b[39;00m \u001b[38;5;28mself\u001b[39m\u001b[38;5;241m.\u001b[39mdetected_rect_boundary:\n\u001b[0;32m--> 134\u001b[0m     \u001b[38;5;28;43mself\u001b[39;49m\u001b[38;5;241;43m.\u001b[39;49m\u001b[43mcreate_info\u001b[49m\u001b[43m(\u001b[49m\u001b[43m)\u001b[49m\n\u001b[1;32m    136\u001b[0m \u001b[38;5;28;01mif\u001b[39;00m \u001b[38;5;129;01mnot\u001b[39;00m \u001b[38;5;28mtype\u001b[39m(latlon_list[\u001b[38;5;241m0\u001b[39m]) \u001b[38;5;241m==\u001b[39m \u001b[38;5;28mlist\u001b[39m:\n\u001b[1;32m    137\u001b[0m     latlon_list \u001b[38;5;241m=\u001b[39m [latlon_list]\n",
      "File \u001b[0;32m~/miniconda3/envs/mr_py38/lib/python3.8/site-packages/mapreader/download/tileserver_access.py:91\u001b[0m, in \u001b[0;36mTileServer.create_info\u001b[0;34m(self)\u001b[0m\n\u001b[1;32m     89\u001b[0m     metadata_coord_arr\u001b[38;5;241m.\u001b[39mappend([min_lon, max_lon, min_lat, max_lat])\n\u001b[1;32m     90\u001b[0m \u001b[38;5;28mself\u001b[39m\u001b[38;5;241m.\u001b[39mmetadata_info_list \u001b[38;5;241m=\u001b[39m metadata_info_list\n\u001b[0;32m---> 91\u001b[0m \u001b[38;5;28mself\u001b[39m\u001b[38;5;241m.\u001b[39mmetadata_coord_arr \u001b[38;5;241m=\u001b[39m np\u001b[38;5;241m.\u001b[39marray(metadata_coord_arr)\u001b[38;5;241m.\u001b[39mastype(\u001b[43mnp\u001b[49m\u001b[38;5;241;43m.\u001b[39;49m\u001b[43mfloat\u001b[49m)\n\u001b[1;32m     92\u001b[0m \u001b[38;5;28mself\u001b[39m\u001b[38;5;241m.\u001b[39mdetected_rect_boundary \u001b[38;5;241m=\u001b[39m \u001b[38;5;28;01mTrue\u001b[39;00m\n",
      "File \u001b[0;32m~/miniconda3/envs/mr_py38/lib/python3.8/site-packages/numpy/__init__.py:305\u001b[0m, in \u001b[0;36m__getattr__\u001b[0;34m(attr)\u001b[0m\n\u001b[1;32m    300\u001b[0m     warnings\u001b[38;5;241m.\u001b[39mwarn(\n\u001b[1;32m    301\u001b[0m         \u001b[38;5;124mf\u001b[39m\u001b[38;5;124m\"\u001b[39m\u001b[38;5;124mIn the future `np.\u001b[39m\u001b[38;5;132;01m{\u001b[39;00mattr\u001b[38;5;132;01m}\u001b[39;00m\u001b[38;5;124m` will be defined as the \u001b[39m\u001b[38;5;124m\"\u001b[39m\n\u001b[1;32m    302\u001b[0m         \u001b[38;5;124m\"\u001b[39m\u001b[38;5;124mcorresponding NumPy scalar.\u001b[39m\u001b[38;5;124m\"\u001b[39m, \u001b[38;5;167;01mFutureWarning\u001b[39;00m, stacklevel\u001b[38;5;241m=\u001b[39m\u001b[38;5;241m2\u001b[39m)\n\u001b[1;32m    304\u001b[0m \u001b[38;5;28;01mif\u001b[39;00m attr \u001b[38;5;129;01min\u001b[39;00m __former_attrs__:\n\u001b[0;32m--> 305\u001b[0m     \u001b[38;5;28;01mraise\u001b[39;00m \u001b[38;5;167;01mAttributeError\u001b[39;00m(__former_attrs__[attr])\n\u001b[1;32m    307\u001b[0m \u001b[38;5;66;03m# Importing Tester requires importing all of UnitTest which is not a\u001b[39;00m\n\u001b[1;32m    308\u001b[0m \u001b[38;5;66;03m# cheap import Since it is mainly used in test suits, we lazy import it\u001b[39;00m\n\u001b[1;32m    309\u001b[0m \u001b[38;5;66;03m# here to save on the order of 10 ms of import time for most users\u001b[39;00m\n\u001b[1;32m    310\u001b[0m \u001b[38;5;66;03m#\u001b[39;00m\n\u001b[1;32m    311\u001b[0m \u001b[38;5;66;03m# The previous way Tester was imported also had a side effect of adding\u001b[39;00m\n\u001b[1;32m    312\u001b[0m \u001b[38;5;66;03m# the full `numpy.testing` namespace\u001b[39;00m\n\u001b[1;32m    313\u001b[0m \u001b[38;5;28;01mif\u001b[39;00m attr \u001b[38;5;241m==\u001b[39m \u001b[38;5;124m'\u001b[39m\u001b[38;5;124mtesting\u001b[39m\u001b[38;5;124m'\u001b[39m:\n",
      "\u001b[0;31mAttributeError\u001b[0m: module 'numpy' has no attribute 'float'.\n`np.float` was a deprecated alias for the builtin `float`. To avoid this error in existing code, use `float` by itself. Doing this will not modify any behavior and is safe. If you specifically wanted the numpy scalar type, use `np.float64` here.\nThe aliases was originally deprecated in NumPy 1.20; for more details and guidance see the original release note at:\n    https://numpy.org/devdocs/release/1.20.0-notes.html#deprecations"
     ]
    }
   ],
   "source": [
    "my_ts.query_point(lat_lon_list[1])"
   ]
  },
  {
   "cell_type": "code",
   "execution_count": 9,
   "id": "d485159e",
   "metadata": {
    "scrolled": true
   },
   "outputs": [
    {
     "name": "stdout",
     "output_type": "stream",
     "text": [
      "------------\n",
      "Found items:\n",
      "------------\n",
      "URL:     \thttps://maps.nls.uk/view/74488700\n",
      "filepath:\tmap_74488700.png\n",
      "coords:  \t[-3.59999993 -2.96999993 55.78000003 56.05000003]\n",
      "index:   \t31\n",
      "====================\n"
     ]
    }
   ],
   "source": [
    "my_ts.print_found_queries()"
   ]
  },
  {
   "cell_type": "code",
   "execution_count": null,
   "id": "340c6a45",
   "metadata": {},
   "outputs": [],
   "source": [
    "my_ts.download_tileserver()"
   ]
  },
  {
   "cell_type": "code",
   "execution_count": null,
   "id": "e0cbc96f",
   "metadata": {},
   "outputs": [],
   "source": []
  },
  {
   "cell_type": "code",
   "execution_count": null,
   "id": "f400cea8",
   "metadata": {},
   "outputs": [],
   "source": []
  },
  {
   "cell_type": "code",
   "execution_count": null,
   "id": "7e93cb8b",
   "metadata": {},
   "outputs": [],
   "source": []
  },
  {
   "cell_type": "code",
   "execution_count": 2,
   "id": "d188c0cf",
   "metadata": {},
   "outputs": [
    {
     "name": "stdout",
     "output_type": "stream",
     "text": [
      "Metada file has 16449 items.\n",
      "Download URL: https://mapseries-tilesets.s3.amazonaws.com/os/6inchfirst/{z}/{x}/{y}.png\n",
      "Geometry: polygone\n"
     ]
    }
   ],
   "source": [
    "my_ts = TileServer(metadata_path=\"../persistent_data/metadata_OS_Six_Inch_GB_WFS_light.json\", download_url=\"https://mapseries-tilesets.s3.amazonaws.com/os/6inchfirst/{z}/{x}/{y}.png\")"
   ]
  },
  {
   "cell_type": "code",
   "execution_count": 3,
   "id": "d7bdb4ef",
   "metadata": {},
   "outputs": [],
   "source": [
    "lat_lon_list=[[55.732,-1.652],\n",
    "              [55.827,-3.319],\n",
    "              [55.944,-2.792],\n",
    "              [55.958,-1.99],\n",
    "              [56.171,-3.295],\n",
    "              [56.185,-2.7],\n",
    "              [56.489,-3.217],\n",
    "              [56.468,-2.842]] "
   ]
  },
  {
   "cell_type": "code",
   "execution_count": 4,
   "id": "f0893623",
   "metadata": {},
   "outputs": [
    {
     "ename": "AttributeError",
     "evalue": "module 'numpy' has no attribute 'float'.\n`np.float` was a deprecated alias for the builtin `float`. To avoid this error in existing code, use `float` by itself. Doing this will not modify any behavior and is safe. If you specifically wanted the numpy scalar type, use `np.float64` here.\nThe aliases was originally deprecated in NumPy 1.20; for more details and guidance see the original release note at:\n    https://numpy.org/devdocs/release/1.20.0-notes.html#deprecations",
     "output_type": "error",
     "traceback": [
      "\u001b[0;31m---------------------------------------------------------------------------\u001b[0m",
      "\u001b[0;31mAttributeError\u001b[0m                            Traceback (most recent call last)",
      "Cell \u001b[0;32mIn[4], line 1\u001b[0m\n\u001b[0;32m----> 1\u001b[0m \u001b[43mmy_ts\u001b[49m\u001b[38;5;241;43m.\u001b[39;49m\u001b[43mquery_point\u001b[49m\u001b[43m(\u001b[49m\u001b[43mlat_lon_list\u001b[49m\u001b[43m)\u001b[49m\n",
      "File \u001b[0;32m~/LwM/MapReader/mapreader/download/tileserver_access.py:134\u001b[0m, in \u001b[0;36mTileServer.query_point\u001b[0;34m(self, latlon_list, append)\u001b[0m\n\u001b[1;32m    132\u001b[0m \u001b[38;5;66;03m# Detect the boundaries of maps\u001b[39;00m\n\u001b[1;32m    133\u001b[0m \u001b[38;5;28;01mif\u001b[39;00m \u001b[38;5;129;01mnot\u001b[39;00m \u001b[38;5;28mself\u001b[39m\u001b[38;5;241m.\u001b[39mdetected_rect_boundary:\n\u001b[0;32m--> 134\u001b[0m     \u001b[38;5;28;43mself\u001b[39;49m\u001b[38;5;241;43m.\u001b[39;49m\u001b[43mcreate_info\u001b[49m\u001b[43m(\u001b[49m\u001b[43m)\u001b[49m\n\u001b[1;32m    136\u001b[0m \u001b[38;5;28;01mif\u001b[39;00m \u001b[38;5;129;01mnot\u001b[39;00m \u001b[38;5;28mtype\u001b[39m(latlon_list[\u001b[38;5;241m0\u001b[39m]) \u001b[38;5;241m==\u001b[39m \u001b[38;5;28mlist\u001b[39m:\n\u001b[1;32m    137\u001b[0m     latlon_list \u001b[38;5;241m=\u001b[39m [latlon_list]\n",
      "File \u001b[0;32m~/LwM/MapReader/mapreader/download/tileserver_access.py:91\u001b[0m, in \u001b[0;36mTileServer.create_info\u001b[0;34m(self)\u001b[0m\n\u001b[1;32m     89\u001b[0m     metadata_coord_arr\u001b[38;5;241m.\u001b[39mappend([min_lon, max_lon, min_lat, max_lat])\n\u001b[1;32m     90\u001b[0m \u001b[38;5;28mself\u001b[39m\u001b[38;5;241m.\u001b[39mmetadata_info_list \u001b[38;5;241m=\u001b[39m metadata_info_list\n\u001b[0;32m---> 91\u001b[0m \u001b[38;5;28mself\u001b[39m\u001b[38;5;241m.\u001b[39mmetadata_coord_arr \u001b[38;5;241m=\u001b[39m np\u001b[38;5;241m.\u001b[39marray(metadata_coord_arr)\u001b[38;5;241m.\u001b[39mastype(\u001b[43mnp\u001b[49m\u001b[38;5;241;43m.\u001b[39;49m\u001b[43mfloat\u001b[49m)\n\u001b[1;32m     92\u001b[0m \u001b[38;5;28mself\u001b[39m\u001b[38;5;241m.\u001b[39mdetected_rect_boundary \u001b[38;5;241m=\u001b[39m \u001b[38;5;28;01mTrue\u001b[39;00m\n",
      "File \u001b[0;32m~/miniconda3/envs/mr_test/lib/python3.8/site-packages/numpy/__init__.py:305\u001b[0m, in \u001b[0;36m__getattr__\u001b[0;34m(attr)\u001b[0m\n\u001b[1;32m    300\u001b[0m     warnings\u001b[38;5;241m.\u001b[39mwarn(\n\u001b[1;32m    301\u001b[0m         \u001b[38;5;124mf\u001b[39m\u001b[38;5;124m\"\u001b[39m\u001b[38;5;124mIn the future `np.\u001b[39m\u001b[38;5;132;01m{\u001b[39;00mattr\u001b[38;5;132;01m}\u001b[39;00m\u001b[38;5;124m` will be defined as the \u001b[39m\u001b[38;5;124m\"\u001b[39m\n\u001b[1;32m    302\u001b[0m         \u001b[38;5;124m\"\u001b[39m\u001b[38;5;124mcorresponding NumPy scalar.\u001b[39m\u001b[38;5;124m\"\u001b[39m, \u001b[38;5;167;01mFutureWarning\u001b[39;00m, stacklevel\u001b[38;5;241m=\u001b[39m\u001b[38;5;241m2\u001b[39m)\n\u001b[1;32m    304\u001b[0m \u001b[38;5;28;01mif\u001b[39;00m attr \u001b[38;5;129;01min\u001b[39;00m __former_attrs__:\n\u001b[0;32m--> 305\u001b[0m     \u001b[38;5;28;01mraise\u001b[39;00m \u001b[38;5;167;01mAttributeError\u001b[39;00m(__former_attrs__[attr])\n\u001b[1;32m    307\u001b[0m \u001b[38;5;66;03m# Importing Tester requires importing all of UnitTest which is not a\u001b[39;00m\n\u001b[1;32m    308\u001b[0m \u001b[38;5;66;03m# cheap import Since it is mainly used in test suits, we lazy import it\u001b[39;00m\n\u001b[1;32m    309\u001b[0m \u001b[38;5;66;03m# here to save on the order of 10 ms of import time for most users\u001b[39;00m\n\u001b[1;32m    310\u001b[0m \u001b[38;5;66;03m#\u001b[39;00m\n\u001b[1;32m    311\u001b[0m \u001b[38;5;66;03m# The previous way Tester was imported also had a side effect of adding\u001b[39;00m\n\u001b[1;32m    312\u001b[0m \u001b[38;5;66;03m# the full `numpy.testing` namespace\u001b[39;00m\n\u001b[1;32m    313\u001b[0m \u001b[38;5;28;01mif\u001b[39;00m attr \u001b[38;5;241m==\u001b[39m \u001b[38;5;124m'\u001b[39m\u001b[38;5;124mtesting\u001b[39m\u001b[38;5;124m'\u001b[39m:\n",
      "\u001b[0;31mAttributeError\u001b[0m: module 'numpy' has no attribute 'float'.\n`np.float` was a deprecated alias for the builtin `float`. To avoid this error in existing code, use `float` by itself. Doing this will not modify any behavior and is safe. If you specifically wanted the numpy scalar type, use `np.float64` here.\nThe aliases was originally deprecated in NumPy 1.20; for more details and guidance see the original release note at:\n    https://numpy.org/devdocs/release/1.20.0-notes.html#deprecations"
     ]
    }
   ],
   "source": [
    "my_ts.query_point(lat_lon_list)"
   ]
  },
  {
   "cell_type": "code",
   "execution_count": 5,
   "id": "c6ec4ecf",
   "metadata": {},
   "outputs": [
    {
     "name": "stdout",
     "output_type": "stream",
     "text": [
      "------------\n",
      "Found items:\n",
      "------------\n",
      "URL:     \thttps://maps.nls.uk/view/75523988\n",
      "filepath:\tmap_75523988.png\n",
      "coords:  \t[-3.38221067 -3.30492557 55.79909478 55.82823862]\n",
      "index:   \t3494\n",
      "====================\n",
      "URL:     \thttps://maps.nls.uk/view/75632154\n",
      "filepath:\tmap_75632154.png\n",
      "coords:  \t[-2.84265856 -2.7652947  55.91524771 55.94426035]\n",
      "index:   \t3611\n",
      "====================\n",
      "URL:     \thttps://maps.nls.uk/view/75533215\n",
      "filepath:\tmap_75533215.png\n",
      "coords:  \t[-3.30819291 -3.23026256 56.14620867 56.17530803]\n",
      "index:   \t5700\n",
      "====================\n",
      "URL:     \thttps://maps.nls.uk/view/75533136\n",
      "filepath:\tmap_75533136.png\n",
      "coords:  \t[-2.76407588 -2.68613196 56.17525949 56.20431904]\n",
      "index:   \t5693\n",
      "====================\n",
      "URL:     \thttps://maps.nls.uk/view/75655454\n",
      "filepath:\tmap_75655454.png\n",
      "coords:  \t[-3.22021696 -3.14141368 56.47340525 56.50267299]\n",
      "index:   \t7581\n",
      "====================\n",
      "URL:     \thttps://maps.nls.uk/view/75536837\n",
      "filepath:\tmap_75536837.png\n",
      "coords:  \t[-2.84529092 -2.76679344 56.46074477 56.4897776 ]\n",
      "index:   \t5973\n",
      "====================\n"
     ]
    }
   ],
   "source": [
    "my_ts.print_found_queries()"
   ]
  },
  {
   "cell_type": "code",
   "execution_count": null,
   "id": "f756a681",
   "metadata": {},
   "outputs": [],
   "source": [
    "my_ts.download_tileserver()"
   ]
  },
  {
   "cell_type": "code",
   "execution_count": null,
   "id": "b5463a42",
   "metadata": {},
   "outputs": [],
   "source": []
  }
 ],
 "metadata": {
  "kernelspec": {
   "display_name": "Python (mr_py38)",
   "language": "python",
   "name": "mr_py38"
  },
  "language_info": {
   "codemirror_mode": {
    "name": "ipython",
    "version": 3
   },
   "file_extension": ".py",
   "mimetype": "text/x-python",
   "name": "python",
   "nbconvert_exporter": "python",
   "pygments_lexer": "ipython3",
   "version": "3.8.16"
  }
 },
 "nbformat": 4,
 "nbformat_minor": 5
}
