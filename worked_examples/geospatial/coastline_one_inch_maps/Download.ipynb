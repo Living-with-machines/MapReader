{
 "cells": [
  {
   "cell_type": "markdown",
   "id": "e024ffdb",
   "metadata": {},
   "source": [
    "# Download - Via TileServer\n",
    "https://mapreader.readthedocs.io/en/latest/User-guide/Download.html"
   ]
  },
  {
   "cell_type": "code",
   "execution_count": 1,
   "id": "33f919eb",
   "metadata": {},
   "outputs": [],
   "source": [
    "from mapreader import TileServer"
   ]
  },
  {
   "cell_type": "code",
   "execution_count": 2,
   "id": "edc73ae0",
   "metadata": {},
   "outputs": [
    {
     "name": "stdout",
     "output_type": "stream",
     "text": [
      "Metada file has 480 items.\n",
      "Download URL: https://mapseries-tilesets.s3.amazonaws.com/1inch_2nd_ed/{z}/{x}/{y}.png\n",
      "Geometry: polygone\n"
     ]
    }
   ],
   "source": [
    "my_ts = TileServer(metadata_path=\"../../persistent_data/metadata_OS_One_Inch_GB_WFS_light.json\", \n",
    "                   download_url=\"https://mapseries-tilesets.s3.amazonaws.com/1inch_2nd_ed/{z}/{x}/{y}.png\")"
   ]
  },
  {
   "cell_type": "code",
   "execution_count": 11,
   "id": "5b2a13fb",
   "metadata": {},
   "outputs": [
    {
     "name": "stdout",
     "output_type": "stream",
     "text": [
      "------------\n",
      "Found items:\n",
      "------------\n",
      "URL:     \thttps://maps.nls.uk/view/101168237\n",
      "filepath:\tmap_101168237.png\n",
      "coords:  \t[-2.01269592 -1.54704939 55.69258163 55.86939703]\n",
      "index:   \t132\n",
      "====================\n",
      "URL:     \thttps://maps.nls.uk/view/74488700\n",
      "filepath:\tmap_74488700.png\n",
      "coords:  \t[-3.59999993 -2.96999993 55.78000003 56.05000003]\n",
      "index:   \t31\n",
      "====================\n",
      "URL:     \thttps://maps.nls.uk/view/74488705\n",
      "filepath:\tmap_74488705.png\n",
      "coords:  \t[-2.97999993 -2.34999993 55.78000003 56.04000003]\n",
      "index:   \t32\n",
      "====================\n",
      "URL:     \thttps://maps.nls.uk/view/74488711\n",
      "filepath:\tmap_74488711.png\n",
      "coords:  \t[-2.35999993 -1.72999993 55.77000003 56.04000003]\n",
      "index:   \t33\n",
      "====================\n",
      "URL:     \thttps://maps.nls.uk/view/74489038\n",
      "filepath:\tmap_74489038.png\n",
      "coords:  \t[-3.58999993 -2.96999993 56.04000003 56.31000003]\n",
      "index:   \t39\n",
      "====================\n",
      "URL:     \thttps://maps.nls.uk/view/74489041\n",
      "filepath:\tmap_74489041.png\n",
      "coords:  \t[-2.96999993 -2.33999993 56.04000003 56.30000003]\n",
      "index:   \t40\n",
      "====================\n",
      "URL:     \thttps://maps.nls.uk/view/74489062\n",
      "filepath:\tmap_74489062.png\n",
      "coords:  \t[-3.58999993 -2.95999993 56.30000003 56.57000003]\n",
      "index:   \t47\n",
      "====================\n",
      "URL:     \thttps://maps.nls.uk/view/74489065\n",
      "filepath:\tmap_74489065.png\n",
      "coords:  \t[-2.96999993 -2.32999993 56.30000003 56.56000003]\n",
      "index:   \t48\n",
      "====================\n"
     ]
    }
   ],
   "source": [
    "lat_lon_list=[[55.732,-1.652],\n",
    "              [55.827,-3.319],\n",
    "              [55.944,-2.792],\n",
    "              [55.958,-1.99],\n",
    "              [56.171,-3.295],\n",
    "              [56.185,-2.7],\n",
    "              [56.489,-3.217],\n",
    "              [56.468,-2.842]] \n",
    "\n",
    "my_ts.query_point(lat_lon_list)\n",
    "my_ts.print_found_queries()"
   ]
  },
  {
   "cell_type": "code",
   "execution_count": 10,
   "id": "340c6a45",
   "metadata": {
    "scrolled": false
   },
   "outputs": [
    {
     "name": "stdout",
     "output_type": "stream",
     "text": [
      "-------------------\n",
      "Retrieving:  https://maps.nls.uk/view/101168237\n",
      "Downloaded 330/330\n",
      "output image size: 5376 3584 tile size: 256 256\n",
      "Progress: 100.0%\n",
      "Saving\n",
      "-------------------\n",
      "Retrieving:  https://maps.nls.uk/view/74488700\n",
      "Downloaded 643/643\n",
      "output image size: 7168 5632 tile size: 256 256\n",
      "Progress: 100.0%\n",
      "Saving\n",
      "-------------------\n",
      "Retrieving:  https://maps.nls.uk/view/74488705\n",
      "Downloaded 641/641\n",
      "output image size: 7424 5376 tile size: 256 256\n",
      "Progress: 100.0%\n",
      "Saving\n",
      "-------------------\n",
      "Retrieving:  https://maps.nls.uk/view/74488711\n",
      "Downloaded 641/648\n",
      "output image size: 7168 5632 tile size: 256 256\n",
      "Progress: 100.0%\n",
      "Saving\n",
      "-------------------\n",
      "Retrieving:  https://maps.nls.uk/view/74489038\n",
      "Downloaded 648/648\n",
      "output image size: 7168 5632 tile size: 256 256\n",
      "Progress: 100.0%\n",
      "Saving\n",
      "-------------------\n",
      "Retrieving:  https://maps.nls.uk/view/74489041\n",
      "Downloaded 646/660\n",
      "output image size: 7424 5376 tile size: 256 256\n",
      "Progress: 100.0%\n",
      "Saving\n",
      "-------------------\n",
      "Retrieving:  https://maps.nls.uk/view/74489062\n",
      "Downloaded 666/666\n",
      "output image size: 7424 5632 tile size: 256 256\n",
      "Progress: 100.0%\n",
      "Saving\n",
      "-------------------\n",
      "Retrieving:  https://maps.nls.uk/view/74489065\n",
      "Downloaded 676/676\n",
      "output image size: 7424 5632 tile size: 256 256\n",
      "Progress: 100.0%\n",
      "Saving\n"
     ]
    }
   ],
   "source": [
    "my_ts.download_tileserver(output_maps_dirname='ts_downloaded_maps', output_metadata_filename='ts_downloaded_maps_metadata.csv')"
   ]
  },
  {
   "cell_type": "code",
   "execution_count": null,
   "id": "e0cbc96f",
   "metadata": {},
   "outputs": [],
   "source": []
  },
  {
   "cell_type": "code",
   "execution_count": null,
   "id": "7e93cb8b",
   "metadata": {},
   "outputs": [],
   "source": []
  },
  {
   "cell_type": "code",
   "execution_count": null,
   "id": "b5463a42",
   "metadata": {},
   "outputs": [],
   "source": []
  }
 ],
 "metadata": {
  "kernelspec": {
   "display_name": "Python (mr_py38)",
   "language": "python",
   "name": "mr_py38"
  },
  "language_info": {
   "codemirror_mode": {
    "name": "ipython",
    "version": 3
   },
   "file_extension": ".py",
   "mimetype": "text/x-python",
   "name": "python",
   "nbconvert_exporter": "python",
   "pygments_lexer": "ipython3",
   "version": "3.8.16"
  }
 },
 "nbformat": 4,
 "nbformat_minor": 5
}
