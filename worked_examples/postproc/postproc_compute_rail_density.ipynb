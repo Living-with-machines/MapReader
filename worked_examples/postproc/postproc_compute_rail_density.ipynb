{
 "cells": [
  {
   "cell_type": "markdown",
   "id": "e21d70ca",
   "metadata": {},
   "source": [
    "# Compute the density of railspace patches"
   ]
  },
  {
   "cell_type": "markdown",
   "id": "7938481b",
   "metadata": {},
   "source": [
    "For each railspace patch, this notebook computes the percentage of neighboring railspace patches, i.e.:\n",
    "\n",
    "```python\n",
    "railspace_neighboring_patches / total_neighboring_patches\n",
    "```\n",
    "\n",
    "The neighboring patches are all patches in a user-defined radius (in meters)."
   ]
  },
  {
   "cell_type": "code",
   "execution_count": null,
   "id": "de099676",
   "metadata": {},
   "outputs": [],
   "source": [
    "# solve issue with autocomplete\n",
    "%config Completer.use_jedi = False\n",
    "\n",
    "%load_ext autoreload\n",
    "%autoreload 2\n",
    "%matplotlib notebook"
   ]
  },
  {
   "cell_type": "code",
   "execution_count": null,
   "id": "87d5281f",
   "metadata": {},
   "outputs": [],
   "source": [
    "from IPython.core.display import display, HTML\n",
    "display(HTML(\"<style>.container { width:80% !important; }</style>\"))"
   ]
  },
  {
   "cell_type": "code",
   "execution_count": null,
   "id": "43d8dfdc",
   "metadata": {},
   "outputs": [],
   "source": [
    "import numpy as np\n",
    "import pandas as pd\n",
    "import pyproj\n",
    "from scipy import spatial"
   ]
  },
  {
   "cell_type": "markdown",
   "id": "bec8188b",
   "metadata": {},
   "source": [
    "## Inputs"
   ]
  },
  {
   "cell_type": "code",
   "execution_count": null,
   "id": "fe900107",
   "metadata": {},
   "outputs": [],
   "source": [
    "path2all_patches  = \"XXX\"\n",
    "path2rail_patches = \"XXX\"\n",
    "path2save_output  = \"XXX\"\n",
    "# user-defined radius (in meters) for neighbors\n",
    "distance_in_meters = 500\n",
    "\n",
    "# --- example\n",
    "# path2all_patches  = \"./resources/all_patches_latlonpred.csv\"\n",
    "# path2rail_patches = \"./results_v003/pred_0103_keep_1_250.csv\"\n",
    "# path2save_output  = \"./df_pred_0103_rail_density.csv\""
   ]
  },
  {
   "cell_type": "markdown",
   "id": "6c7f21f5",
   "metadata": {},
   "source": [
    "## Read all patches\n",
    "\n",
    "We use this to later compute `total_neighboring_patches` in this equation: \n",
    "\n",
    "```python\n",
    "railspace_neighboring_patches / total_neighboring_patches\n",
    "```"
   ]
  },
  {
   "cell_type": "code",
   "execution_count": null,
   "id": "5238c3fe",
   "metadata": {},
   "outputs": [],
   "source": [
    "all_patches_pd = pd.read_csv(path2all_patches)"
   ]
  },
  {
   "cell_type": "markdown",
   "id": "b9362160",
   "metadata": {},
   "source": [
    "## KD-tree for all patches"
   ]
  },
  {
   "cell_type": "code",
   "execution_count": null,
   "id": "29950ec0",
   "metadata": {},
   "outputs": [],
   "source": [
    "ecef = pyproj.Proj(proj='geocent', ellps='WGS84', datum='WGS84')\n",
    "lla = pyproj.Proj(proj='latlong', ellps='WGS84', datum='WGS84')\n",
    "\n",
    "x, y, z = pyproj.transform(lla, ecef,\n",
    "                           all_patches_pd[\"center_lon\"].to_numpy(),\n",
    "                           all_patches_pd[\"center_lat\"].to_numpy(),\n",
    "                           np.zeros(len(all_patches_pd[\"center_lat\"])),\n",
    "                           radians=False)\n",
    "\n",
    "# add x, y, z to df\n",
    "all_patches_pd[\"x\"] = x\n",
    "all_patches_pd[\"y\"] = y\n",
    "all_patches_pd[\"z\"] = z\n",
    "\n",
    "kdtree_patches = spatial.cKDTree(all_patches_pd[[\"x\", \"y\", \"z\"]].to_numpy())"
   ]
  },
  {
   "cell_type": "markdown",
   "id": "d0ac398d",
   "metadata": {},
   "source": [
    "## Read railspace patches"
   ]
  },
  {
   "cell_type": "code",
   "execution_count": null,
   "id": "4e89b9ca",
   "metadata": {},
   "outputs": [],
   "source": [
    "df_pred_0103 = pd.read_csv(path2rail_patches, index_col=0)"
   ]
  },
  {
   "cell_type": "code",
   "execution_count": null,
   "id": "c2b0935a",
   "metadata": {},
   "outputs": [],
   "source": [
    "df_pred_0103"
   ]
  },
  {
   "cell_type": "markdown",
   "id": "9581c6b6",
   "metadata": {},
   "source": [
    "## KD-tree for railspace patches"
   ]
  },
  {
   "cell_type": "code",
   "execution_count": null,
   "id": "1eb42ef4",
   "metadata": {},
   "outputs": [],
   "source": [
    "ecef = pyproj.Proj(proj='geocent', ellps='WGS84', datum='WGS84')\n",
    "lla = pyproj.Proj(proj='latlong', ellps='WGS84', datum='WGS84')\n",
    "\n",
    "x, y, z = pyproj.transform(lla, ecef,\n",
    "                           df_pred_0103[\"center_lon\"].to_numpy(),\n",
    "                           df_pred_0103[\"center_lat\"].to_numpy(),\n",
    "                           np.zeros(len(df_pred_0103[\"center_lat\"])),\n",
    "                           radians=False)\n",
    "\n",
    "# add x, y, z to df\n",
    "df_pred_0103[\"x\"] = x\n",
    "df_pred_0103[\"y\"] = y\n",
    "df_pred_0103[\"z\"] = z\n",
    "kdtree_0103 = spatial.cKDTree(df_pred_0103[[\"x\", \"y\", \"z\"]].to_numpy())"
   ]
  },
  {
   "cell_type": "code",
   "execution_count": null,
   "id": "9fd44d6c",
   "metadata": {},
   "outputs": [],
   "source": [
    "kdtree_pred_0103 = spatial.cKDTree(df_pred_0103[[\"x\", \"y\", \"z\"]].to_numpy())"
   ]
  },
  {
   "cell_type": "markdown",
   "id": "2e83dfd2",
   "metadata": {},
   "source": [
    "## Calculate density\n",
    "\n",
    "Now we can compute the terms in:\n",
    "\n",
    "```python\n",
    "railspace_neighboring_patches / total_neighboring_patches\n",
    "```"
   ]
  },
  {
   "cell_type": "code",
   "execution_count": null,
   "id": "06c83eaa",
   "metadata": {},
   "outputs": [],
   "source": [
    "print(\"[INFO] rails.....\")\n",
    "railspace_neighboring_patches = kdtree_pred_0103.query_ball_tree(kdtree_pred_0103, distance_in_meters)\n",
    "print(\"[INFO] patches...\")\n",
    "total_neighboring_patches     = kdtree_pred_0103.query_ball_tree(kdtree_patches, distance_in_meters)"
   ]
  },
  {
   "cell_type": "code",
   "execution_count": null,
   "id": "4ad74237",
   "metadata": {},
   "outputs": [],
   "source": [
    "num_railspace_neighboring_patches   = [len(x) for x in railspace_neighboring_patches]\n",
    "num_total_neighboring_patches       = [len(x) for x in total_neighboring_patches]"
   ]
  },
  {
   "cell_type": "code",
   "execution_count": null,
   "id": "500e808e",
   "metadata": {},
   "outputs": [],
   "source": [
    "df_pred_0103[\"perc_neigh_rails\"]  = num_railspace_neighboring_patches  / (np.array(num_total_neighboring_patches) + 1e-32) * 100."
   ]
  },
  {
   "cell_type": "code",
   "execution_count": null,
   "id": "cb2a10bd",
   "metadata": {},
   "outputs": [],
   "source": [
    "df_pred_0103.iloc[0]"
   ]
  },
  {
   "cell_type": "code",
   "execution_count": null,
   "id": "bcf33450",
   "metadata": {},
   "outputs": [],
   "source": [
    "df_pred_0103.to_csv(path2save_output)"
   ]
  }
 ],
 "metadata": {
  "kernelspec": {
   "display_name": "Python (mr_py38)",
   "language": "python",
   "name": "mr_py38"
  },
  "language_info": {
   "codemirror_mode": {
    "name": "ipython",
    "version": 3
   },
   "file_extension": ".py",
   "mimetype": "text/x-python",
   "name": "python",
   "nbconvert_exporter": "python",
   "pygments_lexer": "ipython3",
   "version": "3.8.12"
  }
 },
 "nbformat": 4,
 "nbformat_minor": 5
}
