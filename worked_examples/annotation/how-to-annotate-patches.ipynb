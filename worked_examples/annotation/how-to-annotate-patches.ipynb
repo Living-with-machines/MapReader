{
 "cells": [
  {
   "attachments": {},
   "cell_type": "markdown",
   "metadata": {},
   "source": [
    "# How to annotate patches on a map sheet.\n",
    "\n",
    "In this example, we will download one sheet — WFS ID 439, and start annotating it."
   ]
  },
  {
   "attachments": {},
   "cell_type": "markdown",
   "metadata": {},
   "source": [
    "## Import all necessary components of MapReader"
   ]
  },
  {
   "cell_type": "code",
   "execution_count": null,
   "metadata": {},
   "outputs": [],
   "source": [
    "from mapreader import SheetDownloader, loader\n",
    "from mapreader.annotate import Annotator"
   ]
  },
  {
   "attachments": {},
   "cell_type": "markdown",
   "metadata": {},
   "source": [
    "## Define parameters and query for SheetDownloader"
   ]
  },
  {
   "cell_type": "code",
   "execution_count": null,
   "metadata": {},
   "outputs": [],
   "source": [
    "my_ts = SheetDownloader(\n",
    "    metadata_path=\"../persistent_data/metadata_OS_One_Inch_GB_WFS_light.json\",\n",
    "    download_url=\"https://mapseries-tilesets.s3.amazonaws.com/1inch_2nd_ed/{z}/{x}/{y}.png\",\n",
    ")\n",
    "\n",
    "my_ts.query_map_sheets_by_wfs_ids(439)"
   ]
  },
  {
   "cell_type": "code",
   "execution_count": null,
   "metadata": {},
   "outputs": [],
   "source": [
    "# Set zoom level\n",
    "my_ts.get_grid_bb()"
   ]
  },
  {
   "attachments": {},
   "cell_type": "markdown",
   "metadata": {},
   "source": [
    "## Download!"
   ]
  },
  {
   "cell_type": "code",
   "execution_count": null,
   "metadata": {},
   "outputs": [],
   "source": [
    "# Download\n",
    "my_ts.download_map_sheets_by_queries(path_save=\"./download/maps\")"
   ]
  },
  {
   "attachments": {},
   "cell_type": "markdown",
   "metadata": {},
   "source": [
    "## Patchify!"
   ]
  },
  {
   "cell_type": "code",
   "execution_count": null,
   "metadata": {},
   "outputs": [],
   "source": [
    "# First load all the files\n",
    "my_files = loader(\"./download/maps/*.png\")\n",
    "my_files.add_metadata(metadata=\"./download/maps/metadata.csv\")"
   ]
  },
  {
   "cell_type": "code",
   "execution_count": null,
   "metadata": {},
   "outputs": [],
   "source": [
    "# Then patchify!\n",
    "my_files.patchify_all(path_save=\"./download/patches\")"
   ]
  },
  {
   "attachments": {},
   "cell_type": "markdown",
   "metadata": {},
   "source": [
    "## Preview the map\n",
    "\n",
    "Let's have a quick look at our map."
   ]
  },
  {
   "cell_type": "code",
   "execution_count": null,
   "metadata": {},
   "outputs": [],
   "source": [
    "my_files.show_sample(num_samples=1)"
   ]
  },
  {
   "attachments": {},
   "cell_type": "markdown",
   "metadata": {},
   "source": [
    "## Annotate patches\n",
    "\n",
    "Now, we're ready to annotate patches. Let's set up an `Annotator`:"
   ]
  },
  {
   "cell_type": "code",
   "execution_count": null,
   "metadata": {},
   "outputs": [],
   "source": [
    "annotator = Annotator(\n",
    "    parents=\"./download/maps/*.png\",\n",
    "    patches=\"./download/patches/*.png\",\n",
    "    metadata=\"./download/maps/metadata.csv\",\n",
    "    metadata_delimiter=\"\\t\",\n",
    "    labels=[\"label 1\", \"label 2\"],\n",
    "    username=\"rosie\"\n",
    ")"
   ]
  },
  {
   "cell_type": "code",
   "execution_count": null,
   "metadata": {},
   "outputs": [],
   "source": [
    "annotator.annotate()"
   ]
  },
  {
   "attachments": {},
   "cell_type": "markdown",
   "metadata": {},
   "source": [
    "As you're progressing through the patches to annotate them, you'll see a file in the `annotations` directory here:"
   ]
  },
  {
   "cell_type": "code",
   "execution_count": null,
   "metadata": {},
   "outputs": [],
   "source": [
    "from pathlib import Path\n",
    "[str(x) for x in Path(\"./annotations/\").glob(\"*.csv\")]"
   ]
  },
  {
   "attachments": {},
   "cell_type": "markdown",
   "metadata": {},
   "source": [
    "You can also access the annotations as a DataFrame here in Jupyter:"
   ]
  },
  {
   "cell_type": "code",
   "execution_count": null,
   "metadata": {},
   "outputs": [],
   "source": [
    "annotator.filtered"
   ]
  }
 ],
 "metadata": {
  "kernelspec": {
   "display_name": "mr_py38",
   "language": "python",
   "name": "python3"
  },
  "language_info": {
   "codemirror_mode": {
    "name": "ipython",
    "version": 3
   },
   "file_extension": ".py",
   "mimetype": "text/x-python",
   "name": "python",
   "nbconvert_exporter": "python",
   "pygments_lexer": "ipython3",
   "version": "3.8.16"
  },
  "orig_nbformat": 4
 },
 "nbformat": 4,
 "nbformat_minor": 2
}
